{
 "cells": [
  {
   "cell_type": "markdown",
   "metadata": {},
   "source": [
    "# A/B Testing the Udacity Website\n",
    "\n",
    "In these exercises, we'll be analyzing data on user behavior from an experiment run by Udacity, the online education company. More specifically, we'll be looking at a test Udacity ran to improve the onboarding process on their site.\n",
    "\n",
    "Udacity's test is an example of an \"A/B\" test, in which some portion of users visiting a website (or using an app) are randomly selected to see a new version of the site. An analyst can then compare the behavior of users who see a new website design to users seeing their normal website to estimate the effect of rolling out the proposed changes to all users. While this kind of experiment has it's own name in industry (A/B testing), to be clear it's just a randomized experiment, and so everything we've learned about potential outcomes and randomized experiments apply here. \n",
    "\n",
    "(Udacity has generously provides the data from this test under an Apache open-source license, and you can find their [original writeup here](https://www.kaggle.com/tammyrotem/ab-tests-with-python/notebook). If you're interested in learning more on A/B testing in particular, it seems only fair while we use their data to flag they have a full course on the subject [here](https://www.udacity.com/course/ab-testing--ud257).)\n",
    "\n",
    "## Udacity's Test\n",
    "\n",
    "The test [is described by Udacity as follows](https://www.kaggle.com/tammyrotem/ab-tests-with-python/notebook): \n",
    "\n",
    "At the time of this experiment, Udacity courses currently have two options on the course overview page: \"start free trial\", and \"access course materials\".\n",
    "\n",
    "**Current Conditions Before Change**\n",
    "\n",
    "- If the student clicks \"start free trial\", they will be asked to enter their credit card information, and then they will be enrolled in a free trial for the paid version of the course. After 14 days, they will automatically be charged unless they cancel first.\n",
    "- If the student clicks \"access course materials\", they will be able to view the videos and take the quizzes for free, but they will not receive coaching support or a verified certificate, and they will not submit their final project for feedback.\n",
    "\n",
    "**Description of Experimented Change**\n",
    "\n",
    "- In the experiment, Udacity tested a change where if the student clicked \"start free trial\", they were asked how much time they had available to devote to the course.\n",
    "- If the student indicated 5 or more hours per week, they would be taken through the checkout process as usual. If they indicated fewer than 5 hours per week, a message would appear indicating that Udacity courses usually require a greater time commitment for successful completion, and suggesting that the student might like to access the course materials for free.\n",
    "- At this point, the student would have the option to continue enrolling in the free trial, or access the course materials for free instead. This [screenshot](images/udacity_checkyoureready.png) shows what the experiment looks like.\n",
    "\n",
    "**Udacity's Hope is that...**:\n",
    "\n",
    "> this might set clearer expectations for students upfront, thus reducing the number of frustrated students who left the free trial because they didn't have enough time -- without significantly reducing the number of students to continue past the free trial and eventually complete the course. If this hypothesis held true, Udacity could improve the overall student experience and improve coaches' capacity to support students who are likely to complete the course.\n"
   ]
  },
  {
   "cell_type": "markdown",
   "metadata": {},
   "source": [
    "\n",
    "## Gradescope Autograding\n",
    "\n",
    "Please follow [all standard guidance](https://www.practicaldatascience.org/html/autograder_guidelines.html) for submitting this assignment to the Gradescope autograder, including storing your solutions in a dictionary called `results` and ensuring your notebook runs from the start to completion without any errors.\n",
    "\n",
    "For this assignment, please name your file `exercise_abtesting.ipynb` before uploading.\n",
    "\n",
    "You can check that you have answers for all questions in your `results` dictionary with this code:\n",
    "\n",
    "```python\n",
    "assert set(results.keys()) == {\n",
    "    \"ex4_avg_oec\",\n",
    "    \"ex5_avg_guardrail\",\n",
    "    \"ex7_ttest_pvalue\",\n",
    "    \"ex9_ttest_pvalue_clicks\",\n",
    "    \"ex10_num_obs\",\n",
    "    \"ex11_guard_ate\",\n",
    "    \"ex11_guard_pvalue\",\n",
    "    \"ex11_oec_ate\",\n",
    "    \"ex11_oec_pvalue\",\n",
    "    \"ex14_se_treatment\",\n",
    "}\n",
    "```\n",
    "\n",
    "\n",
    "### Submission Limits\n",
    "\n",
    "Please remember that you are **only allowed FOUR submissions to the autograder.** Your last submission (if you submit 4 or fewer times), or your third submission (if you submit more than 4 times) will determine your grade Submissions that error out will **not** count against this total.\n",
    "\n",
    "That's one more than usual in case there are issues with exercise clarity."
   ]
  },
  {
   "cell_type": "code",
   "execution_count": 1,
   "metadata": {},
   "outputs": [
    {
     "name": "stderr",
     "output_type": "stream",
     "text": [
      "/tmp/ipykernel_1754/1973244888.py:3: DeprecationWarning: \n",
      "Pyarrow will become a required dependency of pandas in the next major release of pandas (pandas 3.0),\n",
      "(to allow more performant data types, such as the Arrow string type, and better interoperability with other libraries)\n",
      "but was not found to be installed on your system.\n",
      "If this would cause problems for you,\n",
      "please provide us feedback at https://github.com/pandas-dev/pandas/issues/54466\n",
      "        \n",
      "  import pandas as pd\n"
     ]
    }
   ],
   "source": [
    "import warnings\n",
    "import numpy as np\n",
    "import pandas as pd\n",
    "\n",
    "warnings.filterwarnings(\"ignore\")\n",
    "pd.set_option(\"mode.copy_on_write\", True)\n",
    "\n",
    "results = {}"
   ]
  },
  {
   "cell_type": "markdown",
   "metadata": {},
   "source": [
    "## Import the Data"
   ]
  },
  {
   "cell_type": "markdown",
   "metadata": {},
   "source": [
    "### Exercise 1\n",
    "\n",
    "Begin by importing Udacity's data on user behavior [here.](https://github.com/nickeubank/MIDS_Data/tree/master/udacity_AB_testing) \n",
    "\n",
    "There are TWO datasets for this test — one for the control data (users who saw the original design), and one for treatment data (users who saw the experimental design). Udacity decided to show their test site to 1/2 of visitors, so there are roughly the same number of users appearing in each dataset (though this is not a requirement of AB tests).\n",
    "\n",
    "Please remember to load the data directly from github to assist the autograder."
   ]
  },
  {
   "cell_type": "code",
   "execution_count": 2,
   "metadata": {},
   "outputs": [
    {
     "data": {
      "text/html": [
       "<div>\n",
       "<style scoped>\n",
       "    .dataframe tbody tr th:only-of-type {\n",
       "        vertical-align: middle;\n",
       "    }\n",
       "\n",
       "    .dataframe tbody tr th {\n",
       "        vertical-align: top;\n",
       "    }\n",
       "\n",
       "    .dataframe thead th {\n",
       "        text-align: right;\n",
       "    }\n",
       "</style>\n",
       "<table border=\"1\" class=\"dataframe\">\n",
       "  <thead>\n",
       "    <tr style=\"text-align: right;\">\n",
       "      <th></th>\n",
       "      <th>Date</th>\n",
       "      <th>Pageviews</th>\n",
       "      <th>Clicks</th>\n",
       "      <th>Enrollments</th>\n",
       "      <th>Payments</th>\n",
       "    </tr>\n",
       "  </thead>\n",
       "  <tbody>\n",
       "    <tr>\n",
       "      <th>0</th>\n",
       "      <td>Sat, Oct 11</td>\n",
       "      <td>7723</td>\n",
       "      <td>687</td>\n",
       "      <td>134.0</td>\n",
       "      <td>70.0</td>\n",
       "    </tr>\n",
       "    <tr>\n",
       "      <th>1</th>\n",
       "      <td>Sun, Oct 12</td>\n",
       "      <td>9102</td>\n",
       "      <td>779</td>\n",
       "      <td>147.0</td>\n",
       "      <td>70.0</td>\n",
       "    </tr>\n",
       "    <tr>\n",
       "      <th>2</th>\n",
       "      <td>Mon, Oct 13</td>\n",
       "      <td>10511</td>\n",
       "      <td>909</td>\n",
       "      <td>167.0</td>\n",
       "      <td>95.0</td>\n",
       "    </tr>\n",
       "    <tr>\n",
       "      <th>3</th>\n",
       "      <td>Tue, Oct 14</td>\n",
       "      <td>9871</td>\n",
       "      <td>836</td>\n",
       "      <td>156.0</td>\n",
       "      <td>105.0</td>\n",
       "    </tr>\n",
       "    <tr>\n",
       "      <th>4</th>\n",
       "      <td>Wed, Oct 15</td>\n",
       "      <td>10014</td>\n",
       "      <td>837</td>\n",
       "      <td>163.0</td>\n",
       "      <td>64.0</td>\n",
       "    </tr>\n",
       "  </tbody>\n",
       "</table>\n",
       "</div>"
      ],
      "text/plain": [
       "          Date  Pageviews  Clicks  Enrollments  Payments\n",
       "0  Sat, Oct 11       7723     687        134.0      70.0\n",
       "1  Sun, Oct 12       9102     779        147.0      70.0\n",
       "2  Mon, Oct 13      10511     909        167.0      95.0\n",
       "3  Tue, Oct 14       9871     836        156.0     105.0\n",
       "4  Wed, Oct 15      10014     837        163.0      64.0"
      ]
     },
     "execution_count": 2,
     "metadata": {},
     "output_type": "execute_result"
    }
   ],
   "source": [
    "controlurl = \"https://media.githubusercontent.com/media/nickeubank/MIDS_Data/master/udacity_AB_testing/control_data.csv\"\n",
    "experimenturl = \"https://media.githubusercontent.com/media/nickeubank/MIDS_Data/master/udacity_AB_testing/experiment_data.csv\"\n",
    "\n",
    "control_data = pd.read_csv(controlurl)\n",
    "\n",
    "control_data.head()"
   ]
  },
  {
   "cell_type": "code",
   "execution_count": 3,
   "metadata": {},
   "outputs": [
    {
     "name": "stdout",
     "output_type": "stream",
     "text": [
      "<class 'pandas.core.frame.DataFrame'>\n",
      "RangeIndex: 37 entries, 0 to 36\n",
      "Data columns (total 5 columns):\n",
      " #   Column       Non-Null Count  Dtype  \n",
      "---  ------       --------------  -----  \n",
      " 0   Date         37 non-null     object \n",
      " 1   Pageviews    37 non-null     int64  \n",
      " 2   Clicks       37 non-null     int64  \n",
      " 3   Enrollments  23 non-null     float64\n",
      " 4   Payments     23 non-null     float64\n",
      "dtypes: float64(2), int64(2), object(1)\n",
      "memory usage: 1.6+ KB\n"
     ]
    }
   ],
   "source": [
    "control_data.info()"
   ]
  },
  {
   "cell_type": "code",
   "execution_count": 4,
   "metadata": {},
   "outputs": [
    {
     "data": {
      "text/plain": [
       "37"
      ]
     },
     "execution_count": 4,
     "metadata": {},
     "output_type": "execute_result"
    }
   ],
   "source": [
    "control_data[\"Date\"].nunique()"
   ]
  },
  {
   "cell_type": "code",
   "execution_count": 5,
   "metadata": {},
   "outputs": [
    {
     "data": {
      "text/html": [
       "<div>\n",
       "<style scoped>\n",
       "    .dataframe tbody tr th:only-of-type {\n",
       "        vertical-align: middle;\n",
       "    }\n",
       "\n",
       "    .dataframe tbody tr th {\n",
       "        vertical-align: top;\n",
       "    }\n",
       "\n",
       "    .dataframe thead th {\n",
       "        text-align: right;\n",
       "    }\n",
       "</style>\n",
       "<table border=\"1\" class=\"dataframe\">\n",
       "  <thead>\n",
       "    <tr style=\"text-align: right;\">\n",
       "      <th></th>\n",
       "      <th>Date</th>\n",
       "      <th>Pageviews</th>\n",
       "      <th>Clicks</th>\n",
       "      <th>Enrollments</th>\n",
       "      <th>Payments</th>\n",
       "    </tr>\n",
       "  </thead>\n",
       "  <tbody>\n",
       "    <tr>\n",
       "      <th>0</th>\n",
       "      <td>Sat, Oct 11</td>\n",
       "      <td>7716</td>\n",
       "      <td>686</td>\n",
       "      <td>105.0</td>\n",
       "      <td>34.0</td>\n",
       "    </tr>\n",
       "    <tr>\n",
       "      <th>1</th>\n",
       "      <td>Sun, Oct 12</td>\n",
       "      <td>9288</td>\n",
       "      <td>785</td>\n",
       "      <td>116.0</td>\n",
       "      <td>91.0</td>\n",
       "    </tr>\n",
       "    <tr>\n",
       "      <th>2</th>\n",
       "      <td>Mon, Oct 13</td>\n",
       "      <td>10480</td>\n",
       "      <td>884</td>\n",
       "      <td>145.0</td>\n",
       "      <td>79.0</td>\n",
       "    </tr>\n",
       "    <tr>\n",
       "      <th>3</th>\n",
       "      <td>Tue, Oct 14</td>\n",
       "      <td>9867</td>\n",
       "      <td>827</td>\n",
       "      <td>138.0</td>\n",
       "      <td>92.0</td>\n",
       "    </tr>\n",
       "    <tr>\n",
       "      <th>4</th>\n",
       "      <td>Wed, Oct 15</td>\n",
       "      <td>9793</td>\n",
       "      <td>832</td>\n",
       "      <td>140.0</td>\n",
       "      <td>94.0</td>\n",
       "    </tr>\n",
       "  </tbody>\n",
       "</table>\n",
       "</div>"
      ],
      "text/plain": [
       "          Date  Pageviews  Clicks  Enrollments  Payments\n",
       "0  Sat, Oct 11       7716     686        105.0      34.0\n",
       "1  Sun, Oct 12       9288     785        116.0      91.0\n",
       "2  Mon, Oct 13      10480     884        145.0      79.0\n",
       "3  Tue, Oct 14       9867     827        138.0      92.0\n",
       "4  Wed, Oct 15       9793     832        140.0      94.0"
      ]
     },
     "execution_count": 5,
     "metadata": {},
     "output_type": "execute_result"
    }
   ],
   "source": [
    "experiment_data = pd.read_csv(experimenturl)\n",
    "\n",
    "experiment_data.head()"
   ]
  },
  {
   "cell_type": "code",
   "execution_count": 6,
   "metadata": {},
   "outputs": [
    {
     "name": "stdout",
     "output_type": "stream",
     "text": [
      "<class 'pandas.core.frame.DataFrame'>\n",
      "RangeIndex: 37 entries, 0 to 36\n",
      "Data columns (total 5 columns):\n",
      " #   Column       Non-Null Count  Dtype  \n",
      "---  ------       --------------  -----  \n",
      " 0   Date         37 non-null     object \n",
      " 1   Pageviews    37 non-null     int64  \n",
      " 2   Clicks       37 non-null     int64  \n",
      " 3   Enrollments  23 non-null     float64\n",
      " 4   Payments     23 non-null     float64\n",
      "dtypes: float64(2), int64(2), object(1)\n",
      "memory usage: 1.6+ KB\n"
     ]
    }
   ],
   "source": [
    "experiment_data.info()"
   ]
  },
  {
   "cell_type": "markdown",
   "metadata": {},
   "source": [
    "### Exercise 2\n",
    "\n",
    "Explore the data. Can you identify the unit of observation of the data (e.g. what is represented by each row)?\n",
    "\n",
    "(Note this is not the only way that A/B test data can be collected and/or reported — this is just what Udacity provided, presumably to help address privacy concerns.)"
   ]
  },
  {
   "cell_type": "markdown",
   "metadata": {},
   "source": [
    "> Each row in the data represents the number of Page Views, Clicks, Enrollments to courses, and payments for courses in a single day. The `control` data contains information about the people who had access to the old website and the `experiment` data shows the behaviour of people who used the new website.\n",
    "\n",
    "> Thus, the unit of observation in the datasets appears to be daily aggregates for user interactions with the course overview page on the Udacity website."
   ]
  },
  {
   "attachments": {},
   "cell_type": "markdown",
   "metadata": {},
   "source": [
    "## Pick your measures"
   ]
  },
  {
   "cell_type": "markdown",
   "metadata": {},
   "source": [
    "### Exercise 3\n",
    "\n",
    "The easiest way to analyze this data is to stack it into a single dataset where each observation is a day-treatment-arm (so you should end up with two rows per day, one for those who are in the treated groups, and one for those who were in the control group). Note that currently nothing in the data identifies whether a given observation is a treatment group observation or a control group observation, so you'll want to make sure to add a \"treatment\" indicator variable.\n",
    "\n",
    "The variables in the data are:\n",
    "\n",
    "- Pageviews: number of unique users visiting homepage\n",
    "- Clicks: number of those users clicking \"Start Free Trial\"\n",
    "- Enrollments: Number of people enrolling in trial\n",
    "- Payments: Number of people who eventually pay for the service. Note the `payment` column reports payments for the users who first visited the site on the reported date, not payments occurring on the reported date."
   ]
  },
  {
   "cell_type": "code",
   "execution_count": 7,
   "metadata": {},
   "outputs": [
    {
     "data": {
      "text/html": [
       "<div>\n",
       "<style scoped>\n",
       "    .dataframe tbody tr th:only-of-type {\n",
       "        vertical-align: middle;\n",
       "    }\n",
       "\n",
       "    .dataframe tbody tr th {\n",
       "        vertical-align: top;\n",
       "    }\n",
       "\n",
       "    .dataframe thead th {\n",
       "        text-align: right;\n",
       "    }\n",
       "</style>\n",
       "<table border=\"1\" class=\"dataframe\">\n",
       "  <thead>\n",
       "    <tr style=\"text-align: right;\">\n",
       "      <th></th>\n",
       "      <th>Date</th>\n",
       "      <th>Pageviews</th>\n",
       "      <th>Clicks</th>\n",
       "      <th>Enrollments</th>\n",
       "      <th>Payments</th>\n",
       "      <th>treatment</th>\n",
       "    </tr>\n",
       "  </thead>\n",
       "  <tbody>\n",
       "    <tr>\n",
       "      <th>0</th>\n",
       "      <td>Sat, Oct 11</td>\n",
       "      <td>7723</td>\n",
       "      <td>687</td>\n",
       "      <td>134.0</td>\n",
       "      <td>70.0</td>\n",
       "      <td>0</td>\n",
       "    </tr>\n",
       "    <tr>\n",
       "      <th>1</th>\n",
       "      <td>Sun, Oct 12</td>\n",
       "      <td>9102</td>\n",
       "      <td>779</td>\n",
       "      <td>147.0</td>\n",
       "      <td>70.0</td>\n",
       "      <td>0</td>\n",
       "    </tr>\n",
       "    <tr>\n",
       "      <th>2</th>\n",
       "      <td>Mon, Oct 13</td>\n",
       "      <td>10511</td>\n",
       "      <td>909</td>\n",
       "      <td>167.0</td>\n",
       "      <td>95.0</td>\n",
       "      <td>0</td>\n",
       "    </tr>\n",
       "    <tr>\n",
       "      <th>3</th>\n",
       "      <td>Tue, Oct 14</td>\n",
       "      <td>9871</td>\n",
       "      <td>836</td>\n",
       "      <td>156.0</td>\n",
       "      <td>105.0</td>\n",
       "      <td>0</td>\n",
       "    </tr>\n",
       "    <tr>\n",
       "      <th>4</th>\n",
       "      <td>Wed, Oct 15</td>\n",
       "      <td>10014</td>\n",
       "      <td>837</td>\n",
       "      <td>163.0</td>\n",
       "      <td>64.0</td>\n",
       "      <td>0</td>\n",
       "    </tr>\n",
       "  </tbody>\n",
       "</table>\n",
       "</div>"
      ],
      "text/plain": [
       "          Date  Pageviews  Clicks  Enrollments  Payments  treatment\n",
       "0  Sat, Oct 11       7723     687        134.0      70.0          0\n",
       "1  Sun, Oct 12       9102     779        147.0      70.0          0\n",
       "2  Mon, Oct 13      10511     909        167.0      95.0          0\n",
       "3  Tue, Oct 14       9871     836        156.0     105.0          0\n",
       "4  Wed, Oct 15      10014     837        163.0      64.0          0"
      ]
     },
     "execution_count": 7,
     "metadata": {},
     "output_type": "execute_result"
    }
   ],
   "source": [
    "# let's create a treatment column on each dataset and combine those\n",
    "control_data[\"treatment\"] = 0\n",
    "experiment_data[\"treatment\"] = 1\n",
    "\n",
    "combined_data = pd.concat([control_data, experiment_data])\n",
    "\n",
    "combined_data.head()"
   ]
  },
  {
   "cell_type": "code",
   "execution_count": 8,
   "metadata": {},
   "outputs": [
    {
     "name": "stdout",
     "output_type": "stream",
     "text": [
      "<class 'pandas.core.frame.DataFrame'>\n",
      "Index: 74 entries, 0 to 36\n",
      "Data columns (total 6 columns):\n",
      " #   Column       Non-Null Count  Dtype  \n",
      "---  ------       --------------  -----  \n",
      " 0   Date         74 non-null     object \n",
      " 1   Pageviews    74 non-null     int64  \n",
      " 2   Clicks       74 non-null     int64  \n",
      " 3   Enrollments  46 non-null     float64\n",
      " 4   Payments     46 non-null     float64\n",
      " 5   treatment    74 non-null     int64  \n",
      "dtypes: float64(2), int64(3), object(1)\n",
      "memory usage: 4.0+ KB\n"
     ]
    }
   ],
   "source": [
    "combined_data.info()"
   ]
  },
  {
   "attachments": {},
   "cell_type": "markdown",
   "metadata": {},
   "source": [
    "### Exercise 4\n",
    "\n",
    "Given Udacity's goals, what outcome are they hoping will be impacted by their manipulation?\n",
    "\n",
    "Or, to ask the same question in the language of the Potential Outcomes Framework, what is their $Y$?\n",
    "\n",
    "Or to ask the same question in the language of Kohavi, Tang and Xu, what is their *Overall Evaluation Criterion (OEC)*?\n",
    "\n",
    "(I'm only asking one question, I'm just trying to phrase it using different terminologies we've encountered to help you see how they all fit together)\n",
    "\n",
    "When you feel like you have your answer, please compute it. Store the average value of the variable in `results` under the key `ex4_avg_oec`. **Please round your answer to 4 decimal places.**\n",
    "\n",
    "NOTE: You'll probably notice you have two choices to make when it comes to actually computing the OEC. \n",
    "\n",
    "- You could probably imagine either computing a ratio or a difference of two things — please calculate the difference.\n",
    "- You may also be unsure whether to normalize by `Clicks`. Normalizing by clicks will help account for variation that comes from day-to-day variation in users, so it's a good thing to do. With infinite data, you'd expect to get the same results without normalizing by `Clicks` (since on average the same share of users are in each arm of the experiment), but for finite data it's a good strategy. Note that this is only ok because users make the choice to click or not *before* they see different versions of the website (it is \"pre-treatment\").\n",
    "\n",
    "Just to make sure you're on track, your measure should have an average value of *about* 9%."
   ]
  },
  {
   "cell_type": "markdown",
   "metadata": {},
   "source": [
    "**ANSWER**\n",
    "\n",
    "> Given Udacity's goals and the context of their A/B testing experiment, their primary outcome or Overall Evaluation Criterion (OEC) is likely the improvement in the rate at which users who start the free trial move on to make a payment. It reflects the Udacity's hope that clearer expectation set at the start will lead to a higher rate of committed students."
   ]
  },
  {
   "cell_type": "code",
   "execution_count": 9,
   "metadata": {},
   "outputs": [
    {
     "data": {
      "text/plain": [
       "{'ex4_avg_oec': 0.0941}"
      ]
     },
     "execution_count": 9,
     "metadata": {},
     "output_type": "execute_result"
    }
   ],
   "source": [
    "# let's start by looking at the difference in payments normalized by clicks\n",
    "\n",
    "combined_data[\"diff_normalized_by_clicks\"] = (\n",
    "    combined_data[\"Enrollments\"] - combined_data[\"Payments\"]\n",
    ") / combined_data[\"Clicks\"]\n",
    "\n",
    "ex4_avg_oec = combined_data[\"diff_normalized_by_clicks\"].mean()\n",
    "\n",
    "results[\"ex4_avg_oec\"] = round(ex4_avg_oec, 4)\n",
    "\n",
    "results"
   ]
  },
  {
   "attachments": {},
   "cell_type": "markdown",
   "metadata": {},
   "source": [
    "### Exercise 5\n",
    "\n",
    "Given Udacity's goals, what outcome are they hoping will *not* be impacted by their manipulation? In other words, what do they want to measure to ensure their treatment doesn't have unintended negative consequences that might be really costly to their operation?\n",
    "\n",
    "Note that while this isn't how Kohavi, Tang, and Xu use the term \"guardrail metrics\" — they usually use the term to refer to things we measure to ensure the experiment is working the way it should — some people would also use the term \"guardrail metrics\" for something that could be impacted even if the experiment is working correctly, but which the organization wants to track to ensure they aren't impacted because they are deemed really important.\n",
    "\n",
    "Again, please normalize by `Clicks`. Store the average value of this guardrail metric as `ex5_avg_guardrail` and **round your answer to 4 decimal places.**"
   ]
  },
  {
   "cell_type": "markdown",
   "metadata": {},
   "source": [
    "**ANSWER**\n",
    "\n",
    "> From the hint in this exercise, it looks like we need to calculate the conversion rate from clicks which indeed ensures that the treatment - asking users about their time commitment - doesn't adversely affect the likelihood of users enrolling after clicking. It serves as a critical check against unintended negative consequences of the experiment."
   ]
  },
  {
   "cell_type": "code",
   "execution_count": 10,
   "metadata": {},
   "outputs": [
    {
     "data": {
      "text/plain": [
       "{'ex4_avg_oec': 0.0941, 'ex5_avg_guardrail': 0.21}"
      ]
     },
     "execution_count": 10,
     "metadata": {},
     "output_type": "execute_result"
    }
   ],
   "source": [
    "combined_data[\"enrollment_rate\"] = (\n",
    "    combined_data[\"Enrollments\"] / combined_data[\"Clicks\"]\n",
    ")\n",
    "\n",
    "ex5_avg_guardrail = combined_data[\"enrollment_rate\"].mean()\n",
    "\n",
    "results[\"ex5_avg_guardrail\"] = round(ex5_avg_guardrail, 4)\n",
    "\n",
    "results"
   ]
  },
  {
   "cell_type": "markdown",
   "metadata": {},
   "source": [
    "## Validating The Data"
   ]
  },
  {
   "attachments": {},
   "cell_type": "markdown",
   "metadata": {},
   "source": [
    "### Exercise 6\n",
    "\n",
    "Whenever you are working with experimental data, the first thing you want to do is verify that users actually were randomly sorted into the two arms of the experiment. In this data, half of users were supposed to be shown the old version of the site and half were supposed to see the new version.\n",
    "\n",
    "`Pageviews` tells you how many unique users visited the welcome site we are experimenting on. `Pageviews` is what is sometimes called an \"invariant\" or \"guardrail\" variable, meaning that it shouldn't vary across treatment arms—after all, people have to visit the site before they get a chance to see the treatment, so there's no way that being assigned to treatment or control should affect the number of pageviews assigned to each group.\n",
    "\n",
    "\"Invariant\" variables are also an example of what are known as a \"pre-treatment\" variable, because pageviews are determined before users are manipulated in any way. That makes it analogous to gender or age in experiments where you have demographic data—a person's age and gender are determined before they experience any manipulations, so the value of any pre-treatment attributes should be the same across the two arms of our experiment. This is what we've previously called \"checking for balance,\" If pre-treatment attributes aren't balanced, then we may worry our attempt to randomly assign people to different groups failed.  Kohavi, Tang and Xu call this a \"trust-based guardrail metric\" because it helps us determine if we should trust our data.\n",
    "\n",
    "To test the quality of the randomization, calculate the average number of pageviews for the treated group and for the control group. Do they look similar?\n"
   ]
  },
  {
   "cell_type": "code",
   "execution_count": 11,
   "metadata": {},
   "outputs": [
    {
     "name": "stdout",
     "output_type": "stream",
     "text": [
      "The average value of pageviews for the control group is  9339.0, whereas the average pageviews for the treatment group is  9315.1\n",
      "In our opinion the values look pretty similar, so they are balanced.\n"
     ]
    }
   ],
   "source": [
    "avg_pageviews_control = combined_data[combined_data[\"treatment\"] == 0][\n",
    "    \"Pageviews\"\n",
    "].mean()\n",
    "avg_pageviews_experiment = combined_data[combined_data[\"treatment\"] == 1][\n",
    "    \"Pageviews\"\n",
    "].mean()\n",
    "\n",
    "print(\n",
    "    f\"The average value of pageviews for the control group is {avg_pageviews_control: .1f}, whereas the average pageviews for the treatment group is {avg_pageviews_experiment: .1f}\"\n",
    ")\n",
    "print(f\"In our opinion the values look pretty similar, so they are balanced.\")"
   ]
  },
  {
   "attachments": {},
   "cell_type": "markdown",
   "metadata": {},
   "source": [
    "### Exercise 7\n",
    "\n",
    "\"Similar\" is a tricky concept -- obviously, we expect *some* differences across groups since users were *randomly* divided across treatment arms. The question is whether the differences between groups are larger than we'd expect to emerge given our random assignment process. To evaluate this, let's use a `ttest` to test the statistical significance of the differences we see. \n",
    "\n",
    "**Note**: Remember that scipy functions don't accept `pandas` objects, so you use a scipy function, you have to pass the numpy vectors underlying your data with the `.values` operator (e.g. `df.my_column.values`). \n",
    "\n",
    "Does the difference in `pageviews` look statistically significant?\n",
    "\n",
    "Store the resulting p-value in `ex7_ttest_pvalue` **rounded to four decimal places.**"
   ]
  },
  {
   "cell_type": "code",
   "execution_count": 12,
   "metadata": {},
   "outputs": [
    {
     "name": "stdout",
     "output_type": "stream",
     "text": [
      "[ 7723  9102 10511  9871 10014  9670  9008  7434  8459 10667 10660  9947\n",
      "  8324  9434  8687  8896  9535  9363  9327  9345  8890  8460  8836  9437\n",
      "  9420  9570  9921  9424  9010  9656 10419  9880 10134  9717  9192  8630\n",
      "  8970] [ 7716  9288 10480  9867  9793  9500  9088  7664  8434 10496 10551  9737\n",
      "  8176  9402  8669  8881  9655  9396  9262  9308  8715  8448  8836  9359\n",
      "  9427  9633  9842  9272  8969  9697 10445  9931 10042  9721  9304  8668\n",
      "  8988]\n"
     ]
    }
   ],
   "source": [
    "from scipy.stats import ttest_ind\n",
    "\n",
    "control_pageviews = combined_data[combined_data[\"treatment\"] == 0][\"Pageviews\"].values\n",
    "treatment_pageviews = combined_data[combined_data[\"treatment\"] == 1][\"Pageviews\"].values\n",
    "\n",
    "print(control_pageviews, treatment_pageviews)"
   ]
  },
  {
   "cell_type": "code",
   "execution_count": 13,
   "metadata": {},
   "outputs": [
    {
     "data": {
      "text/plain": [
       "{'ex4_avg_oec': 0.0941, 'ex5_avg_guardrail': 0.21, 'ex7_ttest_pvalue': 0.8877}"
      ]
     },
     "execution_count": 13,
     "metadata": {},
     "output_type": "execute_result"
    }
   ],
   "source": [
    "# performing t-test\n",
    "ttest_result = ttest_ind(control_pageviews, treatment_pageviews)\n",
    "ex7_ttest_pvalue = round(ttest_result.pvalue, 4)\n",
    "\n",
    "results[\"ex7_ttest_pvalue\"] = ex7_ttest_pvalue\n",
    "results"
   ]
  },
  {
   "cell_type": "markdown",
   "metadata": {},
   "source": [
    "**ANSWER**\n",
    "\n",
    "> p-value of 0.8877 indicates that the difference in average pageviews between the two groups is not statistically significant. It supports our conclusion that the random assignment process worked as intended. Two groups are comparable in terms of their pre-treatment characteristic of pageviews."
   ]
  },
  {
   "attachments": {},
   "cell_type": "markdown",
   "metadata": {},
   "source": [
    "### Exercise 8\n",
    "\n",
    "`Pageviews` is not the only \"pre-treatment\" variable in this data we can use to evaluate balance/use as a guardrail metric. What other measure is pre-treatment? Review the description of the experiment if you're not sure."
   ]
  },
  {
   "cell_type": "markdown",
   "metadata": {},
   "source": [
    "**ANSWER**\n",
    "\n",
    "> Recalling the experiment starting after a user makes a click, we think the other pre-treatment variable in this data is 'Clicks'. It represents the number of unique users who clicked on either the \"start free trial\" or \"access course materials\" buttons on the course oveerview page before any treatment is applied."
   ]
  },
  {
   "attachments": {},
   "cell_type": "markdown",
   "metadata": {},
   "source": [
    "### Exercise 9\n",
    "\n",
    "Check if the other pre-treatment variable is also balanced. Store the p-value of your test of difference in `results` under the key `\"ex9_ttest_pvalue_clicks\"` **rounded to four decimal places.**"
   ]
  },
  {
   "cell_type": "code",
   "execution_count": 14,
   "metadata": {},
   "outputs": [
    {
     "name": "stdout",
     "output_type": "stream",
     "text": [
      "[687 779 909 836 837 823 748 632 691 861 867 838 665 673 691 708 759 736\n",
      " 739 734 706 681 693 788 781 805 830 781 756 825 874 830 801 814 735 743\n",
      " 722] [686 785 884 827 832 788 780 652 697 860 864 801 642 697 669 693 771 736\n",
      " 727 728 722 695 724 789 743 808 831 767 760 850 851 831 802 829 770 724\n",
      " 710]\n"
     ]
    }
   ],
   "source": [
    "control_clicks = combined_data[combined_data[\"treatment\"] == 0][\"Clicks\"].values\n",
    "experiment_clicks = combined_data[combined_data[\"treatment\"] == 1][\"Clicks\"].values\n",
    "\n",
    "print(control_clicks, experiment_clicks)"
   ]
  },
  {
   "cell_type": "code",
   "execution_count": 15,
   "metadata": {},
   "outputs": [
    {
     "data": {
      "text/plain": [
       "{'ex4_avg_oec': 0.0941,\n",
       " 'ex5_avg_guardrail': 0.21,\n",
       " 'ex7_ttest_pvalue': 0.8877,\n",
       " 'ex9_ttest_pvalue_clicks': 0.9264}"
      ]
     },
     "execution_count": 15,
     "metadata": {},
     "output_type": "execute_result"
    }
   ],
   "source": [
    "ttest_clicks = ttest_ind(control_clicks, experiment_clicks)\n",
    "ex9_ttest_pvalue_clicks = round(ttest_clicks.pvalue, 4)\n",
    "\n",
    "results[\"ex9_ttest_pvalue_clicks\"] = ex9_ttest_pvalue_clicks\n",
    "\n",
    "results"
   ]
  },
  {
   "cell_type": "markdown",
   "metadata": {},
   "source": [
    "**ANSWER**\n",
    "\n",
    "> p-value of 0.9264 also confirms that there is no statistically significant difference in the number of clicks between these groups. So we can conclude that the randomization process was effective in evenly distributing users between the control and treatment groups."
   ]
  },
  {
   "attachments": {},
   "cell_type": "markdown",
   "metadata": {},
   "source": [
    "## Estimating the Effect of Experiment\n",
    "\n",
    "### Exercise 10\n",
    "\n",
    "Now that we've validated our randomization, our next task is to estimate our treatment effect. First, though, there's an issue with your data you've been able to largely ignore until now, but which you should get a grip on before estimating your treatment effect — can you tell what it is and what you should do about it?\n",
    "\n",
    "Store the number of observations in your data *after* you've addressed this in `ex10_num_obs` (this is mostly meant as a way to sanity check your answer with autograder)."
   ]
  },
  {
   "cell_type": "code",
   "execution_count": 16,
   "metadata": {},
   "outputs": [
    {
     "name": "stdout",
     "output_type": "stream",
     "text": [
      "<class 'pandas.core.frame.DataFrame'>\n",
      "Index: 74 entries, 0 to 36\n",
      "Data columns (total 8 columns):\n",
      " #   Column                     Non-Null Count  Dtype  \n",
      "---  ------                     --------------  -----  \n",
      " 0   Date                       74 non-null     object \n",
      " 1   Pageviews                  74 non-null     int64  \n",
      " 2   Clicks                     74 non-null     int64  \n",
      " 3   Enrollments                46 non-null     float64\n",
      " 4   Payments                   46 non-null     float64\n",
      " 5   treatment                  74 non-null     int64  \n",
      " 6   diff_normalized_by_clicks  46 non-null     float64\n",
      " 7   enrollment_rate            46 non-null     float64\n",
      "dtypes: float64(4), int64(3), object(1)\n",
      "memory usage: 5.2+ KB\n"
     ]
    }
   ],
   "source": [
    "combined_data.info()"
   ]
  },
  {
   "cell_type": "markdown",
   "metadata": {},
   "source": [
    "**ANSWER**\n",
    "\n",
    "> We think you are talking about missing values, so we decided to drop na's. 46 observations are left."
   ]
  },
  {
   "cell_type": "code",
   "execution_count": 19,
   "metadata": {},
   "outputs": [
    {
     "data": {
      "text/plain": [
       "{'ex4_avg_oec': 0.0941,\n",
       " 'ex5_avg_guardrail': 0.21,\n",
       " 'ex7_ttest_pvalue': 0.8877,\n",
       " 'ex9_ttest_pvalue_clicks': 0.9264,\n",
       " 'ex10_num_obs': 46}"
      ]
     },
     "execution_count": 19,
     "metadata": {},
     "output_type": "execute_result"
    }
   ],
   "source": [
    "cleaned_data = combined_data.dropna(subset=[\"Enrollments\", \"Payments\"])\n",
    "ex10_num_obs = len(cleaned_data)\n",
    "\n",
    "results[\"ex10_num_obs\"] = ex10_num_obs\n",
    "results"
   ]
  },
  {
   "cell_type": "markdown",
   "metadata": {},
   "source": [
    "\n",
    "### Exercise 11\n",
    "\n",
    "Now that we've established we have good balance (meaning we think randomization was likely successful), we can evaluate the effects of the experiment. Test whether the OEC and the metric you *don't* want affected have different average values in the control group and treatment group. \n",
    "\n",
    "Because we've randomized, this is a consistent estimate of the Average Treatment Effect of Udacity's website change.\n",
    "\n",
    "Calculate the difference in means in your OEC and guardrail metrics using a simple t-test. Store the resulting effect estimates in `ex11_oec_ate` and `ex11_guard_ate` and p-values in `ex11_oec_pvalue` and `ex11_guard_pvalue`. **Please round all answers to 4 decimal places.** Report your ATE in *percentage points*, where `1` denotes 1 percentage point.\n"
   ]
  },
  {
   "cell_type": "code",
   "execution_count": 21,
   "metadata": {},
   "outputs": [],
   "source": [
    "# creating numpy arrays so we can perform t-test\n",
    "oec_control = cleaned_data[cleaned_data[\"treatment\"] == 0][\n",
    "    \"diff_normalized_by_clicks\"\n",
    "].values\n",
    "oec_treatment = cleaned_data[cleaned_data[\"treatment\"] == 1][\n",
    "    \"diff_normalized_by_clicks\"\n",
    "].values\n",
    "guard_control = cleaned_data[cleaned_data[\"treatment\"] == 0][\"enrollment_rate\"].values\n",
    "guard_treatment = cleaned_data[cleaned_data[\"treatment\"] == 1][\"enrollment_rate\"].values"
   ]
  },
  {
   "cell_type": "code",
   "execution_count": 24,
   "metadata": {},
   "outputs": [],
   "source": [
    "# t-test\n",
    "oec_results = ttest_ind(oec_treatment, oec_control)\n",
    "guard_results = ttest_ind(guard_treatment, guard_control)"
   ]
  },
  {
   "cell_type": "code",
   "execution_count": 25,
   "metadata": {},
   "outputs": [],
   "source": [
    "# average treatment effect\n",
    "ex11_oec_ate = round((oec_treatment.mean() - oec_control.mean()) * 100, 4)\n",
    "results[\"ex11_oec_ate\"] = ex11_oec_ate\n",
    "\n",
    "ex11_guard_ate = round((guard_treatment.mean() - guard_control.mean()) * 100, 4)\n",
    "results[\"ex11_guard_ate\"] = ex11_guard_ate\n",
    "\n",
    "# p-values\n",
    "ex11_oec_pvalue = round(oec_results.pvalue, 4)\n",
    "results[\"ex11_oec_pvalue\"] = ex11_oec_pvalue\n",
    "\n",
    "ex11_guard_pvalue = round(guard_results.pvalue, 4)\n",
    "results[\"ex11_guard_pvalue\"] = ex11_guard_pvalue"
   ]
  },
  {
   "cell_type": "code",
   "execution_count": 26,
   "metadata": {},
   "outputs": [
    {
     "data": {
      "text/plain": [
       "{'ex4_avg_oec': 0.0941,\n",
       " 'ex5_avg_guardrail': 0.21,\n",
       " 'ex7_ttest_pvalue': 0.8877,\n",
       " 'ex9_ttest_pvalue_clicks': 0.9264,\n",
       " 'ex10_num_obs': 46,\n",
       " 'ex11_oec_ate': -1.5888,\n",
       " 'ex11_guard_ate': -2.0785,\n",
       " 'ex11_oec_pvalue': 0.1319,\n",
       " 'ex11_guard_pvalue': 0.1308}"
      ]
     },
     "execution_count": 26,
     "metadata": {},
     "output_type": "execute_result"
    }
   ],
   "source": [
    "results"
   ]
  },
  {
   "cell_type": "markdown",
   "metadata": {},
   "source": [
    "### Exercise 12\n",
    "\n",
    "Do you feel that Udacity achieved their goal? Did their intervention cause them any problems? If they asked you \"What would happen if we rolled this out to everyone?\" what would you say?\n",
    "\n",
    "As you answer this question, a small additional question: up until this point you've (presumably) been reporting the default p-values from the tools you are using. These, as you may recall from stats 101, are two-tailed p-values. Do those seem appropriate for your OEC?"
   ]
  },
  {
   "cell_type": "markdown",
   "metadata": {},
   "source": [
    "**ANSWER**\n",
    "\n",
    "> **OEC ATE**: The ATE for the OEC is approximately neg. 1.6 percentage points, with a p-value of 0.1319 meaning that, on average, the treatment group performed worse on the OEC compared to the control group. But this difference is not statistically significant at common significance levels (alpha=0.05).\n",
    "\n",
    ">**Guardrail Metric ATE**: The ATE for the guardrail metric is approx. neg. 2 percentage points, with a p-value of 0.1308. Similar to the OEC, it indicates a negative impact on the guardrail metric. However, the effect is not statistically significant.\n",
    "\n",
    "> Before rolling out to everyone, we would pay attention on the negative results in means and stay cautious, regardless whethere it was statistically significant or not.\n",
    "\n",
    "**Two-tailed vs. one-tailed p-values**:\n",
    "> Given that Udacity has a specific direction of interest (they hoped the intervention would improve, not just change the OEC), a one-tailed p-value might be more appropriate for interpreting the OEC results. It could offer a more sensitive measure for detecting an improvement. However, since the observed effect is negative and Udacity aimed for positive improvements, the use of a one-tailed test in this context would stll not yield a significant p-value supportive of the intervention's efficacy."
   ]
  },
  {
   "attachments": {},
   "cell_type": "markdown",
   "metadata": {},
   "source": [
    "### Exercise 13\n",
    "\n",
    "One of the magic things about experiments is that all you have to do is compare averages to get an average treatment effect. However, you *can* do other things to try and increase the statistical power of your experiments, like add controls in a linear regression model. \n",
    "\n",
    "As you likely know, a bivariate regression is exactly equivalent to a t-test, so let's start by re-estimating the effect of treatment on your OEC using a linear regression. Can you replicate the results from your t-test? They shouldn't just be close—they should be numerically equivalent (i.e. exactly the same to the limits of floating point number precision). "
   ]
  },
  {
   "cell_type": "code",
   "execution_count": 27,
   "metadata": {},
   "outputs": [
    {
     "name": "stdout",
     "output_type": "stream",
     "text": [
      "                                OLS Regression Results                               \n",
      "=====================================================================================\n",
      "Dep. Variable:     diff_normalized_by_clicks   R-squared:                       0.051\n",
      "Model:                                   OLS   Adj. R-squared:                  0.029\n",
      "Method:                        Least Squares   F-statistic:                     2.356\n",
      "Date:                       Fri, 15 Mar 2024   Prob (F-statistic):              0.132\n",
      "Time:                               19:49:39   Log-Likelihood:                 89.832\n",
      "No. Observations:                         46   AIC:                            -175.7\n",
      "Df Residuals:                             44   BIC:                            -172.0\n",
      "Df Model:                                  1                                         \n",
      "Covariance Type:                   nonrobust                                         \n",
      "==============================================================================\n",
      "                 coef    std err          t      P>|t|      [0.025      0.975]\n",
      "------------------------------------------------------------------------------\n",
      "const          0.1021      0.007     13.948      0.000       0.087       0.117\n",
      "treatment     -0.0159      0.010     -1.535      0.132      -0.037       0.005\n",
      "==============================================================================\n",
      "Omnibus:                       14.160   Durbin-Watson:                   1.908\n",
      "Prob(Omnibus):                  0.001   Jarque-Bera (JB):               15.205\n",
      "Skew:                           1.227   Prob(JB):                     0.000499\n",
      "Kurtosis:                       4.383   Cond. No.                         2.62\n",
      "==============================================================================\n",
      "\n",
      "Notes:\n",
      "[1] Standard Errors assume that the covariance matrix of the errors is correctly specified.\n"
     ]
    }
   ],
   "source": [
    "import statsmodels.api as sm\n",
    "\n",
    "X = sm.add_constant(cleaned_data[\"treatment\"])\n",
    "y = cleaned_data[\"diff_normalized_by_clicks\"]\n",
    "\n",
    "# fitting a linear regression model\n",
    "model = sm.OLS(y, X).fit()\n",
    "\n",
    "print(model.summary())"
   ]
  },
  {
   "cell_type": "markdown",
   "metadata": {},
   "source": [
    "**Interpretation**:\n",
    "\n",
    "> From the model summary:\n",
    "* Coefficient for `treatment`: -0.0159\n",
    "* P-value for `treatment`: 0.132\n",
    "\n",
    "> Coefficient is somewhat the same level as we found in ATE (about neg. 1.5888%). P-value is also pretty same as we obtained from t-test. This confirms the statistical insignificance of the treatment effect on the OEC at common significance levels, aligning with the t-test results.\n",
    "\n",
    "> Both methods (t-test and bivariate linear regression) provided a consistent estimate of the treatment effect."
   ]
  },
  {
   "attachments": {},
   "cell_type": "markdown",
   "metadata": {},
   "source": [
    "### Exercise 14\n",
    "\n",
    "Now add indicator variables for the date of each observation. Do the standard errors on your `treatment` variable change? If so, in what direction?\n",
    "\n",
    "Store your new standard error in `ex14_se_treatment`. Round your answer to 4 decimal places."
   ]
  },
  {
   "attachments": {},
   "cell_type": "markdown",
   "metadata": {},
   "source": [
    "You should have found that your standard errors decreased by about 30\\%—this is why, although just comparing means *works*, if you have additional variables adding them to your analysis can be helpful (all the usual rules for model specification apply — for example, you still want to be careful about overfitting, which one could argue is maybe part of what's happening here). \n",
    "\n",
    "In many other cases, the effect of adding controls is likely to be larger — the date indicators we added to our data are perfectly balanced between treatment and control, so we aren't adding a lot of data to the model by adding them as variables. They're accounting for some day-to-day variation (presumably in the types of people coming to the site), but they aren't controlling for any residual baseline differences the way a control like \"gender\" or \"age\" might (since those kind of individual-level attributes will never be perfectly balanced across treatment and control). "
   ]
  },
  {
   "cell_type": "code",
   "execution_count": 35,
   "metadata": {},
   "outputs": [],
   "source": [
    "# one-hot encode the 'Date' column\n",
    "date_dummies = pd.get_dummies(cleaned_data[\"Date\"], drop_first=True)\n",
    "\n",
    "# create the independent variables DataFrame, including the treatment indicator and date dummies\n",
    "X_14 = pd.concat([cleaned_data[[\"treatment\"]], date_dummies], axis=1)\n",
    "X_14 = sm.add_constant(X_14)\n",
    "\n",
    "y_14 = cleaned_data[\"diff_normalized_by_clicks\"]"
   ]
  },
  {
   "cell_type": "code",
   "execution_count": 36,
   "metadata": {},
   "outputs": [
    {
     "name": "stdout",
     "output_type": "stream",
     "text": [
      "                                OLS Regression Results                               \n",
      "=====================================================================================\n",
      "Dep. Variable:     diff_normalized_by_clicks   R-squared:                       0.806\n",
      "Model:                                   OLS   Adj. R-squared:                  0.602\n",
      "Method:                        Least Squares   F-statistic:                     3.962\n",
      "Date:                       Fri, 15 Mar 2024   Prob (F-statistic):           0.000978\n",
      "Time:                               20:27:52   Log-Likelihood:                 126.29\n",
      "No. Observations:                         46   AIC:                            -204.6\n",
      "Df Residuals:                             22   BIC:                            -160.7\n",
      "Df Model:                                 23                                         \n",
      "Covariance Type:                   nonrobust                                         \n",
      "===============================================================================\n",
      "                  coef    std err          t      P>|t|      [0.025      0.975]\n",
      "-------------------------------------------------------------------------------\n",
      "const           0.1079      0.016      6.651      0.000       0.074       0.142\n",
      "treatment      -0.0159      0.007     -2.398      0.025      -0.030      -0.002\n",
      "Fri, Oct 24     0.0445      0.022      1.983      0.060      -0.002       0.091\n",
      "Fri, Oct 31    -0.0074      0.022     -0.331      0.744      -0.054       0.039\n",
      "Mon, Oct 13    -0.0231      0.022     -1.026      0.316      -0.070       0.024\n",
      "Mon, Oct 20    -0.0285      0.022     -1.270      0.217      -0.075       0.018\n",
      "Mon, Oct 27     0.0328      0.022      1.458      0.159      -0.014       0.079\n",
      "Sat, Nov 1     -0.0235      0.022     -1.047      0.306      -0.070       0.023\n",
      "Sat, Oct 11    -0.0017      0.022     -0.074      0.941      -0.048       0.045\n",
      "Sat, Oct 18    -0.0438      0.022     -1.950      0.064      -0.090       0.003\n",
      "Sat, Oct 25    -0.0309      0.022     -1.375      0.183      -0.077       0.016\n",
      "Sun, Nov 2      0.0549      0.022      2.441      0.023       0.008       0.101\n",
      "Sun, Oct 12    -0.0347      0.022     -1.542      0.137      -0.081       0.012\n",
      "Sun, Oct 19    -0.0178      0.022     -0.791      0.437      -0.064       0.029\n",
      "Sun, Oct 26    -0.0222      0.022     -0.989      0.333      -0.069       0.024\n",
      "Thu, Oct 16    -0.0228      0.022     -1.016      0.321      -0.069       0.024\n",
      "Thu, Oct 23    -0.0046      0.022     -0.203      0.841      -0.051       0.042\n",
      "Thu, Oct 30     0.0588      0.022      2.618      0.016       0.012       0.105\n",
      "Tue, Oct 14    -0.0417      0.022     -1.855      0.077      -0.088       0.005\n",
      "Tue, Oct 21    -0.0059      0.022     -0.260      0.797      -0.052       0.041\n",
      "Tue, Oct 28    -0.0287      0.022     -1.276      0.215      -0.075       0.018\n",
      "Wed, Oct 15    -0.0132      0.022     -0.588      0.562      -0.060       0.033\n",
      "Wed, Oct 22    -0.0220      0.022     -0.980      0.338      -0.069       0.025\n",
      "Wed, Oct 29     0.0466      0.022      2.076      0.050    4.77e-05       0.093\n",
      "==============================================================================\n",
      "Omnibus:                        3.871   Durbin-Watson:                   1.863\n",
      "Prob(Omnibus):                  0.144   Jarque-Bera (JB):                3.826\n",
      "Skew:                           0.000   Prob(JB):                        0.148\n",
      "Kurtosis:                       4.413   Cond. No.                         27.3\n",
      "==============================================================================\n",
      "\n",
      "Notes:\n",
      "[1] Standard Errors assume that the covariance matrix of the errors is correctly specified.\n"
     ]
    }
   ],
   "source": [
    "# convert bool columns to int\n",
    "for column in X_14.columns:\n",
    "    if X_14[column].dtype == \"bool\":\n",
    "        X_14[column] = X_14[column].astype(int)\n",
    "\n",
    "# fitting the model\n",
    "model_with_dates = sm.OLS(y_14, X_14).fit()\n",
    "print(model_with_dates.summary())"
   ]
  },
  {
   "cell_type": "markdown",
   "metadata": {},
   "source": [
    "> Updated regression results show improvement in the model's exploratory power as evidenced by the increase in R-squared to 0.806. This results is statistically significant at the 5% level (p=0.025), indicating that the treatment has a measurable effect on the dependent variable. The negative coefficient suggests that the treatment decreases the oec metric by 1.59 percentage points, consistent with the ATE estimated earlier."
   ]
  },
  {
   "cell_type": "code",
   "execution_count": 37,
   "metadata": {},
   "outputs": [
    {
     "data": {
      "text/plain": [
       "{'ex4_avg_oec': 0.0941,\n",
       " 'ex5_avg_guardrail': 0.21,\n",
       " 'ex7_ttest_pvalue': 0.8877,\n",
       " 'ex9_ttest_pvalue_clicks': 0.9264,\n",
       " 'ex10_num_obs': 46,\n",
       " 'ex11_oec_ate': -1.5888,\n",
       " 'ex11_guard_ate': -2.0785,\n",
       " 'ex11_oec_pvalue': 0.1319,\n",
       " 'ex11_guard_pvalue': 0.1308,\n",
       " 'ex14_se_treatment': 0.0066}"
      ]
     },
     "execution_count": 37,
     "metadata": {},
     "output_type": "execute_result"
    }
   ],
   "source": [
    "ex14_se_treatment = round(model_with_dates.bse[\"treatment\"], 4)\n",
    "results[\"ex14_se_treatment\"] = ex14_se_treatment\n",
    "results"
   ]
  },
  {
   "attachments": {},
   "cell_type": "markdown",
   "metadata": {},
   "source": [
    "### Exercise 15\n",
    "\n",
    "Does this result have any impact on the recommendations you would offer Udacity?"
   ]
  },
  {
   "cell_type": "markdown",
   "metadata": {},
   "source": [
    "> Our previous recommendation called for attention to negative OEC ATE even p-values were not statistically significant. The refined analysis impacts by providing a firm evidence, but still by emphasizing caution. Final decision maker is Udacity, we, as data scientists, wouldn't recommend to adopt changes assumed in the experiment."
   ]
  },
  {
   "cell_type": "code",
   "execution_count": null,
   "metadata": {},
   "outputs": [],
   "source": [
    "assert set(results.keys()) == {\n",
    "    \"ex4_avg_oec\",\n",
    "    \"ex5_avg_guardrail\",\n",
    "    \"ex7_ttest_pvalue\",\n",
    "    \"ex9_ttest_pvalue_clicks\",\n",
    "    \"ex10_num_obs\",\n",
    "    \"ex11_guard_ate\",\n",
    "    \"ex11_guard_pvalue\",\n",
    "    \"ex11_oec_ate\",\n",
    "    \"ex11_oec_pvalue\",\n",
    "    \"ex14_se_treatment\",\n",
    "}"
   ]
  }
 ],
 "metadata": {
  "kernelspec": {
   "display_name": "Python 3",
   "language": "python",
   "name": "python3"
  },
  "language_info": {
   "codemirror_mode": {
    "name": "ipython",
    "version": 3
   },
   "file_extension": ".py",
   "mimetype": "text/x-python",
   "name": "python",
   "nbconvert_exporter": "python",
   "pygments_lexer": "ipython3",
   "version": "3.10.13"
  }
 },
 "nbformat": 4,
 "nbformat_minor": 4
}
