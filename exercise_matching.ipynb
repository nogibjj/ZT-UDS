{
 "cells": [
  {
   "cell_type": "markdown",
   "metadata": {},
   "source": [
    "# Matching Exercise \n",
    "\n",
    "In this exercise, we'll be evaluating how getting a college degree impacts earnings in the US using matching.\n",
    "\n",
    "## Matching Packages: Python v. R\n",
    "\n",
    "Just as the best tools for machine learning tend to be in Python since they're developed by CS people (who prefer Python), most of the best tools for causal inference are implemented in R since innovation in causal inference tends to be lead by social scientists using R. As a result, the most well developed matching package is called [MatchIt](https://kosukeimai.github.io/MatchIt/index.html), and is only available in R (though you can always call it from Python using `rpy2`). \n",
    "\n",
    "In the last couple years, though, a group of computer scientists and statisticians here at Duke have made some great advancements in matching (especially the computational side of things), and they recently released a set of matching packages in both R and Python that we'll be using today. They have some great algorithms we'll use today, but be aware these packages aren't as mature, and aren't general purpose packages yet. So if you ever get deep into matching, be aware you will probably still want to make at least partial use of the R package [MatchIt](https://kosukeimai.github.io/MatchIt/index.html), as well as some other R packages for new innovative techniques (like [Matching Frontier estimation](https://projects.iq.harvard.edu/frontier/home)), or [Adaptive Hyper-Box Matching](https://almost-matching-exactly.github.io/AHB-R-package/). \n",
    "\n",
    "## Installing dame-flame. \n",
    "\n",
    "For this lesson, begin by installing `dame-flame` with `pip install dame-flame` (it's not on conda yet). \n",
    "\n",
    "[DAME](https://almost-matching-exactly.github.io/DAME-FLAME-Python-Package) is an algorithm that we can use for a version of coarse exact matching. The package only accepts a list of categorical variables, and then attempts to match pairs that match exactly on those variables. That means that if you want to match on, say, age, you have to break it up into categories (say, under 18, 18-29, 30-39, etc. etc.). \n",
    "\n",
    "(NOTE: As of 2024, their documentation site is weird: click the dropdowns next to headings to see the content, otherwise the documentation looks deserted)\n",
    "\n",
    "Of course, one cannot always find exact matches on all variables, so what DAME does is:\n",
    "\n",
    "1. Find all observations that match on *all* matching variables. \n",
    "2. Figure out which matching variable is least useful in predicting the outcome of interest $Y$ and drops that, then tries to match the remaining observations on the narrowed set of matching variables. \n",
    "3. This repeats until you run out of variables, all observations are matched, or you hit a stopping run (namely: quality of matches falls below a threshold). \n",
    "\n",
    "In addition, the lab has also created FLAME, which does the same thing, but employs some tricks to make it *massively* more computationally efficient, meaning it can be used on datasets with millions of observations (which most matching algorithms cannot). It's a little less accurate, but an amazing contribution never the less. "
   ]
  },
  {
   "cell_type": "markdown",
   "metadata": {},
   "source": [
    "## Data Setup\n",
    "\n",
    "To save you some time and let you focus on matching, I've *pre-cleaned* about one month worth of of data from the US Current Population Survey data we used for our [gender discrimination analysis](exercises/exercises_regression_incomeineq.ipynb). You can download the data [from here](https://github.com/nickeubank/MIDS_Data/blob/master/Current_Population_Survey/cps_for_matching.dta?raw=true\"), or read it directly with:\n",
    "\n",
    "```python \n",
    "cps = pd.read_stata(\n",
    "    \"https://github.com/nickeubank/MIDS_Data/blob/master\"\n",
    "    \"/Current_Population_Survey/cps_for_matching.dta?raw=true\"\n",
    ")\n",
    "```\n",
    "\n",
    "Load the data and quickly familiarize yourself with its contents. "
   ]
  },
  {
   "cell_type": "code",
   "execution_count": 1,
   "metadata": {},
   "outputs": [
    {
     "name": "stderr",
     "output_type": "stream",
     "text": [
      "/tmp/ipykernel_62386/1807107526.py:3: DeprecationWarning: \n",
      "Pyarrow will become a required dependency of pandas in the next major release of pandas (pandas 3.0),\n",
      "(to allow more performant data types, such as the Arrow string type, and better interoperability with other libraries)\n",
      "but was not found to be installed on your system.\n",
      "If this would cause problems for you,\n",
      "please provide us feedback at https://github.com/pandas-dev/pandas/issues/54466\n",
      "        \n",
      "  import pandas as pd\n"
     ]
    }
   ],
   "source": [
    "import warnings\n",
    "import numpy as np\n",
    "import pandas as pd\n",
    "\n",
    "warnings.filterwarnings(\"ignore\")\n",
    "pd.set_option(\"mode.copy_on_write\", True)"
   ]
  },
  {
   "cell_type": "code",
   "execution_count": 2,
   "metadata": {},
   "outputs": [],
   "source": [
    "cps = pd.read_stata(\n",
    "    \"https://github.com/nickeubank/MIDS_Data/blob/master\"\n",
    "    \"/Current_Population_Survey/cps_for_matching.dta?raw=true\"\n",
    ")"
   ]
  },
  {
   "cell_type": "markdown",
   "metadata": {},
   "source": [
    "## Getting To Know Your Data\n",
    "\n",
    "Before you start matching, it is important to examine your data to ensure that matching is feasible (you have some overlap the the features of people in the treated and untreated groups), and also that there is a reason *to* match: either you're unsure about some of the functional forms at play, or your have some imbalance between the two groups. "
   ]
  },
  {
   "cell_type": "code",
   "execution_count": 3,
   "metadata": {},
   "outputs": [
    {
     "data": {
      "text/html": [
       "<div>\n",
       "<style scoped>\n",
       "    .dataframe tbody tr th:only-of-type {\n",
       "        vertical-align: middle;\n",
       "    }\n",
       "\n",
       "    .dataframe tbody tr th {\n",
       "        vertical-align: top;\n",
       "    }\n",
       "\n",
       "    .dataframe thead th {\n",
       "        text-align: right;\n",
       "    }\n",
       "</style>\n",
       "<table border=\"1\" class=\"dataframe\">\n",
       "  <thead>\n",
       "    <tr style=\"text-align: right;\">\n",
       "      <th></th>\n",
       "      <th>index</th>\n",
       "      <th>annual_earnings</th>\n",
       "      <th>female</th>\n",
       "      <th>simplified_race</th>\n",
       "      <th>has_college</th>\n",
       "      <th>age</th>\n",
       "      <th>county</th>\n",
       "      <th>class94</th>\n",
       "    </tr>\n",
       "  </thead>\n",
       "  <tbody>\n",
       "    <tr>\n",
       "      <th>0</th>\n",
       "      <td>151404</td>\n",
       "      <td>NaN</td>\n",
       "      <td>1</td>\n",
       "      <td>3.0</td>\n",
       "      <td>1</td>\n",
       "      <td>30</td>\n",
       "      <td>0-WV</td>\n",
       "      <td>Private, For Profit</td>\n",
       "    </tr>\n",
       "    <tr>\n",
       "      <th>1</th>\n",
       "      <td>123453</td>\n",
       "      <td>NaN</td>\n",
       "      <td>0</td>\n",
       "      <td>0.0</td>\n",
       "      <td>0</td>\n",
       "      <td>21</td>\n",
       "      <td>251-TX</td>\n",
       "      <td>Private, For Profit</td>\n",
       "    </tr>\n",
       "    <tr>\n",
       "      <th>2</th>\n",
       "      <td>187982</td>\n",
       "      <td>NaN</td>\n",
       "      <td>0</td>\n",
       "      <td>0.0</td>\n",
       "      <td>0</td>\n",
       "      <td>40</td>\n",
       "      <td>5-MA</td>\n",
       "      <td>Self-Employed, Unincorporated</td>\n",
       "    </tr>\n",
       "    <tr>\n",
       "      <th>3</th>\n",
       "      <td>122356</td>\n",
       "      <td>NaN</td>\n",
       "      <td>1</td>\n",
       "      <td>0.0</td>\n",
       "      <td>1</td>\n",
       "      <td>27</td>\n",
       "      <td>0-TN</td>\n",
       "      <td>Private, Nonprofit</td>\n",
       "    </tr>\n",
       "    <tr>\n",
       "      <th>4</th>\n",
       "      <td>210750</td>\n",
       "      <td>42900.0</td>\n",
       "      <td>1</td>\n",
       "      <td>0.0</td>\n",
       "      <td>0</td>\n",
       "      <td>52</td>\n",
       "      <td>0-IA</td>\n",
       "      <td>Private, For Profit</td>\n",
       "    </tr>\n",
       "  </tbody>\n",
       "</table>\n",
       "</div>"
      ],
      "text/plain": [
       "    index  annual_earnings  female  simplified_race  has_college  age  county  \\\n",
       "0  151404              NaN       1              3.0            1   30    0-WV   \n",
       "1  123453              NaN       0              0.0            0   21  251-TX   \n",
       "2  187982              NaN       0              0.0            0   40    5-MA   \n",
       "3  122356              NaN       1              0.0            1   27    0-TN   \n",
       "4  210750          42900.0       1              0.0            0   52    0-IA   \n",
       "\n",
       "                         class94  \n",
       "0            Private, For Profit  \n",
       "1            Private, For Profit  \n",
       "2  Self-Employed, Unincorporated  \n",
       "3             Private, Nonprofit  \n",
       "4            Private, For Profit  "
      ]
     },
     "execution_count": 3,
     "metadata": {},
     "output_type": "execute_result"
    }
   ],
   "source": [
    "cps.head()"
   ]
  },
  {
   "cell_type": "markdown",
   "metadata": {},
   "source": [
    "### Exercise 1\n",
    "\n",
    "Show the raw difference of `annual_earnings` between those with and without a college degree (`has_college`). Is the difference statistically significant?"
   ]
  },
  {
   "cell_type": "code",
   "execution_count": 4,
   "metadata": {},
   "outputs": [
    {
     "data": {
      "text/html": [
       "<table class=\"simpletable\">\n",
       "<caption>OLS Regression Results</caption>\n",
       "<tr>\n",
       "  <th>Dep. Variable:</th>     <td>annual_earnings</td> <th>  R-squared:         </th> <td>   0.063</td> \n",
       "</tr>\n",
       "<tr>\n",
       "  <th>Model:</th>                   <td>OLS</td>       <th>  Adj. R-squared:    </th> <td>   0.063</td> \n",
       "</tr>\n",
       "<tr>\n",
       "  <th>Method:</th>             <td>Least Squares</td>  <th>  F-statistic:       </th> <td>   370.2</td> \n",
       "</tr>\n",
       "<tr>\n",
       "  <th>Date:</th>             <td>Sat, 13 Apr 2024</td> <th>  Prob (F-statistic):</th> <td>6.56e-80</td> \n",
       "</tr>\n",
       "<tr>\n",
       "  <th>Time:</th>                 <td>21:34:57</td>     <th>  Log-Likelihood:    </th> <td> -63018.</td> \n",
       "</tr>\n",
       "<tr>\n",
       "  <th>No. Observations:</th>      <td>  5515</td>      <th>  AIC:               </th> <td>1.260e+05</td>\n",
       "</tr>\n",
       "<tr>\n",
       "  <th>Df Residuals:</th>          <td>  5513</td>      <th>  BIC:               </th> <td>1.261e+05</td>\n",
       "</tr>\n",
       "<tr>\n",
       "  <th>Df Model:</th>              <td>     1</td>      <th>                     </th>     <td> </td>    \n",
       "</tr>\n",
       "<tr>\n",
       "  <th>Covariance Type:</th>      <td>nonrobust</td>    <th>                     </th>     <td> </td>    \n",
       "</tr>\n",
       "</table>\n",
       "<table class=\"simpletable\">\n",
       "<tr>\n",
       "       <td></td>          <th>coef</th>     <th>std err</th>      <th>t</th>      <th>P>|t|</th>  <th>[0.025</th>    <th>0.975]</th>  \n",
       "</tr>\n",
       "<tr>\n",
       "  <th>Intercept</th>   <td> 3.887e+04</td> <td>  336.007</td> <td>  115.669</td> <td> 0.000</td> <td> 3.82e+04</td> <td> 3.95e+04</td>\n",
       "</tr>\n",
       "<tr>\n",
       "  <th>has_college</th> <td> 1.416e+04</td> <td>  735.820</td> <td>   19.242</td> <td> 0.000</td> <td> 1.27e+04</td> <td> 1.56e+04</td>\n",
       "</tr>\n",
       "</table>\n",
       "<table class=\"simpletable\">\n",
       "<tr>\n",
       "  <th>Omnibus:</th>       <td>2214.375</td> <th>  Durbin-Watson:     </th> <td>   1.974</td> \n",
       "</tr>\n",
       "<tr>\n",
       "  <th>Prob(Omnibus):</th>  <td> 0.000</td>  <th>  Jarque-Bera (JB):  </th> <td>10578.287</td>\n",
       "</tr>\n",
       "<tr>\n",
       "  <th>Skew:</th>           <td> 1.910</td>  <th>  Prob(JB):          </th> <td>    0.00</td> \n",
       "</tr>\n",
       "<tr>\n",
       "  <th>Kurtosis:</th>       <td> 8.608</td>  <th>  Cond. No.          </th> <td>    2.59</td> \n",
       "</tr>\n",
       "</table><br/><br/>Notes:<br/>[1] Standard Errors assume that the covariance matrix of the errors is correctly specified."
      ],
      "text/latex": [
       "\\begin{center}\n",
       "\\begin{tabular}{lclc}\n",
       "\\toprule\n",
       "\\textbf{Dep. Variable:}    & annual\\_earnings & \\textbf{  R-squared:         } &     0.063   \\\\\n",
       "\\textbf{Model:}            &       OLS        & \\textbf{  Adj. R-squared:    } &     0.063   \\\\\n",
       "\\textbf{Method:}           &  Least Squares   & \\textbf{  F-statistic:       } &     370.2   \\\\\n",
       "\\textbf{Date:}             & Sat, 13 Apr 2024 & \\textbf{  Prob (F-statistic):} &  6.56e-80   \\\\\n",
       "\\textbf{Time:}             &     21:34:57     & \\textbf{  Log-Likelihood:    } &   -63018.   \\\\\n",
       "\\textbf{No. Observations:} &        5515      & \\textbf{  AIC:               } & 1.260e+05   \\\\\n",
       "\\textbf{Df Residuals:}     &        5513      & \\textbf{  BIC:               } & 1.261e+05   \\\\\n",
       "\\textbf{Df Model:}         &           1      & \\textbf{                     } &             \\\\\n",
       "\\textbf{Covariance Type:}  &    nonrobust     & \\textbf{                     } &             \\\\\n",
       "\\bottomrule\n",
       "\\end{tabular}\n",
       "\\begin{tabular}{lcccccc}\n",
       "                      & \\textbf{coef} & \\textbf{std err} & \\textbf{t} & \\textbf{P$> |$t$|$} & \\textbf{[0.025} & \\textbf{0.975]}  \\\\\n",
       "\\midrule\n",
       "\\textbf{Intercept}    &    3.887e+04  &      336.007     &   115.669  &         0.000        &     3.82e+04    &     3.95e+04     \\\\\n",
       "\\textbf{has\\_college} &    1.416e+04  &      735.820     &    19.242  &         0.000        &     1.27e+04    &     1.56e+04     \\\\\n",
       "\\bottomrule\n",
       "\\end{tabular}\n",
       "\\begin{tabular}{lclc}\n",
       "\\textbf{Omnibus:}       & 2214.375 & \\textbf{  Durbin-Watson:     } &     1.974  \\\\\n",
       "\\textbf{Prob(Omnibus):} &   0.000  & \\textbf{  Jarque-Bera (JB):  } & 10578.287  \\\\\n",
       "\\textbf{Skew:}          &   1.910  & \\textbf{  Prob(JB):          } &      0.00  \\\\\n",
       "\\textbf{Kurtosis:}      &   8.608  & \\textbf{  Cond. No.          } &      2.59  \\\\\n",
       "\\bottomrule\n",
       "\\end{tabular}\n",
       "%\\caption{OLS Regression Results}\n",
       "\\end{center}\n",
       "\n",
       "Notes: \\newline\n",
       " [1] Standard Errors assume that the covariance matrix of the errors is correctly specified."
      ],
      "text/plain": [
       "<class 'statsmodels.iolib.summary.Summary'>\n",
       "\"\"\"\n",
       "                            OLS Regression Results                            \n",
       "==============================================================================\n",
       "Dep. Variable:        annual_earnings   R-squared:                       0.063\n",
       "Model:                            OLS   Adj. R-squared:                  0.063\n",
       "Method:                 Least Squares   F-statistic:                     370.2\n",
       "Date:                Sat, 13 Apr 2024   Prob (F-statistic):           6.56e-80\n",
       "Time:                        21:34:57   Log-Likelihood:                -63018.\n",
       "No. Observations:                5515   AIC:                         1.260e+05\n",
       "Df Residuals:                    5513   BIC:                         1.261e+05\n",
       "Df Model:                           1                                         \n",
       "Covariance Type:            nonrobust                                         \n",
       "===============================================================================\n",
       "                  coef    std err          t      P>|t|      [0.025      0.975]\n",
       "-------------------------------------------------------------------------------\n",
       "Intercept    3.887e+04    336.007    115.669      0.000    3.82e+04    3.95e+04\n",
       "has_college  1.416e+04    735.820     19.242      0.000    1.27e+04    1.56e+04\n",
       "==============================================================================\n",
       "Omnibus:                     2214.375   Durbin-Watson:                   1.974\n",
       "Prob(Omnibus):                  0.000   Jarque-Bera (JB):            10578.287\n",
       "Skew:                           1.910   Prob(JB):                         0.00\n",
       "Kurtosis:                       8.608   Cond. No.                         2.59\n",
       "==============================================================================\n",
       "\n",
       "Notes:\n",
       "[1] Standard Errors assume that the covariance matrix of the errors is correctly specified.\n",
       "\"\"\""
      ]
     },
     "execution_count": 4,
     "metadata": {},
     "output_type": "execute_result"
    }
   ],
   "source": [
    "import statsmodels.formula.api as smf\n",
    "\n",
    "raw_difference = smf.ols(\"annual_earnings ~ has_college\", cps).fit()\n",
    "raw_difference.summary()"
   ]
  },
  {
   "cell_type": "markdown",
   "metadata": {},
   "source": [
    "> The coefficient for `has_college` is 14,160, which indicates that having a college degree is associated with an increase in annual earnings of $14,160 on average. It is statistically significant given the p-value of 0.000"
   ]
  },
  {
   "attachments": {},
   "cell_type": "markdown",
   "metadata": {},
   "source": [
    "### Exercise 2\n",
    "\n",
    "Next we can check for balance. Check the share of people in different racial groups who have college degrees. Are those differences statistically significant? (Remember how to check for difference in distributions of categorical variables).\n",
    "\n",
    "Race is coded as White Non-Hispanic (0), Black Non-Hispanic (1), Hispanic (2), Other (3).\n",
    "\n",
    "Does the data seem balanced?"
   ]
  },
  {
   "cell_type": "code",
   "execution_count": 5,
   "metadata": {},
   "outputs": [],
   "source": [
    "import scipy.stats"
   ]
  },
  {
   "cell_type": "code",
   "execution_count": 6,
   "metadata": {},
   "outputs": [
    {
     "data": {
      "text/plain": [
       "simplified_race\n",
       "0.0    0.438205\n",
       "1.0    0.317647\n",
       "2.0    0.198413\n",
       "3.0    0.474900\n",
       "Name: has_college, dtype: float64"
      ]
     },
     "execution_count": 6,
     "metadata": {},
     "output_type": "execute_result"
    }
   ],
   "source": [
    "cps.groupby(\"simplified_race\")[\"has_college\"].mean()"
   ]
  },
  {
   "cell_type": "code",
   "execution_count": 7,
   "metadata": {},
   "outputs": [
    {
     "data": {
      "text/html": [
       "<div>\n",
       "<style scoped>\n",
       "    .dataframe tbody tr th:only-of-type {\n",
       "        vertical-align: middle;\n",
       "    }\n",
       "\n",
       "    .dataframe tbody tr th {\n",
       "        vertical-align: top;\n",
       "    }\n",
       "\n",
       "    .dataframe thead th {\n",
       "        text-align: right;\n",
       "    }\n",
       "</style>\n",
       "<table border=\"1\" class=\"dataframe\">\n",
       "  <thead>\n",
       "    <tr style=\"text-align: right;\">\n",
       "      <th>has_college</th>\n",
       "      <th>0</th>\n",
       "      <th>1</th>\n",
       "    </tr>\n",
       "    <tr>\n",
       "      <th>simplified_race</th>\n",
       "      <th></th>\n",
       "      <th></th>\n",
       "    </tr>\n",
       "  </thead>\n",
       "  <tbody>\n",
       "    <tr>\n",
       "      <th>0.0</th>\n",
       "      <td>4282</td>\n",
       "      <td>3340</td>\n",
       "    </tr>\n",
       "    <tr>\n",
       "      <th>1.0</th>\n",
       "      <td>696</td>\n",
       "      <td>324</td>\n",
       "    </tr>\n",
       "    <tr>\n",
       "      <th>2.0</th>\n",
       "      <td>1212</td>\n",
       "      <td>300</td>\n",
       "    </tr>\n",
       "    <tr>\n",
       "      <th>3.0</th>\n",
       "      <td>523</td>\n",
       "      <td>473</td>\n",
       "    </tr>\n",
       "  </tbody>\n",
       "</table>\n",
       "</div>"
      ],
      "text/plain": [
       "has_college         0     1\n",
       "simplified_race            \n",
       "0.0              4282  3340\n",
       "1.0               696   324\n",
       "2.0              1212   300\n",
       "3.0               523   473"
      ]
     },
     "execution_count": 7,
     "metadata": {},
     "output_type": "execute_result"
    }
   ],
   "source": [
    "contingency_table = pd.crosstab(cps[\"simplified_race\"], cps[\"has_college\"])\n",
    "contingency_table"
   ]
  },
  {
   "cell_type": "code",
   "execution_count": 8,
   "metadata": {},
   "outputs": [
    {
     "name": "stdout",
     "output_type": "stream",
     "text": [
      "1.299387594356901e-76\n"
     ]
    }
   ],
   "source": [
    "chi2, p, dof, expected = scipy.stats.chi2_contingency(contingency_table.values)\n",
    "print(p)"
   ]
  },
  {
   "cell_type": "markdown",
   "metadata": {},
   "source": [
    "> The p-value is approxiamtely 1.3×10^(−76) and it's extremely close to zero. It indicates that there is a statistically significant difference in the distribution of college degrees across the different racial groups in the dataset."
   ]
  },
  {
   "cell_type": "markdown",
   "metadata": {},
   "source": [
    "### Exercise 3\n",
    "\n",
    "One of the other advantages of matching is that even when you have balanced data, you don't have to go through the process of testing out different functional forms to see what fits the data base. \n",
    "\n",
    "In our last exercise, we looked at the relationship between gender and earnings \"controlling for age\", where we just put in age as a linear control. Plot a non-linear regression of `annual_earnings` on age (`PolyFit(order=3)` is fine.)"
   ]
  },
  {
   "cell_type": "code",
   "execution_count": 9,
   "metadata": {},
   "outputs": [],
   "source": [
    "import matplotlib.pyplot as plt\n",
    "from numpy.polynomial.polynomial import Polynomial\n",
    "\n",
    "p = Polynomial.fit(cps['age'], cps['annual_earnings'], 3)"
   ]
  },
  {
   "cell_type": "code",
   "execution_count": 10,
   "metadata": {},
   "outputs": [],
   "source": [
    "age_range = np.linspace(cps['age'].min(), cps['age'].max(), num=500)\n",
    "fit = p(age_range)"
   ]
  },
  {
   "cell_type": "code",
   "execution_count": 11,
   "metadata": {},
   "outputs": [
    {
     "data": {
      "image/png": "[encoded data removed]",
      "text/plain": [
       "<Figure size 640x480 with 1 Axes>"
      ]
     },
     "metadata": {},
     "output_type": "display_data"
    }
   ],
   "source": [
    "plt.scatter(cps['age'], cps['annual_earnings'], alpha=0.5, label='Actual_data')\n",
    "plt.plot(age_range, fit, color='red', label='Polynomial fit')\n",
    "plt.xlabel('Age')\n",
    "plt.ylabel('Annual Earnings')\n",
    "plt.title('Non-linear Polynomial Regression of Annual Earnings on Age')\n",
    "plt.legend()\n",
    "plt.show()"
   ]
  },
  {
   "cell_type": "markdown",
   "metadata": {},
   "source": [
    "Does the relationship look linear?\n",
    "\n",
    "Does this speak to why it's nice to not have to think about functional forms with matching as much?"
   ]
  },
  {
   "cell_type": "markdown",
   "metadata": {},
   "source": [
    "> The relationship between age and annual earnings does not look linear, so the relationship is non-linear.\n",
    "\n",
    "> This example illustrates why matching can be advantageous. It allows to compare like with like, reducing the model dependence on the inferences and possibly providing a more intuitive and straightforward comparison."
   ]
  },
  {
   "cell_type": "markdown",
   "metadata": {},
   "source": [
    "## Matching!\n",
    "\n",
    "Because DAME is an implementation of exact matching, we have to discretize all of our continuous variables. Thankfully, in this case we only have `age`, so this shouldn't be too hard!\n",
    "\n",
    "### Exercise 4\n",
    "\n",
    "Create a new variable that discretizes age into a single value for each decade of age. \n",
    "\n",
    "Because CPS only has employment data on people 18 or over, though, include people who are 18 or 19 with the 20 year olds so that group isn't too small, and if you see any other really small groups, please merge those too. "
   ]
  },
  {
   "cell_type": "code",
   "execution_count": 12,
   "metadata": {},
   "outputs": [],
   "source": [
    "def discretize_age(age):\n",
    "    if age < 20:\n",
    "        return '1'\n",
    "    elif 20 <= age < 30:\n",
    "        return '2'\n",
    "    elif 30 <= age < 40:\n",
    "        return '3'\n",
    "    elif 40 <= age < 50:\n",
    "        return '4'\n",
    "    elif 50 <= age < 60:\n",
    "        return '5'\n",
    "    elif 60 <= age < 70:\n",
    "        return '6'\n",
    "    elif 70 <= age < 80:\n",
    "        return '7'\n",
    "    else:\n",
    "        return '8'"
   ]
  },
  {
   "cell_type": "code",
   "execution_count": 13,
   "metadata": {},
   "outputs": [
    {
     "data": {
      "text/plain": [
       "discretized_age\n",
       "3    2760\n",
       "4    2551\n",
       "5    2397\n",
       "2    1866\n",
       "6    1236\n",
       "7     173\n",
       "1     124\n",
       "8      43\n",
       "Name: count, dtype: int64"
      ]
     },
     "execution_count": 13,
     "metadata": {},
     "output_type": "execute_result"
    }
   ],
   "source": [
    "cps['discretized_age'] = cps['age'].apply(discretize_age)\n",
    "cps['discretized_age'].value_counts()"
   ]
  },
  {
   "cell_type": "code",
   "execution_count": 14,
   "metadata": {},
   "outputs": [
    {
     "name": "stdout",
     "output_type": "stream",
     "text": [
      "int64\n"
     ]
    }
   ],
   "source": [
    "cps[\"discretized_age\"] = cps[\"discretized_age\"].astype(int)\n",
    "print(cps[\"discretized_age\"].dtype)"
   ]
  },
  {
   "cell_type": "code",
   "execution_count": 15,
   "metadata": {},
   "outputs": [
    {
     "data": {
      "text/plain": [
       "discretized_age\n",
       "3    2760\n",
       "4    2551\n",
       "5    2397\n",
       "2    1990\n",
       "6    1236\n",
       "7     216\n",
       "Name: count, dtype: int64"
      ]
     },
     "execution_count": 15,
     "metadata": {},
     "output_type": "execute_result"
    }
   ],
   "source": [
    "cps.loc[cps[\"discretized_age\"] == 1, \"discretized_age\"] = 2\n",
    "cps.loc[cps[\"discretized_age\"] == 8, \"discretized_age\"] = 7\n",
    "cps[\"discretized_age\"].value_counts()"
   ]
  },
  {
   "cell_type": "code",
   "execution_count": 16,
   "metadata": {},
   "outputs": [
    {
     "data": {
      "text/html": [
       "<div>\n",
       "<style scoped>\n",
       "    .dataframe tbody tr th:only-of-type {\n",
       "        vertical-align: middle;\n",
       "    }\n",
       "\n",
       "    .dataframe tbody tr th {\n",
       "        vertical-align: top;\n",
       "    }\n",
       "\n",
       "    .dataframe thead th {\n",
       "        text-align: right;\n",
       "    }\n",
       "</style>\n",
       "<table border=\"1\" class=\"dataframe\">\n",
       "  <thead>\n",
       "    <tr style=\"text-align: right;\">\n",
       "      <th></th>\n",
       "      <th>index</th>\n",
       "      <th>annual_earnings</th>\n",
       "      <th>female</th>\n",
       "      <th>simplified_race</th>\n",
       "      <th>has_college</th>\n",
       "      <th>age</th>\n",
       "      <th>county</th>\n",
       "      <th>class94</th>\n",
       "      <th>discretized_age</th>\n",
       "    </tr>\n",
       "  </thead>\n",
       "  <tbody>\n",
       "    <tr>\n",
       "      <th>0</th>\n",
       "      <td>151404</td>\n",
       "      <td>NaN</td>\n",
       "      <td>1</td>\n",
       "      <td>3.0</td>\n",
       "      <td>1</td>\n",
       "      <td>30</td>\n",
       "      <td>0-WV</td>\n",
       "      <td>Private, For Profit</td>\n",
       "      <td>3</td>\n",
       "    </tr>\n",
       "    <tr>\n",
       "      <th>1</th>\n",
       "      <td>123453</td>\n",
       "      <td>NaN</td>\n",
       "      <td>0</td>\n",
       "      <td>0.0</td>\n",
       "      <td>0</td>\n",
       "      <td>21</td>\n",
       "      <td>251-TX</td>\n",
       "      <td>Private, For Profit</td>\n",
       "      <td>2</td>\n",
       "    </tr>\n",
       "    <tr>\n",
       "      <th>2</th>\n",
       "      <td>187982</td>\n",
       "      <td>NaN</td>\n",
       "      <td>0</td>\n",
       "      <td>0.0</td>\n",
       "      <td>0</td>\n",
       "      <td>40</td>\n",
       "      <td>5-MA</td>\n",
       "      <td>Self-Employed, Unincorporated</td>\n",
       "      <td>4</td>\n",
       "    </tr>\n",
       "    <tr>\n",
       "      <th>3</th>\n",
       "      <td>122356</td>\n",
       "      <td>NaN</td>\n",
       "      <td>1</td>\n",
       "      <td>0.0</td>\n",
       "      <td>1</td>\n",
       "      <td>27</td>\n",
       "      <td>0-TN</td>\n",
       "      <td>Private, Nonprofit</td>\n",
       "      <td>2</td>\n",
       "    </tr>\n",
       "    <tr>\n",
       "      <th>4</th>\n",
       "      <td>210750</td>\n",
       "      <td>42900.0</td>\n",
       "      <td>1</td>\n",
       "      <td>0.0</td>\n",
       "      <td>0</td>\n",
       "      <td>52</td>\n",
       "      <td>0-IA</td>\n",
       "      <td>Private, For Profit</td>\n",
       "      <td>5</td>\n",
       "    </tr>\n",
       "  </tbody>\n",
       "</table>\n",
       "</div>"
      ],
      "text/plain": [
       "    index  annual_earnings  female  simplified_race  has_college  age  county  \\\n",
       "0  151404              NaN       1              3.0            1   30    0-WV   \n",
       "1  123453              NaN       0              0.0            0   21  251-TX   \n",
       "2  187982              NaN       0              0.0            0   40    5-MA   \n",
       "3  122356              NaN       1              0.0            1   27    0-TN   \n",
       "4  210750          42900.0       1              0.0            0   52    0-IA   \n",
       "\n",
       "                         class94  discretized_age  \n",
       "0            Private, For Profit                3  \n",
       "1            Private, For Profit                2  \n",
       "2  Self-Employed, Unincorporated                4  \n",
       "3             Private, Nonprofit                2  \n",
       "4            Private, For Profit                5  "
      ]
     },
     "execution_count": 16,
     "metadata": {},
     "output_type": "execute_result"
    }
   ],
   "source": [
    "cps.head()"
   ]
  },
  {
   "cell_type": "markdown",
   "metadata": {},
   "source": [
    "### Exercise 5\n",
    "\n",
    "We also have to covert our string variables into numeric variables for DAME, so convert `county` and `class94` to a numeric vector of intergers. \n",
    "\n",
    "(Note: it's not clear whether `class94` belongs: if it reflects people choosing fields based on passion, it belongs; if people choose certain jobs because of their degrees, its not something we'd actually want in our regression. \n",
    "\n",
    "Hint: if you use `pd.Categorical` to convert you var to a categorical, you can pull the underlying integer codes with `.codes`. "
   ]
  },
  {
   "cell_type": "code",
   "execution_count": 17,
   "metadata": {},
   "outputs": [],
   "source": [
    "cps[\"county\"] = pd.Categorical(cps[\"county\"]).codes\n",
    "cps[\"class94\"] = pd.Categorical(cps[\"class94\"]).codes"
   ]
  },
  {
   "attachments": {},
   "cell_type": "markdown",
   "metadata": {},
   "source": [
    "## Let's Do Matching with DAME\n",
    "\n",
    "### Exercise 6\n",
    "\n",
    "First, drop all the variables you *don't* want in matching (e.g. your original `age` variable), and any observations for which `annual_earnings` is missing. \n",
    "\n",
    "You will probably also have to drop a column named `index`: DAME will try and match on ANY included variables, and so because there was a column called `index` in the data we imported, if we leave it in DAME will try (and obviously fail) to match on index. \n",
    "\n",
    "Also, it's best to reset your index, as `dame_flame` using index labels (e.g., the values in `df.index`) to identify matches. So you want to be sure those are unique."
   ]
  },
  {
   "cell_type": "code",
   "execution_count": 18,
   "metadata": {},
   "outputs": [
    {
     "data": {
      "text/html": [
       "<div>\n",
       "<style scoped>\n",
       "    .dataframe tbody tr th:only-of-type {\n",
       "        vertical-align: middle;\n",
       "    }\n",
       "\n",
       "    .dataframe tbody tr th {\n",
       "        vertical-align: top;\n",
       "    }\n",
       "\n",
       "    .dataframe thead th {\n",
       "        text-align: right;\n",
       "    }\n",
       "</style>\n",
       "<table border=\"1\" class=\"dataframe\">\n",
       "  <thead>\n",
       "    <tr style=\"text-align: right;\">\n",
       "      <th></th>\n",
       "      <th>index</th>\n",
       "      <th>annual_earnings</th>\n",
       "      <th>female</th>\n",
       "      <th>simplified_race</th>\n",
       "      <th>has_college</th>\n",
       "      <th>age</th>\n",
       "      <th>county</th>\n",
       "      <th>class94</th>\n",
       "      <th>discretized_age</th>\n",
       "    </tr>\n",
       "  </thead>\n",
       "  <tbody>\n",
       "    <tr>\n",
       "      <th>0</th>\n",
       "      <td>151404</td>\n",
       "      <td>NaN</td>\n",
       "      <td>1</td>\n",
       "      <td>3.0</td>\n",
       "      <td>1</td>\n",
       "      <td>30</td>\n",
       "      <td>47</td>\n",
       "      <td>3</td>\n",
       "      <td>3</td>\n",
       "    </tr>\n",
       "    <tr>\n",
       "      <th>1</th>\n",
       "      <td>123453</td>\n",
       "      <td>NaN</td>\n",
       "      <td>0</td>\n",
       "      <td>0.0</td>\n",
       "      <td>0</td>\n",
       "      <td>21</td>\n",
       "      <td>175</td>\n",
       "      <td>3</td>\n",
       "      <td>2</td>\n",
       "    </tr>\n",
       "    <tr>\n",
       "      <th>2</th>\n",
       "      <td>187982</td>\n",
       "      <td>NaN</td>\n",
       "      <td>0</td>\n",
       "      <td>0.0</td>\n",
       "      <td>0</td>\n",
       "      <td>40</td>\n",
       "      <td>226</td>\n",
       "      <td>6</td>\n",
       "      <td>4</td>\n",
       "    </tr>\n",
       "    <tr>\n",
       "      <th>3</th>\n",
       "      <td>122356</td>\n",
       "      <td>NaN</td>\n",
       "      <td>1</td>\n",
       "      <td>0.0</td>\n",
       "      <td>1</td>\n",
       "      <td>27</td>\n",
       "      <td>40</td>\n",
       "      <td>4</td>\n",
       "      <td>2</td>\n",
       "    </tr>\n",
       "    <tr>\n",
       "      <th>4</th>\n",
       "      <td>210750</td>\n",
       "      <td>42900.0</td>\n",
       "      <td>1</td>\n",
       "      <td>0.0</td>\n",
       "      <td>0</td>\n",
       "      <td>52</td>\n",
       "      <td>10</td>\n",
       "      <td>3</td>\n",
       "      <td>5</td>\n",
       "    </tr>\n",
       "  </tbody>\n",
       "</table>\n",
       "</div>"
      ],
      "text/plain": [
       "    index  annual_earnings  female  simplified_race  has_college  age  county  \\\n",
       "0  151404              NaN       1              3.0            1   30      47   \n",
       "1  123453              NaN       0              0.0            0   21     175   \n",
       "2  187982              NaN       0              0.0            0   40     226   \n",
       "3  122356              NaN       1              0.0            1   27      40   \n",
       "4  210750          42900.0       1              0.0            0   52      10   \n",
       "\n",
       "   class94  discretized_age  \n",
       "0        3                3  \n",
       "1        3                2  \n",
       "2        6                4  \n",
       "3        4                2  \n",
       "4        3                5  "
      ]
     },
     "execution_count": 18,
     "metadata": {},
     "output_type": "execute_result"
    }
   ],
   "source": [
    "cps.head()"
   ]
  },
  {
   "cell_type": "markdown",
   "metadata": {},
   "source": [
    "> to drop:\n",
    "\"annual_earnings\" NaN missing values,\n",
    "\"age\",\n",
    "\"index\""
   ]
  },
  {
   "cell_type": "code",
   "execution_count": 19,
   "metadata": {},
   "outputs": [],
   "source": [
    "dropped_cps = cps.drop([\"age\", \"index\"], axis=\"columns\")"
   ]
  },
  {
   "cell_type": "code",
   "execution_count": 20,
   "metadata": {},
   "outputs": [
    {
     "data": {
      "text/plain": [
       "5635"
      ]
     },
     "execution_count": 20,
     "metadata": {},
     "output_type": "execute_result"
    }
   ],
   "source": [
    "missing_values = dropped_cps[\"annual_earnings\"].isnull().sum()\n",
    "missing_values"
   ]
  },
  {
   "cell_type": "code",
   "execution_count": 21,
   "metadata": {},
   "outputs": [
    {
     "data": {
      "text/html": [
       "<div>\n",
       "<style scoped>\n",
       "    .dataframe tbody tr th:only-of-type {\n",
       "        vertical-align: middle;\n",
       "    }\n",
       "\n",
       "    .dataframe tbody tr th {\n",
       "        vertical-align: top;\n",
       "    }\n",
       "\n",
       "    .dataframe thead th {\n",
       "        text-align: right;\n",
       "    }\n",
       "</style>\n",
       "<table border=\"1\" class=\"dataframe\">\n",
       "  <thead>\n",
       "    <tr style=\"text-align: right;\">\n",
       "      <th></th>\n",
       "      <th>annual_earnings</th>\n",
       "      <th>female</th>\n",
       "      <th>simplified_race</th>\n",
       "      <th>has_college</th>\n",
       "      <th>county</th>\n",
       "      <th>class94</th>\n",
       "      <th>discretized_age</th>\n",
       "    </tr>\n",
       "  </thead>\n",
       "  <tbody>\n",
       "    <tr>\n",
       "      <th>4</th>\n",
       "      <td>42900.0</td>\n",
       "      <td>1</td>\n",
       "      <td>0.0</td>\n",
       "      <td>0</td>\n",
       "      <td>10</td>\n",
       "      <td>3</td>\n",
       "      <td>5</td>\n",
       "    </tr>\n",
       "    <tr>\n",
       "      <th>5</th>\n",
       "      <td>31200.0</td>\n",
       "      <td>0</td>\n",
       "      <td>2.0</td>\n",
       "      <td>0</td>\n",
       "      <td>31</td>\n",
       "      <td>3</td>\n",
       "      <td>3</td>\n",
       "    </tr>\n",
       "    <tr>\n",
       "      <th>7</th>\n",
       "      <td>20020.0</td>\n",
       "      <td>0</td>\n",
       "      <td>0.0</td>\n",
       "      <td>1</td>\n",
       "      <td>8</td>\n",
       "      <td>3</td>\n",
       "      <td>6</td>\n",
       "    </tr>\n",
       "    <tr>\n",
       "      <th>8</th>\n",
       "      <td>22859.2</td>\n",
       "      <td>0</td>\n",
       "      <td>0.0</td>\n",
       "      <td>0</td>\n",
       "      <td>44</td>\n",
       "      <td>1</td>\n",
       "      <td>4</td>\n",
       "    </tr>\n",
       "    <tr>\n",
       "      <th>9</th>\n",
       "      <td>73860.8</td>\n",
       "      <td>0</td>\n",
       "      <td>0.0</td>\n",
       "      <td>1</td>\n",
       "      <td>24</td>\n",
       "      <td>3</td>\n",
       "      <td>3</td>\n",
       "    </tr>\n",
       "    <tr>\n",
       "      <th>...</th>\n",
       "      <td>...</td>\n",
       "      <td>...</td>\n",
       "      <td>...</td>\n",
       "      <td>...</td>\n",
       "      <td>...</td>\n",
       "      <td>...</td>\n",
       "      <td>...</td>\n",
       "    </tr>\n",
       "    <tr>\n",
       "      <th>11142</th>\n",
       "      <td>33800.0</td>\n",
       "      <td>1</td>\n",
       "      <td>3.0</td>\n",
       "      <td>0</td>\n",
       "      <td>247</td>\n",
       "      <td>3</td>\n",
       "      <td>3</td>\n",
       "    </tr>\n",
       "    <tr>\n",
       "      <th>11143</th>\n",
       "      <td>23920.0</td>\n",
       "      <td>0</td>\n",
       "      <td>3.0</td>\n",
       "      <td>0</td>\n",
       "      <td>272</td>\n",
       "      <td>3</td>\n",
       "      <td>5</td>\n",
       "    </tr>\n",
       "    <tr>\n",
       "      <th>11144</th>\n",
       "      <td>31200.0</td>\n",
       "      <td>0</td>\n",
       "      <td>2.0</td>\n",
       "      <td>0</td>\n",
       "      <td>246</td>\n",
       "      <td>3</td>\n",
       "      <td>2</td>\n",
       "    </tr>\n",
       "    <tr>\n",
       "      <th>11145</th>\n",
       "      <td>37440.0</td>\n",
       "      <td>0</td>\n",
       "      <td>0.0</td>\n",
       "      <td>0</td>\n",
       "      <td>99</td>\n",
       "      <td>3</td>\n",
       "      <td>2</td>\n",
       "    </tr>\n",
       "    <tr>\n",
       "      <th>11147</th>\n",
       "      <td>26000.0</td>\n",
       "      <td>0</td>\n",
       "      <td>1.0</td>\n",
       "      <td>0</td>\n",
       "      <td>23</td>\n",
       "      <td>2</td>\n",
       "      <td>5</td>\n",
       "    </tr>\n",
       "  </tbody>\n",
       "</table>\n",
       "<p>5515 rows × 7 columns</p>\n",
       "</div>"
      ],
      "text/plain": [
       "       annual_earnings  female  simplified_race  has_college  county  class94  \\\n",
       "4              42900.0       1              0.0            0      10        3   \n",
       "5              31200.0       0              2.0            0      31        3   \n",
       "7              20020.0       0              0.0            1       8        3   \n",
       "8              22859.2       0              0.0            0      44        1   \n",
       "9              73860.8       0              0.0            1      24        3   \n",
       "...                ...     ...              ...          ...     ...      ...   \n",
       "11142          33800.0       1              3.0            0     247        3   \n",
       "11143          23920.0       0              3.0            0     272        3   \n",
       "11144          31200.0       0              2.0            0     246        3   \n",
       "11145          37440.0       0              0.0            0      99        3   \n",
       "11147          26000.0       0              1.0            0      23        2   \n",
       "\n",
       "       discretized_age  \n",
       "4                    5  \n",
       "5                    3  \n",
       "7                    6  \n",
       "8                    4  \n",
       "9                    3  \n",
       "...                ...  \n",
       "11142                3  \n",
       "11143                5  \n",
       "11144                2  \n",
       "11145                2  \n",
       "11147                5  \n",
       "\n",
       "[5515 rows x 7 columns]"
      ]
     },
     "execution_count": 21,
     "metadata": {},
     "output_type": "execute_result"
    }
   ],
   "source": [
    "dropped_cps = dropped_cps.dropna(subset=['annual_earnings'])\n",
    "dropped_cps"
   ]
  },
  {
   "cell_type": "markdown",
   "metadata": {},
   "source": [
    "### Exercise 7\n",
    "\n",
    "The syntax of `dame_flame` is similar to the syntax of `sklearn`. If you start with a dataset called `my_data` with a `treat` variable with treatment assignment and an `outcome` variable for my outcome of interest ($Y$), the syntax to do basic matching would be:\n",
    "\n",
    "```python\n",
    "import dame_flame\n",
    "model = dame_flame.matching.DAME(\n",
    "    repeats=False,\n",
    "    verbose=3,\n",
    "    want_pe=True,\n",
    "    stop_unmatched_t=True,\n",
    ")\n",
    "model.fit(\n",
    "    for_matching,\n",
    "    treatment_column_name=\"has_college\",\n",
    "    outcome_column_name=\"annual_earnings\",\n",
    ")\n",
    "result = model.predict(for_matching)\n",
    "```\n",
    "\n",
    "Where the arguments:\n",
    "\n",
    "- `repeats=False` says that I only want each observation to get matched once. We'll talk about what happens if we use `repeats=True` below. \n",
    "- `verbose=3` tells dame to report everything it's doing as it goes. \n",
    "- `want_pe` says \"please include the predictive error in your printout at each step\". This is a measure of match quality. \n",
    "- `stop_unmatched_t` says \"once you've matched all the treatment units, you can stop.\"\n",
    "\n",
    "So run DAME on your data!"
   ]
  },
  {
   "cell_type": "code",
   "execution_count": 22,
   "metadata": {},
   "outputs": [
    {
     "name": "stdout",
     "output_type": "stream",
     "text": [
      "Completed iteration 0 of matching\n",
      "\tNumber of matched groups formed in total:  370\n",
      "\tUnmatched treated units:  644 out of a total of  1150 treated units\n",
      "\tUnmatched control units:  3187 out of a total of  4365 control units\n",
      "\tNumber of matches made this iteration:  1684\n",
      "\tNumber of matches made so far:  1684\n",
      "\tCovariates dropped so far:  set()\n",
      "\tPredictive error of covariate set used to match:  1199312680.0957856\n",
      "Completed iteration 1 of matching\n",
      "\tNumber of matched groups formed in total:  494\n",
      "\tUnmatched treated units:  25 out of a total of  1150 treated units\n",
      "\tUnmatched control units:  180 out of a total of  4365 control units\n",
      "\tNumber of matches made this iteration:  3626\n",
      "\tNumber of matches made so far:  5310\n",
      "\tCovariates dropped so far:  frozenset({'county'})\n",
      "\tPredictive error of covariate set used to match:  1199421883.1095908\n",
      "Completed iteration 2 of matching\n",
      "\tNumber of matched groups formed in total:  494\n",
      "\tUnmatched treated units:  25 out of a total of  1150 treated units\n",
      "\tUnmatched control units:  180 out of a total of  4365 control units\n",
      "\tNumber of matches made this iteration:  0\n",
      "\tNumber of matches made so far:  5310\n",
      "\tCovariates dropped so far:  frozenset({'simplified_race'})\n",
      "\tPredictive error of covariate set used to match:  1204727749.8949614\n",
      "Completed iteration 3 of matching\n",
      "\tNumber of matched groups formed in total:  505\n",
      "\tUnmatched treated units:  8 out of a total of  1150 treated units\n",
      "\tUnmatched control units:  129 out of a total of  4365 control units\n",
      "\tNumber of matches made this iteration:  68\n",
      "\tNumber of matches made so far:  5378\n",
      "\tCovariates dropped so far:  frozenset({'simplified_race', 'county'})\n",
      "\tPredictive error of covariate set used to match:  1204742613.4791539\n",
      "Completed iteration 4 of matching\n",
      "\tNumber of matched groups formed in total:  505\n",
      "\tUnmatched treated units:  8 out of a total of  1150 treated units\n",
      "\tUnmatched control units:  129 out of a total of  4365 control units\n",
      "\tNumber of matches made this iteration:  0\n",
      "\tNumber of matches made so far:  5378\n",
      "\tCovariates dropped so far:  frozenset({'class94'})\n",
      "\tPredictive error of covariate set used to match:  1205072671.32629\n",
      "Completed iteration 5 of matching\n",
      "\tNumber of matched groups formed in total:  508\n",
      "\tUnmatched treated units:  5 out of a total of  1150 treated units\n",
      "\tUnmatched control units:  120 out of a total of  4365 control units\n",
      "\tNumber of matches made this iteration:  12\n",
      "\tNumber of matches made so far:  5390\n",
      "\tCovariates dropped so far:  frozenset({'class94', 'county'})\n",
      "\tPredictive error of covariate set used to match:  1205171280.4727237\n",
      "Completed iteration 6 of matching\n",
      "\tNumber of matched groups formed in total:  509\n",
      "\tUnmatched treated units:  4 out of a total of  1150 treated units\n",
      "\tUnmatched control units:  119 out of a total of  4365 control units\n",
      "\tNumber of matches made this iteration:  2\n",
      "\tNumber of matches made so far:  5392\n",
      "\tCovariates dropped so far:  frozenset({'simplified_race', 'class94'})\n",
      "\tPredictive error of covariate set used to match:  1210524158.7436352\n",
      "Completed iteration 7 of matching\n",
      "\tNumber of matched groups formed in total:  511\n",
      "\tUnmatched treated units:  0 out of a total of  1150 treated units\n",
      "\tUnmatched control units:  110 out of a total of  4365 control units\n",
      "\tNumber of matches made this iteration:  13\n",
      "\tNumber of matches made so far:  5405\n",
      "\tCovariates dropped so far:  frozenset({'simplified_race', 'class94', 'county'})\n",
      "\tPredictive error of covariate set used to match:  1210539313.933855\n",
      "5405 units matched. We finished with no more treated units to match\n"
     ]
    }
   ],
   "source": [
    "import dame_flame\n",
    "model = dame_flame.matching.DAME(\n",
    "    repeats=False,\n",
    "    verbose=3,\n",
    "    want_pe=True,\n",
    "    stop_unmatched_t=True,\n",
    ")\n",
    "model.fit(\n",
    "    dropped_cps,\n",
    "    treatment_column_name=\"has_college\",\n",
    "    outcome_column_name=\"annual_earnings\",\n",
    ")\n",
    "result = model.predict(dropped_cps)"
   ]
  },
  {
   "attachments": {},
   "cell_type": "markdown",
   "metadata": {},
   "source": [
    "## Interpreting DAME output\n",
    "\n",
    "The output you get from doing this *should* be reports from about 8 iterations of matching. In each iteration, you'll see a description of the number of matches made in the iteration, the number of treatment units still unmatched, and the number of control units unmatched. \n",
    "\n",
    "In the first iteration, the algorithm tries to match observations that match on *all* the variables in your data. That's why in the first iteration, you see the set of variables being dropped is an empty set (`Covariates dropped so far: set()`) — it *hasn't* dropped any variables:\n",
    "\n",
    "```\n",
    "Completed iteration 0 of matching\n",
    "\tNumber of matched groups formed in total:  370\n",
    "\tUnmatched treated units:  644 out of a total of  1150 treated units\n",
    "\tUnmatched control units:  3187 out of a total of  4365 control units\n",
    "\tNumber of matches made this iteration:  1684\n",
    "\tNumber of matches made so far:  1684\n",
    "\tCovariates dropped so far:  set()\n",
    "\tPredictive error of covariate set used to match:  1199312680.0957854\n",
    "\n",
    "```\n",
    "\n",
    "(Note depending on how you binned ages, you may get slightly different results than this)\n",
    "\n",
    "But as we can see from this output, the algorithm found 1,684 perfect matches—pairs of observations (one treated, one untreated) that had *exactly* the same value of all the variables we included. But we also see we still have 644 *unmatched* treated units, so what do we do?"
   ]
  },
  {
   "cell_type": "markdown",
   "metadata": {},
   "source": [
    "\n",
    "The answer is that if we want to match more of our treatment variables, we have to try and match on a subset of our variables.\n",
    "\n",
    "But what variable should we drop? This is the secret sauce of DAME. DAME picks the variables to drop by trying to predict our outcome $Y$ using all our variables (by default using a ridge regression), then it drops the matching variable that is contributing the least to that prediction. Since our goal in matching is to eliminate baseline differences ($E(Y_0|D=1) - E(Y_1|D=0)$), dropping the covariates least related to $Y$ makes sense.\n",
    "\n",
    "As a result, in the second iteration (called iteration 1, since it uses 0-based indexing), we see that the variable it drops first is `county`, and it's subsequently able to make another 3,626 new matches on the remaining variables!\n",
    "\n",
    "```\n",
    "Completed iteration 1 of matching\n",
    "\tNumber of matched groups formed in total:  494\n",
    "\tUnmatched treated units:  25 out of a total of  1150 treated units\n",
    "\tUnmatched control units:  180 out of a total of  4365 control units\n",
    "\tNumber of matches made this iteration:  3626\n",
    "\tNumber of matches made so far:  5310\n",
    "\tCovariates dropped so far:  frozenset({'county'})\n",
    "\tPredictive error of covariate set used to match:  1199421883.1095908\n",
    "\n",
    "```\n",
    "\n",
    "And so DAME continues until its matched all treated observations, and even then it keeps going to evaluate different covariates it might exclude."
   ]
  },
  {
   "attachments": {},
   "cell_type": "markdown",
   "metadata": {},
   "source": [
    "## Exercise 8\n",
    "\n",
    "Congratulations! You just on your first one-to-many matching! \n",
    "\n",
    "The next step is to think about which of the matches that DAME generated are good enough for inclusion in our analysis. As you may recall, one of the choices you have to make as a researcher when doing matching is how \"good\" a match has to be in order to be included in your final data set. By default, DAME will keep dropping matching variables until it has been able to match all the treated observations or runs out of variables. It will do this no matter how bad the matches start to become -- if it ends up with the treated observation and a control observation that can only be matched on gender, it will match them just on gender, even though we probably don't think that that's a \"good\" match.\n",
    "\n",
    "The way to control this behavior is to tell DAME when to stop manually using the `early_stop_iterations` argument to tell the matching algorithm when to stop.\n",
    "\n",
    "So when is a good time to stop? There's no objective or \"right\" answer to that question. It fundamentally comes down to a trade-off between bias (which gets higher is you allow more low quality matches into your data) and variance (which will go down as you increase the number of matches you keep).\n",
    "\n",
    "But one way to start the process of picking a cut point is to examine how the quality of matches evolves over iterations. DAME keeps this information in `model.pe_each_iter`. This shows, for each iteration, the \"prediction error\" resulting from dropping the variables excluded in each step. This \"prediction error\" is the difference in the mean-squared error of regressing $Y$ on our matching variables (by default in a ridge regression) with all variables versus with the subset being used for matching in a given iteration. By design, of course, this is always increasing. \n",
    "\n",
    "To see how this evolves, plot your `pe` against iteration numbers. You can also see the `pe` values for each iteration reported in the output from when DAME ran above if you want to make your you're lining up the errors with iterations right. \n",
    "\n",
    "Are there any points where the match quality seems to fall off dramatically? "
   ]
  },
  {
   "cell_type": "code",
   "execution_count": 32,
   "metadata": {},
   "outputs": [],
   "source": [
    "pe_each_iter = model.pe_each_iter"
   ]
  },
  {
   "cell_type": "code",
   "execution_count": 33,
   "metadata": {},
   "outputs": [
    {
     "data": {
      "image/png": "[encoded data removed]",
      "text/plain": [
       "<Figure size 1000x600 with 1 Axes>"
      ]
     },
     "metadata": {},
     "output_type": "display_data"
    }
   ],
   "source": [
    "iterations = list(range(0, len(pe_each_iter)))\n",
    "\n",
    "plt.figure(figsize=(10,6))\n",
    "plt.plot(iterations, pe_each_iter, marker='o', linestyle='-', color='b')\n",
    "plt.title('Prediction Error by Iteration')\n",
    "plt.xlabel('Iteration Number')\n",
    "plt.ylabel('Prediction Error')\n",
    "plt.grid(True)\n",
    "plt.show()"
   ]
  },
  {
   "cell_type": "markdown",
   "metadata": {},
   "source": [
    "> It looks like the match quality fall off dramatically starting at point 2 and then at 6."
   ]
  },
  {
   "attachments": {},
   "cell_type": "markdown",
   "metadata": {},
   "source": [
    "### Exercise 9\n",
    "\n",
    "Suppose we want to ensure we have at least 5,000 observations in our matched data—where might you cut off the data to get a sample size of at least that but before a big quality falloff?"
   ]
  },
  {
   "cell_type": "markdown",
   "metadata": {},
   "source": [
    "> Since quality falls off dramatically between points 1 and 2, we would cut off after interation point #1 at the graph."
   ]
  },
  {
   "cell_type": "markdown",
   "metadata": {},
   "source": [
    "### Exercise 10\n",
    "\n",
    "Re-run your matching, stopping at the point you picked above using `early_stop_iterations`."
   ]
  },
  {
   "cell_type": "code",
   "execution_count": 34,
   "metadata": {},
   "outputs": [
    {
     "name": "stdout",
     "output_type": "stream",
     "text": [
      "Completed iteration 0 of matching\n",
      "\tNumber of matched groups formed in total:  370\n",
      "\tUnmatched treated units:  644 out of a total of  1150 treated units\n",
      "\tUnmatched control units:  3187 out of a total of  4365 control units\n",
      "\tNumber of matches made this iteration:  1684\n",
      "\tNumber of matches made so far:  1684\n",
      "\tCovariates dropped so far:  set()\n",
      "\tPredictive error of covariate set used to match:  1199312680.0957856\n",
      "Completed iteration 1 of matching\n",
      "\tNumber of matched groups formed in total:  494\n",
      "\tUnmatched treated units:  25 out of a total of  1150 treated units\n",
      "\tUnmatched control units:  180 out of a total of  4365 control units\n",
      "\tNumber of matches made this iteration:  3626\n",
      "\tNumber of matches made so far:  5310\n",
      "\tCovariates dropped so far:  frozenset({'county'})\n",
      "\tPredictive error of covariate set used to match:  1199421883.1095908\n",
      "5310 units matched. We stopped after iteration 1\n"
     ]
    }
   ],
   "source": [
    "ex10 = dame_flame.matching.DAME(\n",
    "    repeats=False,\n",
    "    verbose=3,\n",
    "    want_pe=True,\n",
    "    stop_unmatched_t=True,\n",
    "    early_stop_iterations=1\n",
    ")\n",
    "\n",
    "ex10.fit(\n",
    "    dropped_cps,\n",
    "    treatment_column_name=\"has_college\",\n",
    "    outcome_column_name=\"annual_earnings\",\n",
    ")\n",
    "\n",
    "ex10_result = ex10.predict(dropped_cps)"
   ]
  },
  {
   "cell_type": "markdown",
   "metadata": {},
   "source": [
    "## Getting Back a Dataset\n",
    "\n",
    "OK, my one current complaint with DAME is that it doesn't just give you back a nice dataset of your matches for analysis. If we look at our results — `matches` — it's *almost* what we want, except it has dropped our treatment and outcome columns, and put a string `*` in any entry where a value *wasn't* used for matching:\n",
    "\n",
    "```\n",
    "  female simplified_race   county   class94   discretized_age\n",
    "0  1.0     0.0              10.0      3.0          5.0\n",
    "1  0.0     2.0              *         3.0          3.0\n",
    "2  0.0     0.0              8.0        3.0         6.0\n",
    "3  0.0     0.0              *         1.0          4.0\n",
    "4  0.0     0.0              24.0      3.0          3.0\n",
    "```\n",
    "\n",
    "So for now (though I think this will get updated in the package), we'll have to do it ourselves! Just copy-paste this:\n",
    "\n",
    "```python\n",
    "\n",
    "def get_dataframe(model, result_of_fit):\n",
    "\n",
    "    # Get original data\n",
    "    better = model.input_data.loc[result_of_fit.index]\n",
    "    if not better.index.is_unique:\n",
    "        raise ValueError(\"Need index values in input data to be unique\")\n",
    "\n",
    "    # Get match groups for clustering\n",
    "    better[\"match_group\"] = np.nan\n",
    "    better[\"match_group_size\"] = np.nan\n",
    "    for idx, group in enumerate(model.units_per_group):\n",
    "        better.loc[group, \"match_group\"] = idx\n",
    "        better.loc[group, \"match_group_size\"] = len(group)\n",
    "\n",
    "    # Get weights. I THINK this is right?! At least for with repeat=False?\n",
    "    t = model.treatment_column_name\n",
    "    better[\"t_in_group\"] = better.groupby(\"match_group\")[t].transform(np.sum)\n",
    "\n",
    "    # Make weights\n",
    "    better[\"weights\"] = np.nan\n",
    "    better.loc[better[t] == 1, \"weights\"] = 1  # treaments are 1\n",
    "\n",
    "    # Controls start as proportional to num of treatments\n",
    "    # each observation is matched to.\n",
    "    better.loc[better[t] == 0, \"weights\"] = better[\"t_in_group\"] / (\n",
    "        better[\"match_group_size\"] - better[\"t_in_group\"]\n",
    "    )\n",
    "\n",
    "    # Then re-normalize for num unique control observations.\n",
    "    control_weights = better[better[t] == 0][\"weights\"].sum()\n",
    "\n",
    "    num_control_obs = len(better[better[t] == 0].index.drop_duplicates())\n",
    "    renormalization = num_control_obs / control_weights\n",
    "    better.loc[better[t] == 0, \"weights\"] = (\n",
    "        better.loc[better[t] == 0, \"weights\"] * renormalization\n",
    "    )\n",
    "    assert better.weights.notnull().all()\n",
    "\n",
    "    better = better.drop([\"t_in_group\"], axis=\"columns\")\n",
    "\n",
    "    # Make sure right length and values!\n",
    "    assert len(result_of_fit) == len(better)\n",
    "    assert better.loc[better[t] == 0, \"weights\"].sum() == num_control_obs\n",
    "\n",
    "    return better\n",
    "\n",
    "```\n"
   ]
  },
  {
   "cell_type": "markdown",
   "metadata": {},
   "source": [
    "\n",
    "### Exercise 11\n",
    "\n",
    "Copy-paste that code and run it with your original data, your (fit) model, and what you got back when you ran `result_of_fit`. Then we'll work with the output of that. You should get back a single dataframe of the same length as your original model."
   ]
  },
  {
   "cell_type": "markdown",
   "metadata": {},
   "source": [
    "## Check Your Matches and Analyze\n",
    "\n",
    "### Exercise 12\n",
    "\n",
    "We previously tested balance on `simplified_race` and `county`. Check those again. Are there still statistically significant differences in college education by `simplified_race`?\n",
    "\n",
    "Note that when you test for this, you'll need to take into account the `weights` column you got back from `get_dataframe`. What DAME does is not actually the 1-to-1 matching described in our readings — instead, however many observations that exact match it finds it puts in the same \"group\". (These groups are identified in the dataframe you got from `get_dataframe` by the column `match_group`, and the size of each group is in `match_group_size`.)\n",
    "\n",
    "So to analyze the data, you need to use the `wls` (weighted least squares) function in `statsmodels`. For example, if your data is called `matched_data`, you might run:\n",
    "\n",
    "```python\n",
    "smf.wls(\n",
    "    \"has_college ~ C(simplified_race)\", matched_data, weights=matched_data[\"weights\"]\n",
    ").fit().summary()\n",
    "```"
   ]
  },
  {
   "cell_type": "markdown",
   "metadata": {},
   "source": [
    "\n",
    "### Exercise 13\n",
    "\n",
    "Now use a weighted least squares regression on your matched data to regress annual earnings on *just* having a college eduction. What is the apparent effect of a BA? How does that compare to our initial estimate using the raw CPS data (before matching)?"
   ]
  },
  {
   "cell_type": "markdown",
   "metadata": {},
   "source": [
    "### Exercise 14\n",
    "\n",
    "Now include our other matching variables as controls (e.g. all the coefficients you gave to DAME to use). Does the coefficient change?"
   ]
  },
  {
   "attachments": {},
   "cell_type": "markdown",
   "metadata": {},
   "source": [
    "### Exercise 15\n",
    "\n",
    "If you stopped matching after the second iteration (Iteration 1) back in Exercise 10, you may be wondering if that was a good choice! Let's check by restricting our attention to ONLY exact matches (`iteration = 0`). Run that match."
   ]
  },
  {
   "cell_type": "markdown",
   "metadata": {},
   "source": [
    "\n",
    "### Exercise 16\n",
    "\n",
    "Now use a weighted linear regression on your matched data to regress annual earnings on *just* having a college eduction. Is that different from what you had when you allowed more low quality matches?"
   ]
  },
  {
   "cell_type": "markdown",
   "metadata": {},
   "source": [
    "## Other Forms of Matching\n",
    "\n",
    "OK, hopefully this gives you a taste of matching! There are, of course, *many* other permutations to be aware of though. \n",
    "\n",
    "- Matching with replacement.  In this exercise, we set `repeat=False`, so each observation could only end up in our final dataset once. However, if we use `repeat=True`, if an untreated observation is the closest observation to multiple treated observations, it may get put in the dataset multiple times. We can still use this dataset in *almost* the same way, though, except we have to make use of weights so that if an observation appears, say, twice, each observation has a weight that's 1/2 the weight of an observation only appearing once. \n",
    "- Matching with continuous variables: DAME is used for exact matching, but if you have lots of continuous variables, you can also match on those. In fact, the Almost Exact Matching Lab also has a library called [MALTS](https://almost-matching-exactly.github.io/MALTS/) that will do matching with continuous variables. That package does something *like* Mahalanobis Distance matching, but ulike Mahalanobis, which calculates the distance between observations in terms of the difference in all the matching variables normalized by each matching variable's standard deviation, MALTS does something much more clever. (Here's [the paper](https://arxiv.org/abs/1811.07415) describing the technique if you want all the details). Basically, it figures out how well each matching variable predicts our outcome $Y$, then weights the different variables by their predictive power instead of just normalizing by something arbitrary like their standard deviation. As a result, final matches will prioritize matching more closely on variables that are outcome-relevant. In addition, when it sees a categorical variable, it recognizes that and only pairs observations when they are an exact match on that categorical variable. \n",
    "- If you're dataset is huge, use `FLAME`: this dataset is small, but if you have lots of observations and lots of matching variable, the computational complexity of this task explodes, so the AEML created FLAME, which works with millions of observations at only a small cost to match quality. "
   ]
  }
 ],
 "metadata": {
  "kernelspec": {
   "display_name": "base",
   "language": "python",
   "name": "python3"
  },
  "language_info": {
   "codemirror_mode": {
    "name": "ipython",
    "version": 3
   },
   "file_extension": ".py",
   "mimetype": "text/x-python",
   "name": "python",
   "nbconvert_exporter": "python",
   "pygments_lexer": "ipython3",
   "version": "3.10.13"
  },
  "vscode": {
   "interpreter": {
    "hash": "718fed28bf9f8c7851519acf2fb923cd655120b36de3b67253eeb0428bd33d2d"
   }
  }
 },
 "nbformat": 4,
 "nbformat_minor": 4
}
