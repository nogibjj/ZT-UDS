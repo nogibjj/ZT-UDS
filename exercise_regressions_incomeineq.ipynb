{
 "cells": [
  {
   "attachments": {},
   "cell_type": "markdown",
   "metadata": {},
   "source": [
    "# Estimating Gender Discrimination in the Workplace\n",
    "\n",
    "In this exercise we'll use data from the 2018 US Current Population Survey (CPS) to try and estimate the effect of being a woman on workplace compensation. \n",
    "\n",
    "Note that our focus will be *only* on differential compensation in the work place, and as a result it is important to bear in mind that our estimates are not estimates of *all* forms of gender discrimination. For example, these analyses will not account for things like gender discrimination in terms of *getting* jobs. We'll discuss this in more detail below."
   ]
  },
  {
   "cell_type": "code",
   "execution_count": 2,
   "metadata": {},
   "outputs": [],
   "source": [
    "import warnings\n",
    "import numpy as np\n",
    "import pandas as pd\n",
    "\n",
    "warnings.filterwarnings(\"ignore\")\n",
    "pd.set_option(\"mode.copy_on_write\", True)"
   ]
  },
  {
   "cell_type": "markdown",
   "metadata": {},
   "source": [
    "## Exercise 1: \n",
    "\n",
    "Begin by downloading and importing 2018 CPS data from [https://github.com/nickeubank/MIDS_Data/tree/master/Current_Population_Survey](https://github.com/nickeubank/MIDS_Data/tree/master/Current_Population_Survey). The file is called `morg18.dta` and is a Stata dataset. Additional data on the dataset can be found by following the links in the README.txt file in the folder, but for the moment it is sufficient to know this is a national survey run in the United States.\n",
    "\n",
    "The survey does include some survey weights we won't be using (i.e. not everyone in the sample was included with the same probability), so the numbers we estimate will not be perfect estimates of the gender wage gap in the United States, but they are pretty close."
   ]
  },
  {
   "cell_type": "code",
   "execution_count": 3,
   "metadata": {},
   "outputs": [],
   "source": [
    "data = pd.read_stata(\n",
    "    \"https://github.com/nickeubank/MIDS_Data/blob/master/Current_Population_Survey/morg18.dta?raw=true\"\n",
    ")"
   ]
  },
  {
   "attachments": {},
   "cell_type": "markdown",
   "metadata": {},
   "source": [
    "## Exercise 2:\n",
    "\n",
    "Because our interest is only in-the-workplace wage discrimination among full-time workers, we need to start by subsetting our data for people currently employed (and \"at work\", not \"absent\") at the time of this survey using the `lfsr94` variable, who are employed full time (meaning that their usual hours per week—`uhourse`—is 35 or above).\n",
    "\n",
    "As noted above, this analysis will miss many forms of gender discrimination. For example, in dropping anyone who isn't working, we immediately lose any women who couldn't get jobs, or who chose to lose the workforce because the wages they were offered (which were likely lower than those offered men) were lower than they were willing / could accept. And in focusing on full time employees, we miss the fact women may not be offered full time jobs at the same rate as men. "
   ]
  },
  {
   "cell_type": "code",
   "execution_count": 9,
   "metadata": {},
   "outputs": [
    {
     "data": {
      "text/plain": [
       "['Disabled-Not In Labor Force', 'Retired-Not In Labor Force', 'Employed-At Work', 'Unemployed-Looking', 'Employed-Absent', 'Other-Not In Labor Force', NaN, 'Unemployed-On Layoff']\n",
       "Categories (7, object): ['Employed-At Work' < 'Employed-Absent' < 'Unemployed-On Layoff' < 'Unemployed-Looking' < 'Retired-Not In Labor Force' < 'Disabled-Not In Labor Force' < 'Other-Not In Labor Force']"
      ]
     },
     "execution_count": 9,
     "metadata": {},
     "output_type": "execute_result"
    }
   ],
   "source": [
    "data[\"lfsr94\"].unique()"
   ]
  },
  {
   "cell_type": "code",
   "execution_count": 10,
   "metadata": {},
   "outputs": [
    {
     "data": {
      "text/plain": [
       "array([nan, 40., 30., -4., 36., 20., 48., 35., 44., 15., 50., 45., -1.,\n",
       "       60., 17., 19., 41., 10., 70., 25., 11., 75., 18., 32.,  2., 80.,\n",
       "        5., 24.,  4.,  3., 38.,  6., 56., 96., 82., 55., 52., 77., 84.,\n",
       "        0., 12., 16., 42., 43., 54., 23., 53., 33., 28., 65.,  9., 37.,\n",
       "       72., 26.,  7., 61., 27., 99., 58.,  8., 21., 22., 13., 47., 63.,\n",
       "        1., 46., 39., 29., 14., 49., 66., 34., 57., 90., 62., 85., 31.,\n",
       "       87., 68., 69., 76., 83., 98., 88., 51., 78., 64., 67., 92., 95.,\n",
       "       74., 86., 81., 59., 71., 73., 91., 89., 94.])"
      ]
     },
     "execution_count": 10,
     "metadata": {},
     "output_type": "execute_result"
    }
   ],
   "source": [
    "data[\"uhourse\"].unique()"
   ]
  },
  {
   "cell_type": "code",
   "execution_count": 18,
   "metadata": {},
   "outputs": [],
   "source": [
    "subset = data[data[\"lfsr94\"] == \"Employed-At Work\"]\n",
    "subset = data[data[\"uhourse\"] >= 35]"
   ]
  },
  {
   "cell_type": "code",
   "execution_count": 19,
   "metadata": {},
   "outputs": [
    {
     "name": "stdout",
     "output_type": "stream",
     "text": [
      "<class 'pandas.core.frame.DataFrame'>\n",
      "Index: 137868 entries, 2 to 302329\n",
      "Data columns (total 98 columns):\n",
      " #   Column     Non-Null Count   Dtype   \n",
      "---  ------     --------------   -----   \n",
      " 0   hhid       137868 non-null  object  \n",
      " 1   intmonth   137868 non-null  category\n",
      " 2   hurespli   137855 non-null  float64 \n",
      " 3   hrhtype    137868 non-null  category\n",
      " 4   minsamp    137868 non-null  category\n",
      " 5   hrlonglk   137868 non-null  category\n",
      " 6   hrsample   137868 non-null  object  \n",
      " 7   hrhhid2    137868 non-null  object  \n",
      " 8   serial     137868 non-null  object  \n",
      " 9   hhnum      137868 non-null  int8    \n",
      " 10  stfips     137868 non-null  category\n",
      " 11  cbsafips   137868 non-null  int32   \n",
      " 12  county     137868 non-null  int16   \n",
      " 13  centcity   114693 non-null  float64 \n",
      " 14  smsastat   136656 non-null  float64 \n",
      " 15  icntcity   18890 non-null   float64 \n",
      " 16  smsa04     137868 non-null  int8    \n",
      " 17  relref95   137868 non-null  int8    \n",
      " 18  age        137868 non-null  int8    \n",
      " 19  spouse     78237 non-null   float64 \n",
      " 20  sex        137868 non-null  int8    \n",
      " 21  grade92    137868 non-null  int8    \n",
      " 22  race       137868 non-null  int8    \n",
      " 23  ethnic     18958 non-null   float64 \n",
      " 24  lineno     137868 non-null  int8    \n",
      " 25  famnum     137868 non-null  int8    \n",
      " 26  pfamrel    137868 non-null  int8    \n",
      " 27  marital    137868 non-null  int8    \n",
      " 28  prpertyp   137868 non-null  int8    \n",
      " 29  penatvty   137868 non-null  category\n",
      " 30  pemntvty   137868 non-null  category\n",
      " 31  pefntvty   137868 non-null  category\n",
      " 32  prcitshp   137868 non-null  category\n",
      " 33  prcitflg   137868 non-null  category\n",
      " 34  peinusyr   137868 non-null  category\n",
      " 35  selfproxy  135797 non-null  float64 \n",
      " 36  lfsr94     137868 non-null  category\n",
      " 37  absent94   4054 non-null    category\n",
      " 38  uhourse    137868 non-null  float64 \n",
      " 39  reason94   8611 non-null    category\n",
      " 40  hourslw    133814 non-null  float64 \n",
      " 41  laydur     0 non-null       float64 \n",
      " 42  dwrsn      0 non-null       float64 \n",
      " 43  why3594    8611 non-null    category\n",
      " 44  prunedur   0 non-null       float64 \n",
      " 45  untype     0 non-null       float64 \n",
      " 46  ftpt94     137868 non-null  category\n",
      " 47  class94    137868 non-null  category\n",
      " 48  agri       137868 non-null  float64 \n",
      " 49  eligible   137868 non-null  category\n",
      " 50  otc        126247 non-null  category\n",
      " 51  ernpdh2    76973 non-null   float64 \n",
      " 52  paidhre    126247 non-null  category\n",
      " 53  earnhre    67552 non-null   float64 \n",
      " 54  earnwke    126247 non-null  float64 \n",
      " 55  unionmme   126247 non-null  category\n",
      " 56  unioncov   111794 non-null  category\n",
      " 57  schenr     105129 non-null  float64 \n",
      " 58  studftpt   3891 non-null    category\n",
      " 59  schlvl     3891 non-null    float64 \n",
      " 60  earnwt     137868 non-null  float64 \n",
      " 61  weight     137868 non-null  float64 \n",
      " 62  chldpres   137868 non-null  int8    \n",
      " 63  ownchild   137868 non-null  int8    \n",
      " 64  I25d       126247 non-null  category\n",
      " 65  I25c       67585 non-null   category\n",
      " 66  I25a       137868 non-null  category\n",
      " 67  I25b       137868 non-null  category\n",
      " 68  qstnum     137868 non-null  object  \n",
      " 69  occurnum   137868 non-null  object  \n",
      " 70  ged        36024 non-null   float64 \n",
      " 71  gedhigr    3177 non-null    float64 \n",
      " 72  yrcoll     37302 non-null   float64 \n",
      " 73  grprof     0 non-null       float64 \n",
      " 74  gr6cor     0 non-null       float64 \n",
      " 75  ms123      0 non-null       float64 \n",
      " 76  cmpwgt     137868 non-null  float64 \n",
      " 77  ind02      137868 non-null  category\n",
      " 78  occ2012    137868 non-null  float64 \n",
      " 79  occ002     137868 non-null  int16   \n",
      " 80  vet1       8239 non-null    float64 \n",
      " 81  vet2       1853 non-null    float64 \n",
      " 82  vet3       392 non-null     float64 \n",
      " 83  vet4       18 non-null      float64 \n",
      " 84  linedad    12133 non-null   float64 \n",
      " 85  linemom    8415 non-null    float64 \n",
      " 86  recnum     137868 non-null  float32 \n",
      " 87  year       137868 non-null  int16   \n",
      " 88  ym_file    137868 non-null  int16   \n",
      " 89  ym         137868 non-null  int16   \n",
      " 90  ch02       137868 non-null  int8    \n",
      " 91  ch35       137868 non-null  int8    \n",
      " 92  ch613      137868 non-null  int8    \n",
      " 93  ch1417     137868 non-null  int8    \n",
      " 94  ch05       137868 non-null  int8    \n",
      " 95  ihigrdc    87496 non-null   float64 \n",
      " 96  docc00     137868 non-null  category\n",
      " 97  dind02     137868 non-null  category\n",
      "dtypes: category(30), float32(1), float64(36), int16(5), int32(1), int8(19), object(6)\n",
      "memory usage: 54.6+ MB\n"
     ]
    }
   ],
   "source": [
    "subset.info()"
   ]
  },
  {
   "attachments": {},
   "cell_type": "markdown",
   "metadata": {},
   "source": [
    "## Exercise 3\n",
    "\n",
    "Now let's estimate the basic wage gap for the United States!\n",
    "\n",
    "Earnings per week worked can be found in the `earnwke` variable. Using the variable `sex` (1=Male, 2=Female), estimate the gender wage gap in terms of wages per hour worked!\n",
    "\n",
    "(You may also find it helpful, for context, to estimate the average hourly pay by dividing weekly pay by `uhourse`.)"
   ]
  },
  {
   "cell_type": "code",
   "execution_count": 21,
   "metadata": {},
   "outputs": [],
   "source": [
    "subset[\"female\"] = (subset[\"sex\"] == 2).astype(int)\n",
    "subset[\"average_hourly_wage\"] = subset[\"earnwke\"] / subset[\"uhourse\"]\n",
    "female_avg = subset[subset[\"female\"] == 1].earnwke.mean()\n",
    "male_avg = subset[subset[\"female\"] == 0].earnwke.mean()\n",
    "average = subset.earnwke.mean()"
   ]
  },
  {
   "cell_type": "code",
   "execution_count": 26,
   "metadata": {},
   "outputs": [
    {
     "name": "stdout",
     "output_type": "stream",
     "text": [
      "basic wage gap for the United States is $ 218.4 with the percentage difference of 19.7%\n",
      "to be precise average wage per week for women is $ 987.6, in contrast to men which is $ 1206.0\n"
     ]
    }
   ],
   "source": [
    "print(f'basic wage gap for the United States is ${male_avg - female_avg: .1f} with the percentage difference of {(male_avg - female_avg)/average*100:.1f}%')\n",
    "print(f'to be precise average wage per week for women is ${female_avg: .1f}, in contrast to men which is ${male_avg: .1f}')"
   ]
  },
  {
   "attachments": {},
   "cell_type": "markdown",
   "metadata": {},
   "source": [
    "## Exercise 4\n",
    "\n",
    "Assuming 48 work weeks in a year, calculate annual earnings for men and women. Report the difference in dollars and in percentage terms."
   ]
  },
  {
   "cell_type": "code",
   "execution_count": 27,
   "metadata": {},
   "outputs": [],
   "source": [
    "subset[\"yearly_income\"] = subset[\"earnwke\"] * 48\n",
    "female_yearly = subset[subset[\"female\"] == 1].yearly_income.mean()\n",
    "male_yearly = subset[subset[\"female\"] == 0].yearly_income.mean()\n",
    "average_yearly = subset.yearly_income.mean()"
   ]
  },
  {
   "cell_type": "code",
   "execution_count": 29,
   "metadata": {},
   "outputs": [
    {
     "name": "stdout",
     "output_type": "stream",
     "text": [
      "basic wage gap for the United States is $ 10482.8 with the percentage difference of 19.7%\n",
      "to be precise average wage per year for women is $ 47405.6, in contrast to men which is $ 57888.4\n"
     ]
    }
   ],
   "source": [
    "print(f'basic wage gap for the United States is ${male_yearly - female_yearly: .1f} with the percentage difference of {(male_yearly - female_yearly)/average_yearly*100:.1f}%')\n",
    "print(f'to be precise average wage per year for women is ${female_yearly: .1f}, in contrast to men which is ${male_yearly: .1f}')"
   ]
  },
  {
   "cell_type": "markdown",
   "metadata": {},
   "source": [
    "## Exercise 5\n",
    "\n",
    "We just compared all full-time working men to all full-time working women. For this to be an accurate *causal* estimate of the effect of being a woman in the work place, what must be true of these two groups? What is one reason that this may *not* be true?"
   ]
  },
  {
   "cell_type": "markdown",
   "metadata": {},
   "source": [
    "> It might not to be true if men earn this much because they deserved that for working longer and having more experience. Maybe they have different achivements like more certifications or higher education level. If those are equal then it makes sense to conclude that there is a pay gap between men and and women.\n",
    "\n",
    "> It is true to compare if men and women do the same work and thus their potential outcomes are the same."
   ]
  },
  {
   "attachments": {},
   "cell_type": "markdown",
   "metadata": {},
   "source": [
    "## Exercise 6\n",
    "\n",
    "One answer to the second part of Exercise 5 is that working women are likely to be younger, since a larger portion of younger women are entering the workforce as compared to older generations.\n",
    "\n",
    "To *control* for this difference, let's now regress annual earnings on gender, age, and age-squared (the relationship between age and income is generally non-linear). What is the implied average annual wage difference between women and men? Is it different from your raw estimate? "
   ]
  },
  {
   "cell_type": "markdown",
   "metadata": {},
   "source": [
    "## Exercise 7\n",
    "\n",
    "In running this regression and interpreting the coefficient on `female`, what is the implicit comparison you are making? In other words, when we run this regression and interpreting the coefficient on `female`, we're basically pretending we are comparing two groups and assuming they are counter-factuals for one another. What are these two groups?"
   ]
  },
  {
   "cell_type": "markdown",
   "metadata": {},
   "source": [
    "## Exercise 8\n",
    "\n",
    "Now let's add to our regression an indicator variable for whether the respondent has at least graduated high school, and an indicator for whether the respondent at least has a BA. \n",
    "\n",
    "In answering this question, use the following table of codes for the variable `grade92`. \n",
    "\n",
    "Education is coded as follows:\n",
    "    \n",
    "![CPS Educ Codes](../images/cps_educ_codes.png)"
   ]
  },
  {
   "cell_type": "markdown",
   "metadata": {},
   "source": [
    "## Exercise 9 \n",
    "\n",
    "In running this regression and interpreting the coefficient on `female`, what is the implicit comparison you are making? In other words, when we run this regression and interpreting the coefficient on `female`, we are once more basically pretending we are comparing two groups and assuming they are counter-factuals for one another. What are these two groups?"
   ]
  },
  {
   "cell_type": "markdown",
   "metadata": {},
   "source": [
    "## Exercise 10\n",
    "\n",
    "Given how the coefficient on `female` has changed between Exercise 6 and Exercise 8, what can you infer about the educational attainment of the women in your survey data (as compared to the educational attainment of men)?"
   ]
  },
  {
   "cell_type": "markdown",
   "metadata": {},
   "source": [
    "## Exercise 11\n",
    "\n",
    "What does that tell you about the *potential outcomes* of men and women before you added education as a control?"
   ]
  },
  {
   "attachments": {},
   "cell_type": "markdown",
   "metadata": {},
   "source": [
    "## Exercise 12\n",
    "\n",
    "Finally, let's include *fixed effects* for the type of job held by each respondent. \n",
    "\n",
    "Fixed effects are a method used when we have a nested data structure in which respondents belong to groups, and those groups may all be subject to different pressures. In this context, for example, we can add fixed effects for the industry of each respondent—since wages often vary across industries, controlling for industry is likely to improve our estimates. Use `ind02` to control for industry.\n",
    "\n",
    "(Note that fixed effects are very similar in principle to hierarchical models. There are some differences [you will read about](../fixed_effects_v_hierarchical.ipynb) for our next class, but they are designed to serve the same role, just with slightly different mechanics). \n",
    "\n",
    "When we add fixed effects for groups like this, our interpretation of the other coefficients changes. Whereas in previous exercises we were trying to explain variation in men and women's wages *across all respondents*, we are now effectively comparing men and women's wages *within each employment sector*. Our coefficient on `female`, in other words, now tells us how much less (on average) we would expect a woman to be paid than a man *within the same industry*, not across all respondents. \n",
    "\n",
    "(Note that running this regression will result in lots of coefficients popping up you don't care about. We'll introduce some more efficient methods for adding fixed effects that aren't so messy in a later class -- for now, you can ignore those coefficients!)"
   ]
  },
  {
   "cell_type": "markdown",
   "metadata": {},
   "source": [
    "## Exercise 13\n",
    "\n",
    "Now that we've added industry fixed effects, what groups are we implicitly treated as counter-factuals for one another now? "
   ]
  },
  {
   "cell_type": "markdown",
   "metadata": {},
   "source": [
    "## Exercise 14\n",
    "\n",
    "What happened to your estimate of the gender wage gap when you added industry fixed effects? What does that tell you about the industries chosen by women as opposed to men?"
   ]
  },
  {
   "attachments": {},
   "cell_type": "markdown",
   "metadata": {},
   "source": [
    "When you're done, please come read [this discussion](discussion_regressions_incomeineq.ipynb)."
   ]
  }
 ],
 "metadata": {
  "kernelspec": {
   "display_name": "base",
   "language": "python",
   "name": "python3"
  },
  "language_info": {
   "codemirror_mode": {
    "name": "ipython",
    "version": 3
   },
   "file_extension": ".py",
   "mimetype": "text/x-python",
   "name": "python",
   "nbconvert_exporter": "python",
   "pygments_lexer": "ipython3",
   "version": "3.10.13"
  },
  "vscode": {
   "interpreter": {
    "hash": "718fed28bf9f8c7851519acf2fb923cd655120b36de3b67253eeb0428bd33d2d"
   }
  }
 },
 "nbformat": 4,
 "nbformat_minor": 4
}
