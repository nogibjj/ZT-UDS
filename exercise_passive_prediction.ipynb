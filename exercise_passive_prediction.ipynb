{
 "cells": [
  {
   "cell_type": "markdown",
   "metadata": {},
   "source": [
    "# Predicting Mortgage Delinquency Risk\n",
    "\n",
    "**Note: this is a new exercise, so if you find something weird, please bring it to my attention.**\n",
    "\n",
    "You have been hired by a mortgage servicing firm (a company that buys mortgages and then collects mortgage payments from homeowners) to build a model to answer the question: \n",
    "\n",
    "**Given all available information about a newly issued mortgage, what is the likelihood that the mortgage will enter delinquency (the homeowner will be at least 30 days late on a mortgage payment) during the first two years of the mortgage?**\n",
    "\n",
    "The servicer's hope, obviously, is to differentiate between mortgages to try and purchase (those that will be consistently paid) and mortgages they wish to avoid.\n",
    "\n",
    "For this task, you have been given [REAL data on a sample of all US Standard single family home mortgages purchased or insured by Freddie Mac](https://www.freddiemac.com/research/datasets/sf-loanlevel-dataset) in a single calendar year along with payment data from that and two subsequent years."
   ]
  },
  {
   "cell_type": "markdown",
   "metadata": {},
   "source": [
    "\n",
    "## Gradescope Autograding\n",
    "\n",
    "Please follow [all standard guidance](https://www.practicaldatascience.org/html/autograder_guidelines.html) for submitting this assignment to the Gradescope autograder, including storing your solutions in a dictionary called `results` and ensuring your notebook runs from the start to completion without any errors.\n",
    "\n",
    "For this assignment, please name your file `exercise_passive_prediction.ipynb` before uploading.\n",
    "\n",
    "You can check that you have answers for all questions in your `results` dictionary with this code:\n",
    "\n",
    "```python\n",
    "assert set(results.keys()) == {\n",
    "    \"ex2_merge_type\",\n",
    "    \"ex4_num_mortgages\",\n",
    "    \"ex5_num_obs\",\n",
    "    \"ex7_num_mortgages\",\n",
    "    \"ex7_share_delinquent\",\n",
    "    \"ex10_num_obs\",\n",
    "    \"ex12_roc_auc\",\n",
    "    \"ex14_false_negative_rate\",\n",
    "    \"ex16_num_obs\",\n",
    "    \"ex16_share_delinquent\",\n",
    "    \"ex17_false_negative_rate\",\n",
    "}\n",
    "```\n",
    "\n",
    "\n",
    "### Submission Limits\n",
    "\n",
    "Please remember that you are **only allowed FOUR submissions to the autograder.** Your last submission (if you submit 4 or fewer times), or your third submission (if you submit more than 4 times) will determine your grade Submissions that error out will **not** count against this total.\n",
    "\n",
    "That's one more than usual in case there are issues with exercise clarity."
   ]
  },
  {
   "cell_type": "markdown",
   "metadata": {},
   "source": [
    "## Data Cleaning and Organization\n",
    "\n",
    "Data for this exercise can be [found here](https://github.com/nickeubank/MIDS_Data/tree/master/mortgages/2004). This folder includes both the data to be used and documentation, though you can find [supplemental documentation here](https://www.freddiemac.com/research/datasets/sf-loanlevel-dataset).\n",
    "\n",
    "The only difference between this data and the original Freddie Mac sampled data is that I've limited the scope of service data to three calendar years."
   ]
  },
  {
   "cell_type": "code",
   "execution_count": 86,
   "metadata": {},
   "outputs": [],
   "source": [
    "import warnings\n",
    "\n",
    "warnings.filterwarnings(\"ignore\")\n",
    "\n",
    "results = {}"
   ]
  },
  {
   "cell_type": "markdown",
   "metadata": {},
   "source": [
    "### Exercise 1\n",
    "\n",
    "Begin by loading both: \n",
    "\n",
    "- the mortgage origination file (`sample_orig_2004.txt`). This *should* contain information on all mortgages issued in 2004, along with non-time varying features of these mortgages (the initial amount, the credit score of the applicant, etc.), and \n",
    "- the servicing data (`sample_svcg_2004orig_3years.txt`). This contains monthly records of all recorded payments (or non-payments) for all mortgages issued in 2004 during the calendar years of 2004, 2005, and 2006.\n",
    "\n",
    "So the autograder can see the data, be sure to load it directly from a URL (don't download and load from your own system).\n",
    "\n",
    "Load the data AND ensure your data has column names. You will likely need to reference the documentation to figure out how to do so."
   ]
  },
  {
   "cell_type": "code",
   "execution_count": 87,
   "metadata": {},
   "outputs": [],
   "source": [
    "import pandas as pd\n",
    "\n",
    "origination_url = 'https://media.githubusercontent.com/media/nickeubank/MIDS_Data/master/mortgages/2004/sample_orig_2004.txt'\n",
    "servicing_url = 'https://media.githubusercontent.com/media/nickeubank/MIDS_Data/master/mortgages/2004/sample_svcg_2004orig_3years.txt'\n",
    "\n",
    "origination_columns = [ 'credit_score', 'first_payment_date','first_time_buyer', 'maturity_date', 'msa', 'mi_percent', \n",
    "                        'num_of_units', 'occupancy_status', 'original_cltv', 'original_dti_ratio', 'original_upb', \n",
    "                        'original_ltv', 'original_interest_rt', 'channel', 'ppm_flag', 'amortization_type', \n",
    "                        'property_state', 'property_type', 'postal_code', 'loan_seq_num', 'loan_purpose', \n",
    "                        'original_loan_term', 'num_borrowers', 'seller_name', 'service_name', 'super_conforming', \n",
    "                        'prr_loan_seq_num', 'program_indicator', 'rr_indicator', 'prop_val_method', 'io_indicator', \n",
    "                        'mi_cancel_indicator']\n",
    "\n",
    "servicing_columns = ['loan_seq_num', 'monthly_rep_per', 'current_actual_upb', 'current_delinq_status', 'loan_age', \n",
    "                     'month_to_maturity', 'defect_settle_date', 'mod_flag', 'zero_bal_code','zero_bal_eff_data', \n",
    "                     'curr_int_rate', 'curr_non_int_bearing_upb', 'ddlpi', 'mi_recoveries', 'net_sale_proceeds', \n",
    "                     'non_mi_recoveries', 'total_exp', 'legal_costs', 'maint_preserve_costs', 'taxes_insurance', \n",
    "                     'misc_exp', 'actual_loss_cal', 'cum_mod_cost', 'step_mod', 'payment_deferral', 'eltv', \n",
    "                     'zero_bal_rem_upb', 'delinq_acuired_int', 'disaster_delinq', 'borrower_assist_status', \n",
    "                     'curr_month_mod_cost', 'int_bearing_upb']"
   ]
  },
  {
   "cell_type": "code",
   "execution_count": 88,
   "metadata": {},
   "outputs": [
    {
     "name": "stdout",
     "output_type": "stream",
     "text": [
      "   credit_score  first_payment_date first_time_buyer  maturity_date      msa  \\\n",
      "0           701              200403                N         203402  45060.0   \n",
      "1           648              200403                N         202402      NaN   \n",
      "2           653              200403                Y         203402  20740.0   \n",
      "3           747              200403                N         203402  30700.0   \n",
      "4           731              200403                N         201902      NaN   \n",
      "\n",
      "   mi_percent  num_of_units occupancy_status  original_cltv  \\\n",
      "0          25             1                P             90   \n",
      "1           0             1                P             80   \n",
      "2          17             1                P             87   \n",
      "3           0             2                I             70   \n",
      "4           0             1                P             80   \n",
      "\n",
      "   original_dti_ratio  ...  num_borrowers                         seller_name  \\\n",
      "0                  43  ...              2                       Other sellers   \n",
      "1                  46  ...              1                       Other sellers   \n",
      "2                  25  ...              2                       Other sellers   \n",
      "3                  34  ...              1                       Other sellers   \n",
      "4                  40  ...              2  PROVIDENT FUNDING ASSOCIATES, L.P.   \n",
      "\n",
      "                         service_name super_conforming prr_loan_seq_num  \\\n",
      "0                     Other servicers              NaN              NaN   \n",
      "1                     Other servicers              NaN              NaN   \n",
      "2                     Other servicers              NaN              NaN   \n",
      "3                     Other servicers              NaN              NaN   \n",
      "4  PROVIDENT FUNDING ASSOCIATES, L.P.              NaN              NaN   \n",
      "\n",
      "  program_indicator rr_indicator prop_val_method  io_indicator  \\\n",
      "0                 9          NaN               9             N   \n",
      "1                 9          NaN               9             N   \n",
      "2                 9          NaN               9             N   \n",
      "3                 9          NaN               9             N   \n",
      "4                 9          NaN               9             N   \n",
      "\n",
      "  mi_cancel_indicator  \n",
      "0                   9  \n",
      "1                   9  \n",
      "2                   9  \n",
      "3                   9  \n",
      "4                   9  \n",
      "\n",
      "[5 rows x 32 columns]\n"
     ]
    }
   ],
   "source": [
    "\"\"\"Loading the datasets\"\"\"\n",
    "origination_data = pd.read_csv(origination_url, sep=\"|\", names=origination_columns)\n",
    "\n",
    "servicing_data = pd.read_csv(servicing_url, sep=\"|\", names=servicing_columns)\n",
    "\n",
    "print(origination_data.head())"
   ]
  },
  {
   "cell_type": "code",
   "execution_count": 89,
   "metadata": {},
   "outputs": [
    {
     "name": "stdout",
     "output_type": "stream",
     "text": [
      "   loan_seq_num  monthly_rep_per  current_actual_upb current_delinq_status  \\\n",
      "0  F04Q10000027           200402            101000.0                     0   \n",
      "1  F04Q10000027           200403            101000.0                     0   \n",
      "2  F04Q10000027           200404            101000.0                     0   \n",
      "3  F04Q10000027           200405            101000.0                     0   \n",
      "4  F04Q10000027           200406            100000.0                     0   \n",
      "\n",
      "   loan_age  month_to_maturity  defect_settle_date mod_flag  zero_bal_code  \\\n",
      "0         0                360                 NaN      NaN            NaN   \n",
      "1         1                359                 NaN      NaN            NaN   \n",
      "2         2                358                 NaN      NaN            NaN   \n",
      "3         3                357                 NaN      NaN            NaN   \n",
      "4         4                356                 NaN      NaN            NaN   \n",
      "\n",
      "   zero_bal_eff_data  ...  cum_mod_cost  step_mod  payment_deferral  eltv  \\\n",
      "0                NaN  ...           NaN       NaN               NaN   NaN   \n",
      "1                NaN  ...           NaN       NaN               NaN   NaN   \n",
      "2                NaN  ...           NaN       NaN               NaN   NaN   \n",
      "3                NaN  ...           NaN       NaN               NaN   NaN   \n",
      "4                NaN  ...           NaN       NaN               NaN   NaN   \n",
      "\n",
      "   zero_bal_rem_upb  delinq_acuired_int  disaster_delinq  \\\n",
      "0               NaN                 NaN              NaN   \n",
      "1               NaN                 NaN              NaN   \n",
      "2               NaN                 NaN              NaN   \n",
      "3               NaN                 NaN              NaN   \n",
      "4               NaN                 NaN              NaN   \n",
      "\n",
      "   borrower_assist_status  curr_month_mod_cost  int_bearing_upb  \n",
      "0                     NaN                  NaN         101000.0  \n",
      "1                     NaN                  NaN         101000.0  \n",
      "2                     NaN                  NaN         101000.0  \n",
      "3                     NaN                  NaN         101000.0  \n",
      "4                     NaN                  NaN         100000.0  \n",
      "\n",
      "[5 rows x 32 columns]\n"
     ]
    }
   ],
   "source": [
    "print(servicing_data.head())"
   ]
  },
  {
   "cell_type": "markdown",
   "metadata": {},
   "source": [
    "### Exercise 2\n",
    "\n",
    "What is the unit of observation in `sample_orig_2004.txt` and in `sample_svcg_2004orig_3years.txt`?"
   ]
  },
  {
   "cell_type": "markdown",
   "metadata": {},
   "source": [
    "**ANSWER**\n",
    "\n",
    "* 1. In the **origination data file (`sample_orig_2004.txt`)** each row represents a unique mortgage loan at the time of origination. Therefore the unit observation is a loan.\n",
    "* 2. The **servicing data file (`sample_svcg_2004orig_3years.txt`)** includes servicing data on the unit of observation mention in the previous paragraph. So it is a monthly record of a mortgage loan's payment status. Each row in this dataset represents specific information for a specific loan."
   ]
  },
  {
   "cell_type": "markdown",
   "metadata": {},
   "source": [
    "### Exercise 3\n",
    "\n",
    "Merge your two datasets. Be sure to use the `validate` keyword argument in `merge`.\n",
    "\n",
    "Assuming that you list the data associated with `sample_orig_2004.txt` first and `sample_svcg_2004orig_3years.txt` second, what keyword are you passing to `validate`? Store your answer as a string (use one of: `\"1:1\"`, `\"m:1\"`, `\"1:m\"`, `\"m:m\"`) in a dictionary called `results` under the key `ex2_merge_type`."
   ]
  },
  {
   "cell_type": "code",
   "execution_count": 90,
   "metadata": {},
   "outputs": [],
   "source": [
    "\"\"\"merging data as per instruction\"\"\"\n",
    "merged_data = origination_data.merge(servicing_data, on='loan_seq_num', validate='1:m')\n",
    "\n",
    "results = {'ex2_merge_type': '1:m'}"
   ]
  },
  {
   "cell_type": "code",
   "execution_count": 91,
   "metadata": {},
   "outputs": [
    {
     "name": "stdout",
     "output_type": "stream",
     "text": [
      "   credit_score  first_payment_date first_time_buyer  maturity_date      msa  \\\n",
      "0           701              200403                N         203402  45060.0   \n",
      "1           701              200403                N         203402  45060.0   \n",
      "2           701              200403                N         203402  45060.0   \n",
      "3           701              200403                N         203402  45060.0   \n",
      "4           701              200403                N         203402  45060.0   \n",
      "\n",
      "   mi_percent  num_of_units occupancy_status  original_cltv  \\\n",
      "0          25             1                P             90   \n",
      "1          25             1                P             90   \n",
      "2          25             1                P             90   \n",
      "3          25             1                P             90   \n",
      "4          25             1                P             90   \n",
      "\n",
      "   original_dti_ratio  ...  cum_mod_cost  step_mod  payment_deferral eltv  \\\n",
      "0                  43  ...           NaN       NaN               NaN  NaN   \n",
      "1                  43  ...           NaN       NaN               NaN  NaN   \n",
      "2                  43  ...           NaN       NaN               NaN  NaN   \n",
      "3                  43  ...           NaN       NaN               NaN  NaN   \n",
      "4                  43  ...           NaN       NaN               NaN  NaN   \n",
      "\n",
      "  zero_bal_rem_upb delinq_acuired_int disaster_delinq borrower_assist_status  \\\n",
      "0              NaN                NaN             NaN                    NaN   \n",
      "1              NaN                NaN             NaN                    NaN   \n",
      "2              NaN                NaN             NaN                    NaN   \n",
      "3              NaN                NaN             NaN                    NaN   \n",
      "4              NaN                NaN             NaN                    NaN   \n",
      "\n",
      "   curr_month_mod_cost int_bearing_upb  \n",
      "0                  NaN        101000.0  \n",
      "1                  NaN        101000.0  \n",
      "2                  NaN        101000.0  \n",
      "3                  NaN        101000.0  \n",
      "4                  NaN        100000.0  \n",
      "\n",
      "[5 rows x 63 columns]\n"
     ]
    }
   ],
   "source": [
    "print(merged_data.head())"
   ]
  },
  {
   "cell_type": "markdown",
   "metadata": {},
   "source": [
    "### Exercise 4\n",
    "\n",
    "Mortgages come in many shapes and flavors, however your servicer is only interested in predicting default for the more standard form of mortgage. Subset your data to only include:\n",
    "\n",
    "- Mortgages taken out for purchase of a property,\n",
    "- With first payments due in the quarter of origination or the first quarter after origination.\n",
    "\n",
    "(In a perfect world we would just limit our analysis to mortgages where the first payment is due the month after origination. Unfortunately we only know the *quarter* of origination, so the only way to subset for relatively vanilla mortgages is to look for mortgages where the first payment was due in the same quarter or the quarter after origination.)\n",
    "\n",
    "Subset for these mortgages. How many unique mortgages remain in the data? \n",
    "\n",
    "Hint: You may need to read the documentation for the `Loan Sequence Number` variable.\n",
    "\n",
    "Store the resulting number of unique mortgages in `results` under the key `ex4_num_mortgages`."
   ]
  },
  {
   "cell_type": "code",
   "execution_count": 92,
   "metadata": {},
   "outputs": [],
   "source": [
    "\"\"\" Step 1. subset on purchase purpose \"\"\"\n",
    "purpose_subset = merged_data[merged_data['loan_purpose'] == 'P']"
   ]
  },
  {
   "cell_type": "code",
   "execution_count": 93,
   "metadata": {},
   "outputs": [
    {
     "name": "stdout",
     "output_type": "stream",
     "text": [
      "['2004']\n"
     ]
    }
   ],
   "source": [
    "\"\"\" Step 2. job related to creating the new columns\"\"\"\n",
    "# 1. Origination Year\n",
    "purpose_subset['origination_year'] = '20' + purpose_subset['loan_seq_num'].str[1:3]\n",
    "\n",
    "print(purpose_subset['origination_year'].unique())"
   ]
  },
  {
   "cell_type": "code",
   "execution_count": 94,
   "metadata": {},
   "outputs": [
    {
     "name": "stdout",
     "output_type": "stream",
     "text": [
      "[1 2 3 4]\n"
     ]
    }
   ],
   "source": [
    "# 2. Origination Quarter\n",
    "purpose_subset['origin_quarter'] = purpose_subset['loan_seq_num'].str[4].astype(int)\n",
    "\n",
    "print(purpose_subset['origin_quarter'].unique())"
   ]
  },
  {
   "cell_type": "code",
   "execution_count": 95,
   "metadata": {},
   "outputs": [
    {
     "name": "stdout",
     "output_type": "stream",
     "text": [
      "['2004' '2005' '2006']\n"
     ]
    }
   ],
   "source": [
    "# 4. Payment Year\n",
    "purpose_subset['payment_year'] = purpose_subset['first_payment_date'].astype(str).str[:4]\n",
    "\n",
    "print(purpose_subset['payment_year'].unique())"
   ]
  },
  {
   "cell_type": "code",
   "execution_count": 96,
   "metadata": {},
   "outputs": [
    {
     "name": "stdout",
     "output_type": "stream",
     "text": [
      "['1' '2' '3' '4']\n"
     ]
    }
   ],
   "source": [
    "# 5. Payment Quarter\n",
    "purpose_subset['first_payment_date'] = purpose_subset['first_payment_date'].astype(str)\n",
    "\n",
    "def calculate_payment_quarter(month):\n",
    "    if month in ['01', '02', '03']:\n",
    "        return '1'\n",
    "    elif month in ['04', '05', '06']:\n",
    "        return '2'\n",
    "    elif month in ['07', '08', '09']:\n",
    "        return '3'\n",
    "    elif month in ['10', '11', '12']:\n",
    "        return '4'\n",
    "    else:\n",
    "        return None\n",
    "    \n",
    "purpose_subset['payment_quarter'] = purpose_subset['first_payment_date'].str[-2:].apply(calculate_payment_quarter)\n",
    "\n",
    "print(purpose_subset['payment_quarter'].unique())"
   ]
  },
  {
   "cell_type": "code",
   "execution_count": 97,
   "metadata": {},
   "outputs": [],
   "source": [
    "purpose_subset['payment_quarter'] = purpose_subset['payment_quarter'].astype(int)"
   ]
  },
  {
   "cell_type": "code",
   "execution_count": 98,
   "metadata": {},
   "outputs": [],
   "source": [
    "\"\"\" Step 3. subsetting \"\"\"\n",
    "\n",
    "# Define the conditions\n",
    "condition1 = (purpose_subset['origination_year'] == '2004') & \\\n",
    "             (purpose_subset['payment_year'] == '2004') & \\\n",
    "             (purpose_subset['origin_quarter'] == purpose_subset['payment_quarter'])\n",
    "\n",
    "condition2 = (purpose_subset['origination_year'] == '2004') & \\\n",
    "             (purpose_subset['payment_year'] == '2004') & \\\n",
    "             (purpose_subset['origin_quarter'] + 1 == purpose_subset['payment_quarter'])\n",
    "\n",
    "condition3 = (purpose_subset['origination_year'] == '2004') & \\\n",
    "             (purpose_subset['origin_quarter'] == 4) & \\\n",
    "             (purpose_subset['payment_year'] == '2005') & \\\n",
    "             (purpose_subset['payment_quarter'] == 1)\n",
    "\n",
    "# Combine conditions to subset the DataFrame\n",
    "mortgage_subset = purpose_subset[condition1 | condition2 | condition3]"
   ]
  },
  {
   "cell_type": "code",
   "execution_count": 99,
   "metadata": {},
   "outputs": [
    {
     "name": "stdout",
     "output_type": "stream",
     "text": [
      "Number of unique_mortgages for purchase with the first payments due on the quarter of origination or the quarter after is 17504\n",
      "{'ex2_merge_type': '1:m', 'ex4_num_mortgages': 17504}\n"
     ]
    }
   ],
   "source": [
    "\"\"\" Step 4. unique number\"\"\"\n",
    "unique_mortgage = mortgage_subset['loan_seq_num'].nunique()\n",
    "results['ex4_num_mortgages'] = unique_mortgage\n",
    "\n",
    "print(f\"Number of unique_mortgages for purchase with the first payments due on the quarter of origination or the quarter after is {unique_mortgage}\")\n",
    "print(results)"
   ]
  },
  {
   "cell_type": "markdown",
   "metadata": {},
   "source": [
    "### Exercise 5\n",
    "\n",
    "The servicer wants to predict delinquency during the first 24 payment due dates (you may assume payments are due every month starting with the month the first payment is due). Subset the data to these first 24 (possible) payment due dates.\n",
    "\n",
    "Note that not all loans will have 24 records in the servicing file in the first 24 months as a result of data merging issues on behalf of Freddie Mac. As noted in the Freddie Mac documentation:\n",
    "\n",
    "> For a given loan, each monthly reporting period in the monthly performance data file combines data elements from multiple reporting cycles and systems at Freddie Mac. As such, perceived data anomalies may be a result of timing mismatches between default/delinquency reporting cycles and investor reporting cycles. Examples of some commonly occurring anomalies in the data are included throughout this section. In all cases, the best information available at the time the Dataset is generated, subject to operational constraints, is used.\n",
    "\n",
    "So subset for the first two years of (possible) payments, resulting in *up to* 24 observations per mortgage (but potentially less given the data cleanliness issues).\n",
    "\n",
    "After this subsetting, store the number of remaining observations (not mortgages, observation) in `results` under the key `\"ex5_num_obs\"`."
   ]
  },
  {
   "cell_type": "code",
   "execution_count": 100,
   "metadata": {},
   "outputs": [
    {
     "name": "stdout",
     "output_type": "stream",
     "text": [
      "{'ex2_merge_type': '1:m', 'ex4_num_mortgages': 17504, 'ex5_num_obs': 379461}\n"
     ]
    }
   ],
   "source": [
    "\"\"\"I will use 'monthly_rep_per' for extracting loans with first 24 payments\"\"\"\n",
    "\n",
    "mortgage_subset['monthly_rep_per'] = pd.to_datetime(mortgage_subset['monthly_rep_per'], format='%Y%m')\n",
    "mortgage_subset[\"first_payment_date\"] = pd.to_datetime(mortgage_subset[\"first_payment_date\"], format=\"%Y%m\")\n",
    "mortgage_subset[\"months_since_1st_payment\"] = (mortgage_subset[\"monthly_rep_per\"] - mortgage_subset[\"first_payment_date\"]).dt.days // 30\n",
    "\n",
    "month24_payment = mortgage_subset[\n",
    "    (mortgage_subset[\"months_since_1st_payment\"] >= 0)\n",
    "    & (mortgage_subset[\"months_since_1st_payment\"] <= 23)\n",
    "]\n",
    "\n",
    "ex5_num_obs = len(month24_payment)\n",
    "results['ex5_num_obs'] = ex5_num_obs\n",
    "\n",
    "print(results)"
   ]
  },
  {
   "cell_type": "markdown",
   "metadata": {},
   "source": [
    "### Exercise 6\n",
    "\n",
    "For each unique mortgage in your dataset, create an indicator variable that takes on a value of 1 if, at any time during this period, the mortgage has been delinquent.\n",
    "\n",
    "Delinquency status is stored in the variable `CURRENT LOAN DELINQUENCY STATUS`, and is coded as:\n",
    "\n",
    "> CURRENT LOAN DELINQUENCY STATUS – A value corresponding to the number of days the borrower is delinquent, based on the due date of last paid installment (“DDLPI”) reported by servicers to Freddie Mac, and is calculated under the Mortgage Bankers Association (MBA) method.\n",
    "If a loan has been acquired by REO, then the Current Loan Delinquency Status will reflect the value corresponding to that status (instead of the value corresponding to the number of days the borrower is delinquent).\n",
    ">\n",
    "> 0 = Current, or less than 30 days delinquent\n",
    "> \n",
    "> 1 = 30-59 days delinquent\n",
    "> \n",
    "> 2=60–89days delinquent\n",
    "> \n",
    "> 3=90–119days delinquent\n",
    "> \n",
    "> And so on...\n",
    "> \n",
    "> RA = REO Acquisition\n"
   ]
  },
  {
   "cell_type": "code",
   "execution_count": 101,
   "metadata": {},
   "outputs": [
    {
     "data": {
      "text/html": [
       "<div>\n",
       "<style scoped>\n",
       "    .dataframe tbody tr th:only-of-type {\n",
       "        vertical-align: middle;\n",
       "    }\n",
       "\n",
       "    .dataframe tbody tr th {\n",
       "        vertical-align: top;\n",
       "    }\n",
       "\n",
       "    .dataframe thead th {\n",
       "        text-align: right;\n",
       "    }\n",
       "</style>\n",
       "<table border=\"1\" class=\"dataframe\">\n",
       "  <thead>\n",
       "    <tr style=\"text-align: right;\">\n",
       "      <th></th>\n",
       "      <th>credit_score</th>\n",
       "      <th>first_payment_date</th>\n",
       "      <th>first_time_buyer</th>\n",
       "      <th>maturity_date</th>\n",
       "      <th>msa</th>\n",
       "      <th>mi_percent</th>\n",
       "      <th>num_of_units</th>\n",
       "      <th>occupancy_status</th>\n",
       "      <th>original_cltv</th>\n",
       "      <th>original_dti_ratio</th>\n",
       "      <th>...</th>\n",
       "      <th>borrower_assist_status</th>\n",
       "      <th>curr_month_mod_cost</th>\n",
       "      <th>int_bearing_upb</th>\n",
       "      <th>origination_year</th>\n",
       "      <th>origin_quarter</th>\n",
       "      <th>payment_year</th>\n",
       "      <th>payment_quarter</th>\n",
       "      <th>months_since_1st_payment</th>\n",
       "      <th>delinquency</th>\n",
       "      <th>delinq_index</th>\n",
       "    </tr>\n",
       "  </thead>\n",
       "  <tbody>\n",
       "    <tr>\n",
       "      <th>71</th>\n",
       "      <td>653</td>\n",
       "      <td>2004-03-01</td>\n",
       "      <td>Y</td>\n",
       "      <td>203402</td>\n",
       "      <td>20740.0</td>\n",
       "      <td>17</td>\n",
       "      <td>1</td>\n",
       "      <td>P</td>\n",
       "      <td>87</td>\n",
       "      <td>25</td>\n",
       "      <td>...</td>\n",
       "      <td>NaN</td>\n",
       "      <td>NaN</td>\n",
       "      <td>126000.00</td>\n",
       "      <td>2004</td>\n",
       "      <td>1</td>\n",
       "      <td>2004</td>\n",
       "      <td>1</td>\n",
       "      <td>0</td>\n",
       "      <td>0</td>\n",
       "      <td>0</td>\n",
       "    </tr>\n",
       "    <tr>\n",
       "      <th>72</th>\n",
       "      <td>653</td>\n",
       "      <td>2004-03-01</td>\n",
       "      <td>Y</td>\n",
       "      <td>203402</td>\n",
       "      <td>20740.0</td>\n",
       "      <td>17</td>\n",
       "      <td>1</td>\n",
       "      <td>P</td>\n",
       "      <td>87</td>\n",
       "      <td>25</td>\n",
       "      <td>...</td>\n",
       "      <td>NaN</td>\n",
       "      <td>NaN</td>\n",
       "      <td>126000.00</td>\n",
       "      <td>2004</td>\n",
       "      <td>1</td>\n",
       "      <td>2004</td>\n",
       "      <td>1</td>\n",
       "      <td>1</td>\n",
       "      <td>0</td>\n",
       "      <td>0</td>\n",
       "    </tr>\n",
       "    <tr>\n",
       "      <th>73</th>\n",
       "      <td>653</td>\n",
       "      <td>2004-03-01</td>\n",
       "      <td>Y</td>\n",
       "      <td>203402</td>\n",
       "      <td>20740.0</td>\n",
       "      <td>17</td>\n",
       "      <td>1</td>\n",
       "      <td>P</td>\n",
       "      <td>87</td>\n",
       "      <td>25</td>\n",
       "      <td>...</td>\n",
       "      <td>NaN</td>\n",
       "      <td>NaN</td>\n",
       "      <td>126000.00</td>\n",
       "      <td>2004</td>\n",
       "      <td>1</td>\n",
       "      <td>2004</td>\n",
       "      <td>1</td>\n",
       "      <td>2</td>\n",
       "      <td>0</td>\n",
       "      <td>0</td>\n",
       "    </tr>\n",
       "    <tr>\n",
       "      <th>74</th>\n",
       "      <td>653</td>\n",
       "      <td>2004-03-01</td>\n",
       "      <td>Y</td>\n",
       "      <td>203402</td>\n",
       "      <td>20740.0</td>\n",
       "      <td>17</td>\n",
       "      <td>1</td>\n",
       "      <td>P</td>\n",
       "      <td>87</td>\n",
       "      <td>25</td>\n",
       "      <td>...</td>\n",
       "      <td>NaN</td>\n",
       "      <td>NaN</td>\n",
       "      <td>126000.00</td>\n",
       "      <td>2004</td>\n",
       "      <td>1</td>\n",
       "      <td>2004</td>\n",
       "      <td>1</td>\n",
       "      <td>3</td>\n",
       "      <td>0</td>\n",
       "      <td>0</td>\n",
       "    </tr>\n",
       "    <tr>\n",
       "      <th>75</th>\n",
       "      <td>653</td>\n",
       "      <td>2004-03-01</td>\n",
       "      <td>Y</td>\n",
       "      <td>203402</td>\n",
       "      <td>20740.0</td>\n",
       "      <td>17</td>\n",
       "      <td>1</td>\n",
       "      <td>P</td>\n",
       "      <td>87</td>\n",
       "      <td>25</td>\n",
       "      <td>...</td>\n",
       "      <td>NaN</td>\n",
       "      <td>NaN</td>\n",
       "      <td>126000.00</td>\n",
       "      <td>2004</td>\n",
       "      <td>1</td>\n",
       "      <td>2004</td>\n",
       "      <td>1</td>\n",
       "      <td>4</td>\n",
       "      <td>0</td>\n",
       "      <td>0</td>\n",
       "    </tr>\n",
       "    <tr>\n",
       "      <th>...</th>\n",
       "      <td>...</td>\n",
       "      <td>...</td>\n",
       "      <td>...</td>\n",
       "      <td>...</td>\n",
       "      <td>...</td>\n",
       "      <td>...</td>\n",
       "      <td>...</td>\n",
       "      <td>...</td>\n",
       "      <td>...</td>\n",
       "      <td>...</td>\n",
       "      <td>...</td>\n",
       "      <td>...</td>\n",
       "      <td>...</td>\n",
       "      <td>...</td>\n",
       "      <td>...</td>\n",
       "      <td>...</td>\n",
       "      <td>...</td>\n",
       "      <td>...</td>\n",
       "      <td>...</td>\n",
       "      <td>...</td>\n",
       "      <td>...</td>\n",
       "    </tr>\n",
       "    <tr>\n",
       "      <th>1287129</th>\n",
       "      <td>805</td>\n",
       "      <td>2004-12-01</td>\n",
       "      <td>N</td>\n",
       "      <td>203411</td>\n",
       "      <td>17140.0</td>\n",
       "      <td>12</td>\n",
       "      <td>1</td>\n",
       "      <td>P</td>\n",
       "      <td>85</td>\n",
       "      <td>33</td>\n",
       "      <td>...</td>\n",
       "      <td>NaN</td>\n",
       "      <td>NaN</td>\n",
       "      <td>219680.66</td>\n",
       "      <td>2004</td>\n",
       "      <td>4</td>\n",
       "      <td>2004</td>\n",
       "      <td>4</td>\n",
       "      <td>23</td>\n",
       "      <td>0</td>\n",
       "      <td>0</td>\n",
       "    </tr>\n",
       "    <tr>\n",
       "      <th>1287131</th>\n",
       "      <td>736</td>\n",
       "      <td>2004-12-01</td>\n",
       "      <td>N</td>\n",
       "      <td>201911</td>\n",
       "      <td>NaN</td>\n",
       "      <td>0</td>\n",
       "      <td>1</td>\n",
       "      <td>S</td>\n",
       "      <td>56</td>\n",
       "      <td>7</td>\n",
       "      <td>...</td>\n",
       "      <td>NaN</td>\n",
       "      <td>NaN</td>\n",
       "      <td>298523.18</td>\n",
       "      <td>2004</td>\n",
       "      <td>4</td>\n",
       "      <td>2004</td>\n",
       "      <td>4</td>\n",
       "      <td>21</td>\n",
       "      <td>0</td>\n",
       "      <td>0</td>\n",
       "    </tr>\n",
       "    <tr>\n",
       "      <th>1287132</th>\n",
       "      <td>736</td>\n",
       "      <td>2004-12-01</td>\n",
       "      <td>N</td>\n",
       "      <td>201911</td>\n",
       "      <td>NaN</td>\n",
       "      <td>0</td>\n",
       "      <td>1</td>\n",
       "      <td>S</td>\n",
       "      <td>56</td>\n",
       "      <td>7</td>\n",
       "      <td>...</td>\n",
       "      <td>NaN</td>\n",
       "      <td>NaN</td>\n",
       "      <td>297039.44</td>\n",
       "      <td>2004</td>\n",
       "      <td>4</td>\n",
       "      <td>2004</td>\n",
       "      <td>4</td>\n",
       "      <td>22</td>\n",
       "      <td>0</td>\n",
       "      <td>0</td>\n",
       "    </tr>\n",
       "    <tr>\n",
       "      <th>1287133</th>\n",
       "      <td>736</td>\n",
       "      <td>2004-12-01</td>\n",
       "      <td>N</td>\n",
       "      <td>201911</td>\n",
       "      <td>NaN</td>\n",
       "      <td>0</td>\n",
       "      <td>1</td>\n",
       "      <td>S</td>\n",
       "      <td>56</td>\n",
       "      <td>7</td>\n",
       "      <td>...</td>\n",
       "      <td>NaN</td>\n",
       "      <td>NaN</td>\n",
       "      <td>295548.74</td>\n",
       "      <td>2004</td>\n",
       "      <td>4</td>\n",
       "      <td>2004</td>\n",
       "      <td>4</td>\n",
       "      <td>23</td>\n",
       "      <td>0</td>\n",
       "      <td>0</td>\n",
       "    </tr>\n",
       "    <tr>\n",
       "      <th>1287159</th>\n",
       "      <td>745</td>\n",
       "      <td>2005-01-01</td>\n",
       "      <td>Y</td>\n",
       "      <td>203412</td>\n",
       "      <td>29620.0</td>\n",
       "      <td>0</td>\n",
       "      <td>1</td>\n",
       "      <td>P</td>\n",
       "      <td>100</td>\n",
       "      <td>34</td>\n",
       "      <td>...</td>\n",
       "      <td>NaN</td>\n",
       "      <td>NaN</td>\n",
       "      <td>71565.29</td>\n",
       "      <td>2004</td>\n",
       "      <td>4</td>\n",
       "      <td>2005</td>\n",
       "      <td>1</td>\n",
       "      <td>23</td>\n",
       "      <td>0</td>\n",
       "      <td>0</td>\n",
       "    </tr>\n",
       "  </tbody>\n",
       "</table>\n",
       "<p>379461 rows × 70 columns</p>\n",
       "</div>"
      ],
      "text/plain": [
       "         credit_score first_payment_date first_time_buyer  maturity_date  \\\n",
       "71                653         2004-03-01                Y         203402   \n",
       "72                653         2004-03-01                Y         203402   \n",
       "73                653         2004-03-01                Y         203402   \n",
       "74                653         2004-03-01                Y         203402   \n",
       "75                653         2004-03-01                Y         203402   \n",
       "...               ...                ...              ...            ...   \n",
       "1287129           805         2004-12-01                N         203411   \n",
       "1287131           736         2004-12-01                N         201911   \n",
       "1287132           736         2004-12-01                N         201911   \n",
       "1287133           736         2004-12-01                N         201911   \n",
       "1287159           745         2005-01-01                Y         203412   \n",
       "\n",
       "             msa  mi_percent  num_of_units occupancy_status  original_cltv  \\\n",
       "71       20740.0          17             1                P             87   \n",
       "72       20740.0          17             1                P             87   \n",
       "73       20740.0          17             1                P             87   \n",
       "74       20740.0          17             1                P             87   \n",
       "75       20740.0          17             1                P             87   \n",
       "...          ...         ...           ...              ...            ...   \n",
       "1287129  17140.0          12             1                P             85   \n",
       "1287131      NaN           0             1                S             56   \n",
       "1287132      NaN           0             1                S             56   \n",
       "1287133      NaN           0             1                S             56   \n",
       "1287159  29620.0           0             1                P            100   \n",
       "\n",
       "         original_dti_ratio  ...  borrower_assist_status  curr_month_mod_cost  \\\n",
       "71                       25  ...                     NaN                  NaN   \n",
       "72                       25  ...                     NaN                  NaN   \n",
       "73                       25  ...                     NaN                  NaN   \n",
       "74                       25  ...                     NaN                  NaN   \n",
       "75                       25  ...                     NaN                  NaN   \n",
       "...                     ...  ...                     ...                  ...   \n",
       "1287129                  33  ...                     NaN                  NaN   \n",
       "1287131                   7  ...                     NaN                  NaN   \n",
       "1287132                   7  ...                     NaN                  NaN   \n",
       "1287133                   7  ...                     NaN                  NaN   \n",
       "1287159                  34  ...                     NaN                  NaN   \n",
       "\n",
       "         int_bearing_upb origination_year origin_quarter payment_year  \\\n",
       "71             126000.00             2004              1         2004   \n",
       "72             126000.00             2004              1         2004   \n",
       "73             126000.00             2004              1         2004   \n",
       "74             126000.00             2004              1         2004   \n",
       "75             126000.00             2004              1         2004   \n",
       "...                  ...              ...            ...          ...   \n",
       "1287129        219680.66             2004              4         2004   \n",
       "1287131        298523.18             2004              4         2004   \n",
       "1287132        297039.44             2004              4         2004   \n",
       "1287133        295548.74             2004              4         2004   \n",
       "1287159         71565.29             2004              4         2005   \n",
       "\n",
       "        payment_quarter months_since_1st_payment  delinquency delinq_index  \n",
       "71                    1                        0            0            0  \n",
       "72                    1                        1            0            0  \n",
       "73                    1                        2            0            0  \n",
       "74                    1                        3            0            0  \n",
       "75                    1                        4            0            0  \n",
       "...                 ...                      ...          ...          ...  \n",
       "1287129               4                       23            0            0  \n",
       "1287131               4                       21            0            0  \n",
       "1287132               4                       22            0            0  \n",
       "1287133               4                       23            0            0  \n",
       "1287159               1                       23            0            0  \n",
       "\n",
       "[379461 rows x 70 columns]"
      ]
     },
     "execution_count": 101,
     "metadata": {},
     "output_type": "execute_result"
    }
   ],
   "source": [
    "\n",
    "# already identified the range of datatypes in the column of interest,\n",
    "## therefore we will handle 0s as numeric or 0s as str.\n",
    "\n",
    "month24_payment[\"delinquency\"] = month24_payment[\"current_delinq_status\"].apply(lambda x: 0 if x in [\"0\", 0] else 1)\n",
    "\n",
    "month24_payment[\"delinq_index\"] = month24_payment.groupby(\"loan_seq_num\")[\"delinquency\"].transform(\"max\")\n",
    "\n",
    "month24_payment"
   ]
  },
  {
   "cell_type": "markdown",
   "metadata": {},
   "source": [
    "### Exercise 7\n",
    "\n",
    "At this point, you should be able to drop all servicing variables reported on a monthly basis and just keep information about the original mortgage issuance (and still keep an indicator for whether the mortgage has ever been delinquent).\n",
    "\n",
    "Store the final number of mortgages in your data under `ex7_num_mortgages` and the share (between 0 and 1) of mortgages that have been delinquent under `ex7_share_delinquent`."
   ]
  },
  {
   "cell_type": "code",
   "execution_count": 102,
   "metadata": {},
   "outputs": [],
   "source": [
    "\"\"\"we need to keep columns from origination data file and delinquency indicator as well\"\"\"\n",
    "\n",
    "columns_to_keep = ['credit_score', 'first_payment_date','first_time_buyer', 'maturity_date', 'msa', 'mi_percent', \n",
    "                    'num_of_units', 'occupancy_status', 'original_cltv', 'original_dti_ratio', 'original_upb', \n",
    "                    'original_ltv', 'original_interest_rt', 'channel', 'ppm_flag', 'amortization_type', \n",
    "                    'property_state', 'property_type', 'postal_code', 'loan_seq_num', 'loan_purpose', \n",
    "                    'original_loan_term', 'num_borrowers', 'seller_name', 'service_name', 'super_conforming', \n",
    "                    'prr_loan_seq_num', 'program_indicator', 'rr_indicator', 'prop_val_method', 'io_indicator', \n",
    "                    'mi_cancel_indicator', 'delinq_index']\n",
    "\n",
    "final_dataset = month24_payment[columns_to_keep].drop_duplicates()\n"
   ]
  },
  {
   "cell_type": "code",
   "execution_count": 103,
   "metadata": {},
   "outputs": [
    {
     "name": "stdout",
     "output_type": "stream",
     "text": [
      "The final number of unique mortgages having up to 24 first payment records is 17471\n",
      "The share of mortgages have been delinquent is  7.1%\n"
     ]
    }
   ],
   "source": [
    "ex7_num_mortgages = final_dataset['loan_seq_num'].nunique()\n",
    "print(f'The final number of unique mortgages having up to 24 first payment records is {ex7_num_mortgages}')\n",
    "results['ex7_num_mortgages'] = ex7_num_mortgages\n",
    "\n",
    "ex7_share_delinquent = final_dataset['delinq_index'].mean()\n",
    "print(f'The share of mortgages have been delinquent is {ex7_share_delinquent*100: .1f}%')\n",
    "results['ex7_share_delinquent'] = ex7_share_delinquent"
   ]
  },
  {
   "cell_type": "code",
   "execution_count": 104,
   "metadata": {},
   "outputs": [
    {
     "data": {
      "text/plain": [
       "{'ex2_merge_type': '1:m',\n",
       " 'ex4_num_mortgages': 17504,\n",
       " 'ex5_num_obs': 379461,\n",
       " 'ex7_num_mortgages': 17471,\n",
       " 'ex7_share_delinquent': 0.07108923358708717}"
      ]
     },
     "execution_count": 104,
     "metadata": {},
     "output_type": "execute_result"
    }
   ],
   "source": [
    "results"
   ]
  },
  {
   "cell_type": "markdown",
   "metadata": {},
   "source": [
    "## Modelling Delinquency Risk\n",
    "\n",
    "Your data should now be relatively [tidy](https://vita.had.co.nz/papers/tidy-data.pdf), in the technical sense of the term. And that means it should be relatively straightforward for you to build a model that answers the question \"Given the features of a newly originated mortgage, how likely is the mortgage holder to fall into delinquency within the first two years after origination?\"\n",
    "\n",
    "### Exercise 8\n",
    "\n",
    "First, we need to identify the target for our model useful predictors from the data and do feature engineering.\n",
    "\n",
    "Let's begin with identifying some features that probably *aren't* going to be useful. For example, `\"Metropolitan Statistical Area (MSA) Or Metropolitan Division\"` is probably *not* an appropriate feature to include in this analysis. Can you figure out why? Make sure to show (quantitatively) why not. \n",
    "\n",
    "Hint: should be more than the missing rate.\n",
    "\n",
    "Hint 2: how many observations for a given city do you think you'd need to determine if that city had especially high mortgage delinquency rates?\n",
    "\n",
    "Hint 3: if not all possible values of a variable are present in your training data, what problem might that cause during testing and deployment?\n"
   ]
  },
  {
   "cell_type": "code",
   "execution_count": 105,
   "metadata": {},
   "outputs": [
    {
     "data": {
      "text/plain": [
       "408"
      ]
     },
     "execution_count": 105,
     "metadata": {},
     "output_type": "execute_result"
    }
   ],
   "source": [
    "# let's count the number of unique MSAs\n",
    "num_unique_msa = final_dataset['msa'].nunique()\n",
    "num_unique_msa"
   ]
  },
  {
   "cell_type": "code",
   "execution_count": 106,
   "metadata": {},
   "outputs": [
    {
     "data": {
      "text/plain": [
       "msa\n",
       "16974.0    369\n",
       "26420.0    341\n",
       "38060.0    307\n",
       "33460.0    293\n",
       "35644.0    279\n",
       "          ... \n",
       "19060.0      1\n",
       "41900.0      1\n",
       "11244.0      1\n",
       "23900.0      1\n",
       "20940.0      1\n",
       "Name: count, Length: 408, dtype: int64"
      ]
     },
     "execution_count": 106,
     "metadata": {},
     "output_type": "execute_result"
    }
   ],
   "source": [
    "# let's count the number of observations(loans) per MSA\n",
    "obs_per_msa = final_dataset['msa'].value_counts()\n",
    "obs_per_msa"
   ]
  },
  {
   "cell_type": "code",
   "execution_count": 107,
   "metadata": {},
   "outputs": [
    {
     "data": {
      "text/plain": [
       "msa\n",
       "10180.0    0.000000\n",
       "10420.0    0.061224\n",
       "10500.0    0.000000\n",
       "10580.0    0.050847\n",
       "10740.0    0.060606\n",
       "             ...   \n",
       "49500.0    1.000000\n",
       "49620.0    0.076923\n",
       "49660.0    0.076923\n",
       "49700.0    0.230769\n",
       "49740.0    0.200000\n",
       "Name: delinq_index, Length: 408, dtype: float64"
      ]
     },
     "execution_count": 107,
     "metadata": {},
     "output_type": "execute_result"
    }
   ],
   "source": [
    "# let's calculate the proportion of delinquent loans per MSA\n",
    "delinquency_rate_per_msa = final_dataset.groupby('msa')['delinq_index'].mean()\n",
    "delinquency_rate_per_msa"
   ]
  },
  {
   "cell_type": "code",
   "execution_count": 108,
   "metadata": {},
   "outputs": [
    {
     "data": {
      "image/png": "[encoded data removed]",
      "text/plain": [
       "<Figure size 640x480 with 1 Axes>"
      ]
     },
     "metadata": {},
     "output_type": "display_data"
    }
   ],
   "source": [
    "import matplotlib.pyplot as plt\n",
    "\n",
    "# plots\n",
    "plt.hist(delinquency_rate_per_msa.values, bins=50, alpha=0.75)\n",
    "plt.xlabel('Delinquency Rate')\n",
    "plt.ylabel('Count of MSAs')\n",
    "plt.title('Distribution of Delinquency Rates Across MSAs')\n",
    "plt.show()"
   ]
  },
  {
   "cell_type": "markdown",
   "metadata": {},
   "source": [
    "**COMMENTS**\n",
    "\n",
    "According to the results in the histogram, the distribution of delinquency rates across different Metropolitan Statistical Areas is not evenly spread across all MSAs, and certain MSAs may have higher delinquency rates than others. It appears that a large number of MSAs have low delinquency rates, with a steep drop-off as the rate increases, indicating that most MSAs have a delinquency rate that is quite low."
   ]
  },
  {
   "cell_type": "code",
   "execution_count": 109,
   "metadata": {},
   "outputs": [
    {
     "data": {
      "text/plain": [
       "msa                  4816\n",
       "super_conforming    17471\n",
       "prr_loan_seq_num    17471\n",
       "rr_indicator        17471\n",
       "dtype: int64"
      ]
     },
     "execution_count": 109,
     "metadata": {},
     "output_type": "execute_result"
    }
   ],
   "source": [
    "\"\"\"of course we should search for the missing data overall\"\"\"\n",
    "missing_data = final_dataset.isna().sum()\n",
    "missing_data = missing_data[missing_data > 0]\n",
    "missing_data"
   ]
  },
  {
   "cell_type": "markdown",
   "metadata": {},
   "source": [
    "**COMMENTS**\n",
    "\n",
    "So based on the results above, clearly we can get rid of at least `msa`, `super_conforming`, `prr_loan_seq_num`, `rr_indicator` columns."
   ]
  },
  {
   "cell_type": "markdown",
   "metadata": {},
   "source": [
    "### Exercise 9\n",
    "\n",
    "For your analysis, include the following variables: \n",
    "\n",
    "```\n",
    "Credit Score\n",
    "First Time Homebuyer Flag\n",
    "Number of Units\n",
    "Mortgage Insurance Percentage (MI %)\n",
    "Occupancy Status\n",
    "Original Debt-to-Income (DTI) Ratio\n",
    "Original UPB\n",
    "Original Loan-to-Value (LTV)\n",
    "Original Interest Rate\n",
    "Channel\n",
    "Prepayment Penalty Mortgage (PPM) Flag\n",
    "Amortization Type (Formerly Product Type)\n",
    "Property State\n",
    "Property Type\n",
    "Original Loan Term\n",
    "Number of Borrowers\n",
    "Interest Only (I/O) Indicator\n",
    "```\n",
    "\n",
    "Be sure to clean these variables. When doing so, please treat missing data as missing (e.g., `np.nan`, not as a distinct category)."
   ]
  },
  {
   "cell_type": "code",
   "execution_count": 110,
   "metadata": {},
   "outputs": [
    {
     "data": {
      "text/html": [
       "<div>\n",
       "<style scoped>\n",
       "    .dataframe tbody tr th:only-of-type {\n",
       "        vertical-align: middle;\n",
       "    }\n",
       "\n",
       "    .dataframe tbody tr th {\n",
       "        vertical-align: top;\n",
       "    }\n",
       "\n",
       "    .dataframe thead th {\n",
       "        text-align: right;\n",
       "    }\n",
       "</style>\n",
       "<table border=\"1\" class=\"dataframe\">\n",
       "  <thead>\n",
       "    <tr style=\"text-align: right;\">\n",
       "      <th></th>\n",
       "      <th>credit_score</th>\n",
       "      <th>first_time_buyer</th>\n",
       "      <th>num_of_units</th>\n",
       "      <th>mi_percent</th>\n",
       "      <th>occupancy_status</th>\n",
       "      <th>original_dti_ratio</th>\n",
       "      <th>original_upb</th>\n",
       "      <th>original_ltv</th>\n",
       "      <th>original_interest_rt</th>\n",
       "      <th>channel</th>\n",
       "      <th>ppm_flag</th>\n",
       "      <th>amortization_type</th>\n",
       "      <th>property_state</th>\n",
       "      <th>property_type</th>\n",
       "      <th>original_loan_term</th>\n",
       "      <th>num_borrowers</th>\n",
       "      <th>io_indicator</th>\n",
       "      <th>loan_seq_num</th>\n",
       "      <th>delinq_index</th>\n",
       "    </tr>\n",
       "  </thead>\n",
       "  <tbody>\n",
       "    <tr>\n",
       "      <th>71</th>\n",
       "      <td>653</td>\n",
       "      <td>Y</td>\n",
       "      <td>1</td>\n",
       "      <td>17</td>\n",
       "      <td>P</td>\n",
       "      <td>25</td>\n",
       "      <td>127000</td>\n",
       "      <td>87</td>\n",
       "      <td>6.050</td>\n",
       "      <td>R</td>\n",
       "      <td>N</td>\n",
       "      <td>FRM</td>\n",
       "      <td>WI</td>\n",
       "      <td>SF</td>\n",
       "      <td>360</td>\n",
       "      <td>2</td>\n",
       "      <td>N</td>\n",
       "      <td>F04Q10000054</td>\n",
       "      <td>0</td>\n",
       "    </tr>\n",
       "    <tr>\n",
       "      <th>106</th>\n",
       "      <td>747</td>\n",
       "      <td>N</td>\n",
       "      <td>2</td>\n",
       "      <td>0</td>\n",
       "      <td>I</td>\n",
       "      <td>34</td>\n",
       "      <td>121000</td>\n",
       "      <td>70</td>\n",
       "      <td>6.125</td>\n",
       "      <td>R</td>\n",
       "      <td>N</td>\n",
       "      <td>FRM</td>\n",
       "      <td>NE</td>\n",
       "      <td>PU</td>\n",
       "      <td>360</td>\n",
       "      <td>1</td>\n",
       "      <td>N</td>\n",
       "      <td>F04Q10000200</td>\n",
       "      <td>0</td>\n",
       "    </tr>\n",
       "    <tr>\n",
       "      <th>141</th>\n",
       "      <td>731</td>\n",
       "      <td>N</td>\n",
       "      <td>1</td>\n",
       "      <td>0</td>\n",
       "      <td>P</td>\n",
       "      <td>40</td>\n",
       "      <td>286000</td>\n",
       "      <td>80</td>\n",
       "      <td>5.125</td>\n",
       "      <td>T</td>\n",
       "      <td>N</td>\n",
       "      <td>FRM</td>\n",
       "      <td>IL</td>\n",
       "      <td>PU</td>\n",
       "      <td>180</td>\n",
       "      <td>2</td>\n",
       "      <td>N</td>\n",
       "      <td>F04Q10000236</td>\n",
       "      <td>0</td>\n",
       "    </tr>\n",
       "    <tr>\n",
       "      <th>281</th>\n",
       "      <td>682</td>\n",
       "      <td>N</td>\n",
       "      <td>1</td>\n",
       "      <td>0</td>\n",
       "      <td>P</td>\n",
       "      <td>30</td>\n",
       "      <td>114000</td>\n",
       "      <td>80</td>\n",
       "      <td>5.500</td>\n",
       "      <td>R</td>\n",
       "      <td>N</td>\n",
       "      <td>FRM</td>\n",
       "      <td>IN</td>\n",
       "      <td>SF</td>\n",
       "      <td>180</td>\n",
       "      <td>2</td>\n",
       "      <td>N</td>\n",
       "      <td>F04Q10000281</td>\n",
       "      <td>0</td>\n",
       "    </tr>\n",
       "    <tr>\n",
       "      <th>316</th>\n",
       "      <td>730</td>\n",
       "      <td>N</td>\n",
       "      <td>1</td>\n",
       "      <td>0</td>\n",
       "      <td>P</td>\n",
       "      <td>30</td>\n",
       "      <td>132000</td>\n",
       "      <td>80</td>\n",
       "      <td>5.750</td>\n",
       "      <td>R</td>\n",
       "      <td>N</td>\n",
       "      <td>FRM</td>\n",
       "      <td>CO</td>\n",
       "      <td>SF</td>\n",
       "      <td>360</td>\n",
       "      <td>1</td>\n",
       "      <td>N</td>\n",
       "      <td>F04Q10000296</td>\n",
       "      <td>0</td>\n",
       "    </tr>\n",
       "    <tr>\n",
       "      <th>...</th>\n",
       "      <td>...</td>\n",
       "      <td>...</td>\n",
       "      <td>...</td>\n",
       "      <td>...</td>\n",
       "      <td>...</td>\n",
       "      <td>...</td>\n",
       "      <td>...</td>\n",
       "      <td>...</td>\n",
       "      <td>...</td>\n",
       "      <td>...</td>\n",
       "      <td>...</td>\n",
       "      <td>...</td>\n",
       "      <td>...</td>\n",
       "      <td>...</td>\n",
       "      <td>...</td>\n",
       "      <td>...</td>\n",
       "      <td>...</td>\n",
       "      <td>...</td>\n",
       "      <td>...</td>\n",
       "    </tr>\n",
       "    <tr>\n",
       "      <th>1287115</th>\n",
       "      <td>790</td>\n",
       "      <td>N</td>\n",
       "      <td>1</td>\n",
       "      <td>0</td>\n",
       "      <td>S</td>\n",
       "      <td>30</td>\n",
       "      <td>34000</td>\n",
       "      <td>80</td>\n",
       "      <td>6.625</td>\n",
       "      <td>R</td>\n",
       "      <td>N</td>\n",
       "      <td>FRM</td>\n",
       "      <td>WV</td>\n",
       "      <td>CO</td>\n",
       "      <td>180</td>\n",
       "      <td>2</td>\n",
       "      <td>N</td>\n",
       "      <td>F04Q40400028</td>\n",
       "      <td>0</td>\n",
       "    </tr>\n",
       "    <tr>\n",
       "      <th>1287119</th>\n",
       "      <td>609</td>\n",
       "      <td>N</td>\n",
       "      <td>1</td>\n",
       "      <td>0</td>\n",
       "      <td>P</td>\n",
       "      <td>21</td>\n",
       "      <td>283000</td>\n",
       "      <td>74</td>\n",
       "      <td>6.000</td>\n",
       "      <td>R</td>\n",
       "      <td>N</td>\n",
       "      <td>FRM</td>\n",
       "      <td>FL</td>\n",
       "      <td>PU</td>\n",
       "      <td>360</td>\n",
       "      <td>2</td>\n",
       "      <td>N</td>\n",
       "      <td>F04Q40400034</td>\n",
       "      <td>0</td>\n",
       "    </tr>\n",
       "    <tr>\n",
       "      <th>1287127</th>\n",
       "      <td>805</td>\n",
       "      <td>N</td>\n",
       "      <td>1</td>\n",
       "      <td>12</td>\n",
       "      <td>P</td>\n",
       "      <td>33</td>\n",
       "      <td>225000</td>\n",
       "      <td>85</td>\n",
       "      <td>6.375</td>\n",
       "      <td>R</td>\n",
       "      <td>N</td>\n",
       "      <td>FRM</td>\n",
       "      <td>OH</td>\n",
       "      <td>CO</td>\n",
       "      <td>360</td>\n",
       "      <td>1</td>\n",
       "      <td>N</td>\n",
       "      <td>F04Q40400050</td>\n",
       "      <td>0</td>\n",
       "    </tr>\n",
       "    <tr>\n",
       "      <th>1287131</th>\n",
       "      <td>736</td>\n",
       "      <td>N</td>\n",
       "      <td>1</td>\n",
       "      <td>0</td>\n",
       "      <td>S</td>\n",
       "      <td>7</td>\n",
       "      <td>350000</td>\n",
       "      <td>56</td>\n",
       "      <td>5.625</td>\n",
       "      <td>R</td>\n",
       "      <td>N</td>\n",
       "      <td>FRM</td>\n",
       "      <td>FL</td>\n",
       "      <td>PU</td>\n",
       "      <td>180</td>\n",
       "      <td>2</td>\n",
       "      <td>N</td>\n",
       "      <td>F04Q40400054</td>\n",
       "      <td>0</td>\n",
       "    </tr>\n",
       "    <tr>\n",
       "      <th>1287159</th>\n",
       "      <td>745</td>\n",
       "      <td>Y</td>\n",
       "      <td>1</td>\n",
       "      <td>0</td>\n",
       "      <td>P</td>\n",
       "      <td>34</td>\n",
       "      <td>74000</td>\n",
       "      <td>80</td>\n",
       "      <td>5.875</td>\n",
       "      <td>R</td>\n",
       "      <td>N</td>\n",
       "      <td>FRM</td>\n",
       "      <td>MI</td>\n",
       "      <td>SF</td>\n",
       "      <td>360</td>\n",
       "      <td>1</td>\n",
       "      <td>N</td>\n",
       "      <td>F04Q40400374</td>\n",
       "      <td>0</td>\n",
       "    </tr>\n",
       "  </tbody>\n",
       "</table>\n",
       "<p>17471 rows × 19 columns</p>\n",
       "</div>"
      ],
      "text/plain": [
       "         credit_score first_time_buyer  num_of_units  mi_percent  \\\n",
       "71                653                Y             1          17   \n",
       "106               747                N             2           0   \n",
       "141               731                N             1           0   \n",
       "281               682                N             1           0   \n",
       "316               730                N             1           0   \n",
       "...               ...              ...           ...         ...   \n",
       "1287115           790                N             1           0   \n",
       "1287119           609                N             1           0   \n",
       "1287127           805                N             1          12   \n",
       "1287131           736                N             1           0   \n",
       "1287159           745                Y             1           0   \n",
       "\n",
       "        occupancy_status  original_dti_ratio  original_upb  original_ltv  \\\n",
       "71                     P                  25        127000            87   \n",
       "106                    I                  34        121000            70   \n",
       "141                    P                  40        286000            80   \n",
       "281                    P                  30        114000            80   \n",
       "316                    P                  30        132000            80   \n",
       "...                  ...                 ...           ...           ...   \n",
       "1287115                S                  30         34000            80   \n",
       "1287119                P                  21        283000            74   \n",
       "1287127                P                  33        225000            85   \n",
       "1287131                S                   7        350000            56   \n",
       "1287159                P                  34         74000            80   \n",
       "\n",
       "         original_interest_rt channel ppm_flag amortization_type  \\\n",
       "71                      6.050       R        N               FRM   \n",
       "106                     6.125       R        N               FRM   \n",
       "141                     5.125       T        N               FRM   \n",
       "281                     5.500       R        N               FRM   \n",
       "316                     5.750       R        N               FRM   \n",
       "...                       ...     ...      ...               ...   \n",
       "1287115                 6.625       R        N               FRM   \n",
       "1287119                 6.000       R        N               FRM   \n",
       "1287127                 6.375       R        N               FRM   \n",
       "1287131                 5.625       R        N               FRM   \n",
       "1287159                 5.875       R        N               FRM   \n",
       "\n",
       "        property_state property_type  original_loan_term  num_borrowers  \\\n",
       "71                  WI            SF                 360              2   \n",
       "106                 NE            PU                 360              1   \n",
       "141                 IL            PU                 180              2   \n",
       "281                 IN            SF                 180              2   \n",
       "316                 CO            SF                 360              1   \n",
       "...                ...           ...                 ...            ...   \n",
       "1287115             WV            CO                 180              2   \n",
       "1287119             FL            PU                 360              2   \n",
       "1287127             OH            CO                 360              1   \n",
       "1287131             FL            PU                 180              2   \n",
       "1287159             MI            SF                 360              1   \n",
       "\n",
       "        io_indicator  loan_seq_num  delinq_index  \n",
       "71                 N  F04Q10000054             0  \n",
       "106                N  F04Q10000200             0  \n",
       "141                N  F04Q10000236             0  \n",
       "281                N  F04Q10000281             0  \n",
       "316                N  F04Q10000296             0  \n",
       "...              ...           ...           ...  \n",
       "1287115            N  F04Q40400028             0  \n",
       "1287119            N  F04Q40400034             0  \n",
       "1287127            N  F04Q40400050             0  \n",
       "1287131            N  F04Q40400054             0  \n",
       "1287159            N  F04Q40400374             0  \n",
       "\n",
       "[17471 rows x 19 columns]"
      ]
     },
     "execution_count": 110,
     "metadata": {},
     "output_type": "execute_result"
    }
   ],
   "source": [
    "# here we again subset including the variables mentioned above \n",
    "## + 2 columns with loan sequence number and delinquency indicator\n",
    "narrow_columns = ['credit_score', 'first_time_buyer', 'num_of_units', 'mi_percent', 'occupancy_status', \n",
    "                  'original_dti_ratio', 'original_upb', 'original_ltv', 'original_interest_rt', 'channel', \n",
    "                  'ppm_flag', 'amortization_type', 'property_state', 'property_type', 'original_loan_term', \n",
    "                  'num_borrowers', 'io_indicator', 'loan_seq_num', 'delinq_index']\n",
    "\n",
    "narrow_dataset = final_dataset[narrow_columns]\n",
    "narrow_dataset"
   ]
  },
  {
   "cell_type": "code",
   "execution_count": 111,
   "metadata": {},
   "outputs": [
    {
     "name": "stdout",
     "output_type": "stream",
     "text": [
      "<class 'pandas.core.frame.DataFrame'>\n",
      "Index: 17471 entries, 71 to 1287159\n",
      "Data columns (total 19 columns):\n",
      " #   Column                Non-Null Count  Dtype  \n",
      "---  ------                --------------  -----  \n",
      " 0   credit_score          17471 non-null  int64  \n",
      " 1   first_time_buyer      17471 non-null  object \n",
      " 2   num_of_units          17471 non-null  int64  \n",
      " 3   mi_percent            17471 non-null  int64  \n",
      " 4   occupancy_status      17471 non-null  object \n",
      " 5   original_dti_ratio    17471 non-null  int64  \n",
      " 6   original_upb          17471 non-null  int64  \n",
      " 7   original_ltv          17471 non-null  int64  \n",
      " 8   original_interest_rt  17471 non-null  float64\n",
      " 9   channel               17471 non-null  object \n",
      " 10  ppm_flag              17471 non-null  object \n",
      " 11  amortization_type     17471 non-null  object \n",
      " 12  property_state        17471 non-null  object \n",
      " 13  property_type         17471 non-null  object \n",
      " 14  original_loan_term    17471 non-null  int64  \n",
      " 15  num_borrowers         17471 non-null  int64  \n",
      " 16  io_indicator          17471 non-null  object \n",
      " 17  loan_seq_num          17471 non-null  object \n",
      " 18  delinq_index          17471 non-null  int64  \n",
      "dtypes: float64(1), int64(9), object(9)\n",
      "memory usage: 2.7+ MB\n",
      "None\n"
     ]
    }
   ],
   "source": [
    "# get to know the narrow dataset better\n",
    "print(narrow_dataset.info())"
   ]
  },
  {
   "cell_type": "markdown",
   "metadata": {},
   "source": [
    "**Below you can see a long but special cleaning treatment to each variable**"
   ]
  },
  {
   "cell_type": "code",
   "execution_count": 112,
   "metadata": {},
   "outputs": [],
   "source": [
    "import numpy as np \n",
    "\n",
    "narrow_dataset['credit_score'] = narrow_dataset['credit_score'].replace(9999, np.nan)"
   ]
  },
  {
   "cell_type": "code",
   "execution_count": 113,
   "metadata": {},
   "outputs": [],
   "source": [
    "narrow_dataset['first_time_buyer'] = narrow_dataset['first_time_buyer'].replace('9', np.nan)"
   ]
  },
  {
   "cell_type": "code",
   "execution_count": 114,
   "metadata": {},
   "outputs": [],
   "source": [
    "narrow_dataset['num_of_units'] = narrow_dataset['num_of_units'].replace(99, np.nan)"
   ]
  },
  {
   "cell_type": "code",
   "execution_count": 115,
   "metadata": {},
   "outputs": [],
   "source": [
    "narrow_dataset['mi_percent'] = narrow_dataset['mi_percent'].replace(999, np.nan)"
   ]
  },
  {
   "cell_type": "code",
   "execution_count": 116,
   "metadata": {},
   "outputs": [
    {
     "name": "stdout",
     "output_type": "stream",
     "text": [
      "['P' 'I' 'S']\n"
     ]
    }
   ],
   "source": [
    "print(narrow_dataset['occupancy_status'].unique())"
   ]
  },
  {
   "cell_type": "code",
   "execution_count": 117,
   "metadata": {},
   "outputs": [],
   "source": [
    "narrow_dataset['original_dti_ratio'] = narrow_dataset['original_dti_ratio'].replace(999, np.nan)"
   ]
  },
  {
   "cell_type": "code",
   "execution_count": 118,
   "metadata": {},
   "outputs": [
    {
     "name": "stdout",
     "output_type": "stream",
     "text": [
      "[ 87  70  80  24  73  72  51  56  90 100  53  75  68  97  66  59  37  95\n",
      "  77  60  74  94  55  64  85  52  57  50  78  58  79  69  31  76  35  47\n",
      "  92  88  41  62  71  48  39  63  67  89  44  65  93  54  86  25  36  91\n",
      "  34  26  22  29  49  40  46  20  43  11  61  42  30  83  32  82  38  28\n",
      "  27  18  33  16  45  15  84  21  14  19  99  96  13   9  98  23  10  12\n",
      "  17  81   6]\n",
      "93\n"
     ]
    }
   ],
   "source": [
    "print(narrow_dataset['original_ltv'].unique())\n",
    "print(narrow_dataset['original_ltv'].nunique())"
   ]
  },
  {
   "cell_type": "code",
   "execution_count": 119,
   "metadata": {},
   "outputs": [],
   "source": [
    "narrow_dataset['property_type'] = narrow_dataset['property_type'].replace('99', np.nan)"
   ]
  },
  {
   "cell_type": "code",
   "execution_count": 120,
   "metadata": {},
   "outputs": [],
   "source": [
    "narrow_dataset['num_borrowers'] = narrow_dataset['num_borrowers'].replace(99, np.nan)"
   ]
  },
  {
   "cell_type": "code",
   "execution_count": 121,
   "metadata": {},
   "outputs": [
    {
     "name": "stdout",
     "output_type": "stream",
     "text": [
      "['N']\n"
     ]
    }
   ],
   "source": [
    "print(narrow_dataset['io_indicator'].unique())"
   ]
  },
  {
   "cell_type": "code",
   "execution_count": 122,
   "metadata": {},
   "outputs": [
    {
     "name": "stdout",
     "output_type": "stream",
     "text": [
      "['N']\n"
     ]
    }
   ],
   "source": [
    "print(narrow_dataset['io_indicator'].unique())"
   ]
  },
  {
   "cell_type": "code",
   "execution_count": 123,
   "metadata": {},
   "outputs": [
    {
     "name": "stdout",
     "output_type": "stream",
     "text": [
      "credit_score             40\n",
      "first_time_buyer          7\n",
      "num_of_units              3\n",
      "mi_percent                2\n",
      "occupancy_status          0\n",
      "original_dti_ratio      363\n",
      "original_upb              0\n",
      "original_ltv              0\n",
      "original_interest_rt      0\n",
      "channel                   0\n",
      "ppm_flag                  0\n",
      "amortization_type         0\n",
      "property_state            0\n",
      "property_type             5\n",
      "original_loan_term        0\n",
      "num_borrowers             7\n",
      "io_indicator              0\n",
      "loan_seq_num              0\n",
      "delinq_index              0\n",
      "dtype: int64\n"
     ]
    }
   ],
   "source": [
    "print(narrow_dataset.isna().sum())"
   ]
  },
  {
   "cell_type": "markdown",
   "metadata": {},
   "source": [
    "### Exercise 10\n",
    "\n",
    "The next step in our analysis is to convert our categorical variables to one-hot-encodings and use `train_test_split` to split our data.\n",
    "\n",
    "To ensure replicability, **before** you `train_test_split` your data, please sort your data by `Loan Sequence Number`. This will ensure when we split the data with a random seed below, everyone will get the same split and the autograder will function.\n",
    "\n",
    "You may create your one-hot-encodings however you wish, but I'm a fan of the [patsy library's](https://patsy.readthedocs.io/en/latest/overview.html) `dmatrices` function.\n",
    "\n",
    "Hint: You should end up with 8 categorical variables, including some binary flags and `Number_of_Borrowers`, `Number_of_Units` (which you could argue should be continuous, but I think are better treated as categorical).\n",
    "\n",
    "Store the number of observations in your final dataset in `ex10_num_obs`."
   ]
  },
  {
   "cell_type": "code",
   "execution_count": 124,
   "metadata": {},
   "outputs": [],
   "source": [
    "# Step 1. To ensure the replicability, before we split data into train \n",
    "## and test datasets, let's sort our data by Loan Sequence Number\n",
    "\n",
    "narrow_dataset_sorted = narrow_dataset.sort_values(by=\"loan_seq_num\")"
   ]
  },
  {
   "cell_type": "code",
   "execution_count": 128,
   "metadata": {},
   "outputs": [],
   "source": [
    "import patsy as patsy\n",
    "from patsy import dmatrices\n",
    "\n",
    "# Step 2. usage of dmatrices\n",
    "formula_parts = (\n",
    "    \"delinq_index ~ \"\n",
    "    \"C(first_time_buyer) + \"\n",
    "    \"C(num_of_units) + \"\n",
    "    \"C(occupancy_status) + \"\n",
    "    \"C(channel) + \"\n",
    "    \"C(ppm_flag) + \"\n",
    "    \"C(amortization_type) + \"\n",
    "    \"C(property_state) + \"\n",
    "    \"C(property_type) + \"\n",
    "    \"C(num_borrowers) + \"\n",
    "    \"C(io_indicator) + \"\n",
    "    \"credit_score + \"\n",
    "    \"mi_percent + \"\n",
    "    \"original_dti_ratio + \"\n",
    "    \"original_upb + \"\n",
    "    \"original_ltv + \"\n",
    "    \"original_interest_rt + \"\n",
    "    \"original_loan_term\"\n",
    ")\n",
    "\n",
    "y, X = patsy.dmatrices(formula_parts, data=narrow_dataset_sorted, return_type=\"dataframe\")\n",
    "\n",
    "ex10_num_obs = y.shape[0]\n",
    "results[\"ex10_num_obs\"] = ex10_num_obs"
   ]
  },
  {
   "cell_type": "code",
   "execution_count": 129,
   "metadata": {},
   "outputs": [
    {
     "name": "stdout",
     "output_type": "stream",
     "text": [
      "The number of observations in our final dataset is 17052\n"
     ]
    }
   ],
   "source": [
    "print(f'The number of observations in our final dataset is {ex10_num_obs}')"
   ]
  },
  {
   "cell_type": "markdown",
   "metadata": {},
   "source": [
    "### Exercise 11\n",
    "\n",
    "Use `train_test_split` from `sklearn.model_selection` to split the data. \n",
    "\n",
    "Before you do, Use `0.2` as the `test_size` and use `random_state=42`."
   ]
  },
  {
   "cell_type": "code",
   "execution_count": 130,
   "metadata": {},
   "outputs": [],
   "source": [
    "from sklearn.model_selection import train_test_split\n",
    "\n",
    "X_train, X_test, y_train, y_test = train_test_split(X, y, test_size=0.2, random_state=42)"
   ]
  },
  {
   "cell_type": "markdown",
   "metadata": {},
   "source": [
    "### Exercise 12\n",
    "\n",
    "Now fit a `GradientBoostingClassifier` to the data (from `sklearn.ensemble`). Set `random_state=42`. using `roc_auc_score`, get your ROC AUC score against the test data. Store in `results` under the key `\"ex12_roc_auc\"`."
   ]
  },
  {
   "cell_type": "code",
   "execution_count": 132,
   "metadata": {},
   "outputs": [],
   "source": [
    "from sklearn.ensemble import GradientBoostingClassifier\n",
    "from sklearn.metrics import roc_auc_score\n",
    "\n",
    "gradiend_boosting = GradientBoostingClassifier(random_state=42)\n",
    "gradiend_boosting.fit(X_train, y_train)\n",
    "\n",
    "y_pred_proba = gradiend_boosting.predict_proba(X_test)[:, 1]\n",
    "roc_auc_sc = roc_auc_score(y_test, y_pred_proba)\n",
    "\n",
    "results[\"ex12_roc_auc\"] = roc_auc_sc"
   ]
  },
  {
   "cell_type": "markdown",
   "metadata": {},
   "source": [
    "### Exercise 13\n",
    "\n",
    "Use the `predict` method to generate a confusion matrix. What problem do you see with the result?"
   ]
  },
  {
   "cell_type": "code",
   "execution_count": 134,
   "metadata": {},
   "outputs": [
    {
     "data": {
      "text/html": [
       "<div>\n",
       "<style scoped>\n",
       "    .dataframe tbody tr th:only-of-type {\n",
       "        vertical-align: middle;\n",
       "    }\n",
       "\n",
       "    .dataframe tbody tr th {\n",
       "        vertical-align: top;\n",
       "    }\n",
       "\n",
       "    .dataframe thead th {\n",
       "        text-align: right;\n",
       "    }\n",
       "</style>\n",
       "<table border=\"1\" class=\"dataframe\">\n",
       "  <thead>\n",
       "    <tr style=\"text-align: right;\">\n",
       "      <th></th>\n",
       "      <th>Predicted non-delinquent</th>\n",
       "      <th>Predicted delinquent</th>\n",
       "    </tr>\n",
       "  </thead>\n",
       "  <tbody>\n",
       "    <tr>\n",
       "      <th>Actual non-delinquent</th>\n",
       "      <td>3146</td>\n",
       "      <td>9</td>\n",
       "    </tr>\n",
       "    <tr>\n",
       "      <th>Actual delinquent</th>\n",
       "      <td>252</td>\n",
       "      <td>4</td>\n",
       "    </tr>\n",
       "  </tbody>\n",
       "</table>\n",
       "</div>"
      ],
      "text/plain": [
       "                       Predicted non-delinquent  Predicted delinquent\n",
       "Actual non-delinquent                      3146                     9\n",
       "Actual delinquent                           252                     4"
      ]
     },
     "execution_count": 134,
     "metadata": {},
     "output_type": "execute_result"
    }
   ],
   "source": [
    "from sklearn.metrics import confusion_matrix\n",
    "\n",
    "y_predict = gradiend_boosting.predict(X_test)\n",
    "\n",
    "\"\"\"Confusion Matrix\"\"\"\n",
    "confusion_matrix = confusion_matrix(y_test, y_predict)\n",
    "\n",
    "df_c_matrix = pd.DataFrame(confusion_matrix, index=[\"Actual non-delinquent\", \"Actual delinquent\"], columns=[\"Predicted non-delinquent\", \"Predicted delinquent\"])\n",
    "df_c_matrix"
   ]
  },
  {
   "cell_type": "markdown",
   "metadata": {},
   "source": [
    "### Exercise 14\n",
    "\n",
    "To address the problem from Exercise 13, use `.predict_proba()` to set your own threshold for classification. Your stakeholder is mostly concerned with False Negatives (mortgages classified as safe that actually are not), so use a 8% probability threshold to get a good balance of a low False Negative rate with a reasonable amount of mortgages still being considered \"viable.\"\n",
    "\n",
    "What is the False Negative rate at an 8% classification threshold from the model above?\n",
    "\n",
    "Store the result under the key `\"ex14_false_negative_rate\"`."
   ]
  },
  {
   "cell_type": "markdown",
   "metadata": {},
   "source": [
    "### Exercise 15\n",
    "\n",
    "Your stakeholder wants to by as many mortgages as it can while maintaining a delinquency rate of purchased mortgages below 5%. Based on your answer above, do you feel like your model can provide that level of performance?"
   ]
  },
  {
   "cell_type": "markdown",
   "metadata": {},
   "source": [
    "## Now To The Future\n",
    "\n",
    "The preceding analysis is precisely the type of analysis you would do if, in late 2006, you'd been asked to evaluate mortgage performance in the last two years for use going forward. So let's see how your model performs now!\n",
    "\n",
    "In this [folder](https://github.com/nickeubank/MIDS_Data/tree/master/mortgages/2007) you will find data on mortgages originated in 2007 along with servicing data from 2007, 2008, and 2009.\n",
    "\n",
    "### Exercise 16\n",
    "\n",
    "Please load this data (again, from a URL to help the autograder) and clean it in the same manner as before. As a sanity check, how many observations do you have in the final dataset (after you've removed observations with missing values to allow you to generate predicted delinquency rates)? \n",
    "\n",
    "Store the final number of observations in `\"ex16_num_obs\"` and the share of those mortgages that are delinquent in `\"ex16_share_delinquent\"`\n"
   ]
  },
  {
   "cell_type": "markdown",
   "metadata": {},
   "source": [
    "### Exercise 17\n",
    "\n",
    "\n"
   ]
  },
  {
   "cell_type": "markdown",
   "metadata": {},
   "source": [
    "Had your stakeholder purchased mortgages using your model, what would the resulting False Negative rate have been? (e.g., compare the predicted values for mortgages using the model trained above with realized outcomes). Store your result under the key `\"ex17_false_negative_rate\"`\n"
   ]
  },
  {
   "cell_type": "markdown",
   "metadata": {},
   "source": [
    "### Exercise 18\n",
    "\n",
    "How did the retrospective performance of your model compare to its actual performance moving forward? Why? Did you stay below the 5% target for False Negatives set by the stakeholder?"
   ]
  }
 ],
 "metadata": {
  "kernelspec": {
   "display_name": "dask_env",
   "language": "python",
   "name": "python3"
  },
  "language_info": {
   "codemirror_mode": {
    "name": "ipython",
    "version": 3
   },
   "file_extension": ".py",
   "mimetype": "text/x-python",
   "name": "python",
   "nbconvert_exporter": "python",
   "pygments_lexer": "ipython3",
   "version": "3.10.13"
  }
 },
 "nbformat": 4,
 "nbformat_minor": 2
}
